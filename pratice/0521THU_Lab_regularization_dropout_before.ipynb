{
  "nbformat": 4,
  "nbformat_minor": 0,
  "metadata": {
    "colab": {
      "name": "0521THU_Lab-regularization-dropout-before.ipynb",
      "provenance": [],
      "collapsed_sections": [],
      "include_colab_link": true
    },
    "kernelspec": {
      "name": "python3",
      "display_name": "Python 3"
    },
    "accelerator": "GPU"
  },
  "cells": [
    {
      "cell_type": "markdown",
      "metadata": {
        "id": "view-in-github",
        "colab_type": "text"
      },
      "source": [
        "<a href=\"https://colab.research.google.com/github/jaedeokhan/20_1_AI_Introduce/blob/master/pratice/0521THU_Lab_regularization_dropout_before.ipynb\" target=\"_parent\"><img src=\"https://colab.research.google.com/assets/colab-badge.svg\" alt=\"Open In Colab\"/></a>"
      ]
    },
    {
      "cell_type": "code",
      "metadata": {
        "id": "h3rx_9pBN3su",
        "colab_type": "code",
        "outputId": "400183f4-7ae1-4fc0-cb22-c6e49b49ac08",
        "colab": {
          "base_uri": "https://localhost:8080/",
          "height": 1000
        }
      },
      "source": [
        "pip install tensorflow_gpu==2.0.0"
      ],
      "execution_count": 1,
      "outputs": [
        {
          "output_type": "stream",
          "text": [
            "Collecting tensorflow_gpu==2.0.0\n",
            "\u001b[?25l  Downloading https://files.pythonhosted.org/packages/25/44/47f0722aea081697143fbcf5d2aa60d1aee4aaacb5869aee2b568974777b/tensorflow_gpu-2.0.0-cp36-cp36m-manylinux2010_x86_64.whl (380.8MB)\n",
            "\u001b[K     |████████████████████████████████| 380.8MB 47kB/s \n",
            "\u001b[?25hRequirement already satisfied: google-pasta>=0.1.6 in /usr/local/lib/python3.6/dist-packages (from tensorflow_gpu==2.0.0) (0.2.0)\n",
            "Collecting tensorboard<2.1.0,>=2.0.0\n",
            "\u001b[?25l  Downloading https://files.pythonhosted.org/packages/76/54/99b9d5d52d5cb732f099baaaf7740403e83fe6b0cedde940fabd2b13d75a/tensorboard-2.0.2-py3-none-any.whl (3.8MB)\n",
            "\u001b[K     |████████████████████████████████| 3.8MB 31.0MB/s \n",
            "\u001b[?25hRequirement already satisfied: keras-preprocessing>=1.0.5 in /usr/local/lib/python3.6/dist-packages (from tensorflow_gpu==2.0.0) (1.1.2)\n",
            "Requirement already satisfied: grpcio>=1.8.6 in /usr/local/lib/python3.6/dist-packages (from tensorflow_gpu==2.0.0) (1.29.0)\n",
            "Requirement already satisfied: astor>=0.6.0 in /usr/local/lib/python3.6/dist-packages (from tensorflow_gpu==2.0.0) (0.8.1)\n",
            "Requirement already satisfied: wrapt>=1.11.1 in /usr/local/lib/python3.6/dist-packages (from tensorflow_gpu==2.0.0) (1.12.1)\n",
            "Requirement already satisfied: absl-py>=0.7.0 in /usr/local/lib/python3.6/dist-packages (from tensorflow_gpu==2.0.0) (0.9.0)\n",
            "Requirement already satisfied: numpy<2.0,>=1.16.0 in /usr/local/lib/python3.6/dist-packages (from tensorflow_gpu==2.0.0) (1.18.4)\n",
            "Collecting gast==0.2.2\n",
            "  Downloading https://files.pythonhosted.org/packages/4e/35/11749bf99b2d4e3cceb4d55ca22590b0d7c2c62b9de38ac4a4a7f4687421/gast-0.2.2.tar.gz\n",
            "Requirement already satisfied: six>=1.10.0 in /usr/local/lib/python3.6/dist-packages (from tensorflow_gpu==2.0.0) (1.12.0)\n",
            "Requirement already satisfied: termcolor>=1.1.0 in /usr/local/lib/python3.6/dist-packages (from tensorflow_gpu==2.0.0) (1.1.0)\n",
            "Requirement already satisfied: opt-einsum>=2.3.2 in /usr/local/lib/python3.6/dist-packages (from tensorflow_gpu==2.0.0) (3.2.1)\n",
            "Requirement already satisfied: protobuf>=3.6.1 in /usr/local/lib/python3.6/dist-packages (from tensorflow_gpu==2.0.0) (3.10.0)\n",
            "Requirement already satisfied: wheel>=0.26 in /usr/local/lib/python3.6/dist-packages (from tensorflow_gpu==2.0.0) (0.34.2)\n",
            "Collecting tensorflow-estimator<2.1.0,>=2.0.0\n",
            "\u001b[?25l  Downloading https://files.pythonhosted.org/packages/fc/08/8b927337b7019c374719145d1dceba21a8bb909b93b1ad6f8fb7d22c1ca1/tensorflow_estimator-2.0.1-py2.py3-none-any.whl (449kB)\n",
            "\u001b[K     |████████████████████████████████| 450kB 38.3MB/s \n",
            "\u001b[?25hRequirement already satisfied: keras-applications>=1.0.8 in /usr/local/lib/python3.6/dist-packages (from tensorflow_gpu==2.0.0) (1.0.8)\n",
            "Requirement already satisfied: setuptools>=41.0.0 in /usr/local/lib/python3.6/dist-packages (from tensorboard<2.1.0,>=2.0.0->tensorflow_gpu==2.0.0) (46.3.0)\n",
            "Requirement already satisfied: markdown>=2.6.8 in /usr/local/lib/python3.6/dist-packages (from tensorboard<2.1.0,>=2.0.0->tensorflow_gpu==2.0.0) (3.2.2)\n",
            "Requirement already satisfied: google-auth<2,>=1.6.3 in /usr/local/lib/python3.6/dist-packages (from tensorboard<2.1.0,>=2.0.0->tensorflow_gpu==2.0.0) (1.7.2)\n",
            "Requirement already satisfied: google-auth-oauthlib<0.5,>=0.4.1 in /usr/local/lib/python3.6/dist-packages (from tensorboard<2.1.0,>=2.0.0->tensorflow_gpu==2.0.0) (0.4.1)\n",
            "Requirement already satisfied: werkzeug>=0.11.15 in /usr/local/lib/python3.6/dist-packages (from tensorboard<2.1.0,>=2.0.0->tensorflow_gpu==2.0.0) (1.0.1)\n",
            "Requirement already satisfied: requests<3,>=2.21.0 in /usr/local/lib/python3.6/dist-packages (from tensorboard<2.1.0,>=2.0.0->tensorflow_gpu==2.0.0) (2.23.0)\n",
            "Requirement already satisfied: h5py in /usr/local/lib/python3.6/dist-packages (from keras-applications>=1.0.8->tensorflow_gpu==2.0.0) (2.10.0)\n",
            "Requirement already satisfied: importlib-metadata; python_version < \"3.8\" in /usr/local/lib/python3.6/dist-packages (from markdown>=2.6.8->tensorboard<2.1.0,>=2.0.0->tensorflow_gpu==2.0.0) (1.6.0)\n",
            "Requirement already satisfied: rsa<4.1,>=3.1.4 in /usr/local/lib/python3.6/dist-packages (from google-auth<2,>=1.6.3->tensorboard<2.1.0,>=2.0.0->tensorflow_gpu==2.0.0) (4.0)\n",
            "Requirement already satisfied: pyasn1-modules>=0.2.1 in /usr/local/lib/python3.6/dist-packages (from google-auth<2,>=1.6.3->tensorboard<2.1.0,>=2.0.0->tensorflow_gpu==2.0.0) (0.2.8)\n",
            "Requirement already satisfied: cachetools<3.2,>=2.0.0 in /usr/local/lib/python3.6/dist-packages (from google-auth<2,>=1.6.3->tensorboard<2.1.0,>=2.0.0->tensorflow_gpu==2.0.0) (3.1.1)\n",
            "Requirement already satisfied: requests-oauthlib>=0.7.0 in /usr/local/lib/python3.6/dist-packages (from google-auth-oauthlib<0.5,>=0.4.1->tensorboard<2.1.0,>=2.0.0->tensorflow_gpu==2.0.0) (1.3.0)\n",
            "Requirement already satisfied: chardet<4,>=3.0.2 in /usr/local/lib/python3.6/dist-packages (from requests<3,>=2.21.0->tensorboard<2.1.0,>=2.0.0->tensorflow_gpu==2.0.0) (3.0.4)\n",
            "Requirement already satisfied: urllib3!=1.25.0,!=1.25.1,<1.26,>=1.21.1 in /usr/local/lib/python3.6/dist-packages (from requests<3,>=2.21.0->tensorboard<2.1.0,>=2.0.0->tensorflow_gpu==2.0.0) (1.24.3)\n",
            "Requirement already satisfied: certifi>=2017.4.17 in /usr/local/lib/python3.6/dist-packages (from requests<3,>=2.21.0->tensorboard<2.1.0,>=2.0.0->tensorflow_gpu==2.0.0) (2020.4.5.1)\n",
            "Requirement already satisfied: idna<3,>=2.5 in /usr/local/lib/python3.6/dist-packages (from requests<3,>=2.21.0->tensorboard<2.1.0,>=2.0.0->tensorflow_gpu==2.0.0) (2.9)\n",
            "Requirement already satisfied: zipp>=0.5 in /usr/local/lib/python3.6/dist-packages (from importlib-metadata; python_version < \"3.8\"->markdown>=2.6.8->tensorboard<2.1.0,>=2.0.0->tensorflow_gpu==2.0.0) (3.1.0)\n",
            "Requirement already satisfied: pyasn1>=0.1.3 in /usr/local/lib/python3.6/dist-packages (from rsa<4.1,>=3.1.4->google-auth<2,>=1.6.3->tensorboard<2.1.0,>=2.0.0->tensorflow_gpu==2.0.0) (0.4.8)\n",
            "Requirement already satisfied: oauthlib>=3.0.0 in /usr/local/lib/python3.6/dist-packages (from requests-oauthlib>=0.7.0->google-auth-oauthlib<0.5,>=0.4.1->tensorboard<2.1.0,>=2.0.0->tensorflow_gpu==2.0.0) (3.1.0)\n",
            "Building wheels for collected packages: gast\n",
            "  Building wheel for gast (setup.py) ... \u001b[?25l\u001b[?25hdone\n",
            "  Created wheel for gast: filename=gast-0.2.2-cp36-none-any.whl size=7540 sha256=dd66c675d2875e14c0d0642456d86963b56951f3f6d23a94e3542587ab8bfd5e\n",
            "  Stored in directory: /root/.cache/pip/wheels/5c/2e/7e/a1d4d4fcebe6c381f378ce7743a3ced3699feb89bcfbdadadd\n",
            "Successfully built gast\n",
            "\u001b[31mERROR: tensorflow 2.2.0 has requirement gast==0.3.3, but you'll have gast 0.2.2 which is incompatible.\u001b[0m\n",
            "\u001b[31mERROR: tensorflow 2.2.0 has requirement tensorboard<2.3.0,>=2.2.0, but you'll have tensorboard 2.0.2 which is incompatible.\u001b[0m\n",
            "\u001b[31mERROR: tensorflow 2.2.0 has requirement tensorflow-estimator<2.3.0,>=2.2.0, but you'll have tensorflow-estimator 2.0.1 which is incompatible.\u001b[0m\n",
            "\u001b[31mERROR: tensorflow-probability 0.10.0 has requirement gast>=0.3.2, but you'll have gast 0.2.2 which is incompatible.\u001b[0m\n",
            "Installing collected packages: tensorboard, gast, tensorflow-estimator, tensorflow-gpu\n",
            "  Found existing installation: tensorboard 2.2.1\n",
            "    Uninstalling tensorboard-2.2.1:\n",
            "      Successfully uninstalled tensorboard-2.2.1\n",
            "  Found existing installation: gast 0.3.3\n",
            "    Uninstalling gast-0.3.3:\n",
            "      Successfully uninstalled gast-0.3.3\n",
            "  Found existing installation: tensorflow-estimator 2.2.0\n",
            "    Uninstalling tensorflow-estimator-2.2.0:\n",
            "      Successfully uninstalled tensorflow-estimator-2.2.0\n",
            "Successfully installed gast-0.2.2 tensorboard-2.0.2 tensorflow-estimator-2.0.1 tensorflow-gpu-2.0.0\n"
          ],
          "name": "stdout"
        }
      ]
    },
    {
      "cell_type": "code",
      "metadata": {
        "id": "fXz3DT2gXVBA",
        "colab_type": "code",
        "outputId": "0e725ad0-4d85-4da9-868f-e30018974ba9",
        "colab": {
          "base_uri": "https://localhost:8080/",
          "height": 159
        }
      },
      "source": [
        "pip install keras==2.3.1"
      ],
      "execution_count": 2,
      "outputs": [
        {
          "output_type": "stream",
          "text": [
            "Requirement already satisfied: keras==2.3.1 in /usr/local/lib/python3.6/dist-packages (2.3.1)\n",
            "Requirement already satisfied: six>=1.9.0 in /usr/local/lib/python3.6/dist-packages (from keras==2.3.1) (1.12.0)\n",
            "Requirement already satisfied: h5py in /usr/local/lib/python3.6/dist-packages (from keras==2.3.1) (2.10.0)\n",
            "Requirement already satisfied: keras-preprocessing>=1.0.5 in /usr/local/lib/python3.6/dist-packages (from keras==2.3.1) (1.1.2)\n",
            "Requirement already satisfied: numpy>=1.9.1 in /usr/local/lib/python3.6/dist-packages (from keras==2.3.1) (1.18.4)\n",
            "Requirement already satisfied: scipy>=0.14 in /usr/local/lib/python3.6/dist-packages (from keras==2.3.1) (1.4.1)\n",
            "Requirement already satisfied: keras-applications>=1.0.6 in /usr/local/lib/python3.6/dist-packages (from keras==2.3.1) (1.0.8)\n",
            "Requirement already satisfied: pyyaml in /usr/local/lib/python3.6/dist-packages (from keras==2.3.1) (3.13)\n"
          ],
          "name": "stdout"
        }
      ]
    },
    {
      "cell_type": "code",
      "metadata": {
        "id": "LZt_GRDtL4o5",
        "colab_type": "code",
        "outputId": "b4d1fb6c-c43c-43ab-ebfd-ab98a4a61140",
        "colab": {
          "base_uri": "https://localhost:8080/",
          "height": 52
        }
      },
      "source": [
        "import keras\n",
        "keras.__version__"
      ],
      "execution_count": 3,
      "outputs": [
        {
          "output_type": "stream",
          "text": [
            "Using TensorFlow backend.\n"
          ],
          "name": "stderr"
        },
        {
          "output_type": "execute_result",
          "data": {
            "text/plain": [
              "'2.3.1'"
            ]
          },
          "metadata": {
            "tags": []
          },
          "execution_count": 3
        }
      ]
    },
    {
      "cell_type": "code",
      "metadata": {
        "id": "b3XrwaE6boqq",
        "colab_type": "code",
        "outputId": "82b90f68-50a4-4bff-ca9c-ad3da4dcdeaa",
        "colab": {
          "base_uri": "https://localhost:8080/",
          "height": 52
        }
      },
      "source": [
        "from keras.datasets import imdb\n",
        "import numpy as np\n",
        "\n",
        "(train_data, train_labels), (test_data, test_labels) = imdb.load_data(num_words=10000)"
      ],
      "execution_count": 4,
      "outputs": [
        {
          "output_type": "stream",
          "text": [
            "Downloading data from https://s3.amazonaws.com/text-datasets/imdb.npz\n",
            "17465344/17464789 [==============================] - 0s 0us/step\n"
          ],
          "name": "stdout"
        }
      ]
    },
    {
      "cell_type": "code",
      "metadata": {
        "id": "coAZm5WacIf_",
        "colab_type": "code",
        "outputId": "2c5f2058-f194-48ed-fd8f-ecc8b870316a",
        "colab": {
          "base_uri": "https://localhost:8080/",
          "height": 35
        }
      },
      "source": [
        "len(train_data)"
      ],
      "execution_count": 5,
      "outputs": [
        {
          "output_type": "execute_result",
          "data": {
            "text/plain": [
              "25000"
            ]
          },
          "metadata": {
            "tags": []
          },
          "execution_count": 5
        }
      ]
    },
    {
      "cell_type": "code",
      "metadata": {
        "id": "w2tYmt6TcIim",
        "colab_type": "code",
        "outputId": "aac3f85b-3baa-4ef3-f921-53e100e5e79e",
        "colab": {
          "base_uri": "https://localhost:8080/",
          "height": 35
        }
      },
      "source": [
        "len(test_data)"
      ],
      "execution_count": 6,
      "outputs": [
        {
          "output_type": "execute_result",
          "data": {
            "text/plain": [
              "25000"
            ]
          },
          "metadata": {
            "tags": []
          },
          "execution_count": 6
        }
      ]
    },
    {
      "cell_type": "code",
      "metadata": {
        "id": "y-3x8NZmcIoO",
        "colab_type": "code",
        "outputId": "d7feebc9-a069-4043-a7e7-d1b0be215b4f",
        "colab": {
          "base_uri": "https://localhost:8080/",
          "height": 90
        }
      },
      "source": [
        "word_index = imdb.get_word_index()\n",
        "reverse_word_index = dict([(value, key) for (key, value) in word_index.items()])\n",
        "decoded_review = ' '.join([reverse_word_index.get(i-3, '?') for i in train_data[0]])\n",
        "decoded_review"
      ],
      "execution_count": 7,
      "outputs": [
        {
          "output_type": "stream",
          "text": [
            "Downloading data from https://s3.amazonaws.com/text-datasets/imdb_word_index.json\n",
            "1646592/1641221 [==============================] - 0s 0us/step\n"
          ],
          "name": "stdout"
        },
        {
          "output_type": "execute_result",
          "data": {
            "text/plain": [
              "\"? this film was just brilliant casting location scenery story direction everyone's really suited the part they played and you could just imagine being there robert ? is an amazing actor and now the same being director ? father came from the same scottish island as myself so i loved the fact there was a real connection with this film the witty remarks throughout the film were great it was just brilliant so much that i bought the film as soon as it was released for ? and would recommend it to everyone to watch and the fly fishing was amazing really cried at the end it was so sad and you know what they say if you cry at a film it must have been good and this definitely was also ? to the two little boy's that played the ? of norman and paul they were just brilliant children are often left out of the ? list i think because the stars that play them all grown up are such a big profile for the whole film but these children are amazing and should be praised for what they have done don't you think the whole story was so lovely because it was true and was someone's life after all that was shared with us all\""
            ]
          },
          "metadata": {
            "tags": []
          },
          "execution_count": 7
        }
      ]
    },
    {
      "cell_type": "code",
      "metadata": {
        "id": "Cj-bBYP3cIrG",
        "colab_type": "code",
        "outputId": "51ad1e1e-18d0-4143-82ff-fb61ae5b089d",
        "colab": {
          "base_uri": "https://localhost:8080/",
          "height": 35
        }
      },
      "source": [
        "train_labels[0:10]"
      ],
      "execution_count": 8,
      "outputs": [
        {
          "output_type": "execute_result",
          "data": {
            "text/plain": [
              "array([1, 0, 0, 1, 0, 0, 1, 0, 1, 0])"
            ]
          },
          "metadata": {
            "tags": []
          },
          "execution_count": 8
        }
      ]
    },
    {
      "cell_type": "code",
      "metadata": {
        "id": "Xz_pCcgecIt9",
        "colab_type": "code",
        "colab": {}
      },
      "source": [
        "import numpy as np\n",
        "\n",
        "def vectorize_sequences(sequences, dimension = 10000):\n",
        "  results = np.zeros((len(sequences), dimension))\n",
        "  for i, sequence in enumerate(sequences):\n",
        "    results[i, sequence] = 1.\n",
        "  return results\n",
        "\n",
        "# 훈련 데이터를 벡터로 변환\n",
        "x_train = vectorize_sequences(train_data)\n",
        "# 테스트 데이터를 벡터로 변환\n",
        "x_test = vectorize_sequences(test_data)\n",
        "\n",
        "# 레이블을 벡터로 변환\n",
        "y_train = np.asarray(train_labels).astype('float32')\n",
        "y_test = np.asarray(test_labels).astype('float32')"
      ],
      "execution_count": 0,
      "outputs": []
    },
    {
      "cell_type": "code",
      "metadata": {
        "id": "jeXO2dJFUTtA",
        "colab_type": "code",
        "colab": {}
      },
      "source": [
        "from keras import models\n",
        "from keras import layers\n",
        "\n",
        "original_model = models.Sequential()\n",
        "original_model.add(layers.Dense(16, activation='relu', input_shape=(10000,)))\n",
        "original_model.add(layers.Dense(16, activation='relu'))\n",
        "original_model.add(layers.Dense(1, activation='sigmoid'))\n",
        "\n",
        "original_model.compile(optimizer='rmsprop',\n",
        "                       loss='binary_crossentropy',\n",
        "                       metrics=['acc'])"
      ],
      "execution_count": 0,
      "outputs": []
    },
    {
      "cell_type": "code",
      "metadata": {
        "id": "UZoz0kiDUTvo",
        "colab_type": "code",
        "outputId": "17505d64-fd34-4a74-e0d4-db95ed728d3c",
        "colab": {
          "base_uri": "https://localhost:8080/",
          "height": 746
        }
      },
      "source": [
        "original_hist = original_model.fit(x_train, y_train,\n",
        "                                   epochs=20,\n",
        "                                   batch_size=512,\n",
        "                                   validation_data=(x_test, y_test))"
      ],
      "execution_count": 11,
      "outputs": [
        {
          "output_type": "stream",
          "text": [
            "Train on 25000 samples, validate on 25000 samples\n",
            "Epoch 1/20\n",
            "25000/25000 [==============================] - 4s 150us/step - loss: 0.4670 - acc: 0.8236 - val_loss: 0.3500 - val_acc: 0.8810\n",
            "Epoch 2/20\n",
            "25000/25000 [==============================] - 2s 88us/step - loss: 0.2706 - acc: 0.9105 - val_loss: 0.2857 - val_acc: 0.8899\n",
            "Epoch 3/20\n",
            "25000/25000 [==============================] - 2s 89us/step - loss: 0.2036 - acc: 0.9279 - val_loss: 0.2835 - val_acc: 0.8860\n",
            "Epoch 4/20\n",
            "25000/25000 [==============================] - 2s 89us/step - loss: 0.1722 - acc: 0.9400 - val_loss: 0.2883 - val_acc: 0.8860\n",
            "Epoch 5/20\n",
            "25000/25000 [==============================] - 2s 88us/step - loss: 0.1480 - acc: 0.9486 - val_loss: 0.3451 - val_acc: 0.8672\n",
            "Epoch 6/20\n",
            "25000/25000 [==============================] - 2s 88us/step - loss: 0.1285 - acc: 0.9567 - val_loss: 0.3213 - val_acc: 0.8774\n",
            "Epoch 7/20\n",
            "25000/25000 [==============================] - 2s 89us/step - loss: 0.1101 - acc: 0.9641 - val_loss: 0.3632 - val_acc: 0.8698\n",
            "Epoch 8/20\n",
            "25000/25000 [==============================] - 2s 87us/step - loss: 0.0972 - acc: 0.9691 - val_loss: 0.3651 - val_acc: 0.8709\n",
            "Epoch 9/20\n",
            "25000/25000 [==============================] - 2s 87us/step - loss: 0.0839 - acc: 0.9739 - val_loss: 0.3989 - val_acc: 0.8663\n",
            "Epoch 10/20\n",
            "25000/25000 [==============================] - 2s 89us/step - loss: 0.0713 - acc: 0.9794 - val_loss: 0.4142 - val_acc: 0.8664\n",
            "Epoch 11/20\n",
            "25000/25000 [==============================] - 2s 88us/step - loss: 0.0599 - acc: 0.9834 - val_loss: 0.4448 - val_acc: 0.8646\n",
            "Epoch 12/20\n",
            "25000/25000 [==============================] - 2s 88us/step - loss: 0.0501 - acc: 0.9867 - val_loss: 0.5006 - val_acc: 0.8563\n",
            "Epoch 13/20\n",
            "25000/25000 [==============================] - 2s 88us/step - loss: 0.0407 - acc: 0.9902 - val_loss: 0.5844 - val_acc: 0.8472\n",
            "Epoch 14/20\n",
            "25000/25000 [==============================] - 2s 88us/step - loss: 0.0332 - acc: 0.9925 - val_loss: 0.5404 - val_acc: 0.8588\n",
            "Epoch 15/20\n",
            "25000/25000 [==============================] - 2s 89us/step - loss: 0.0279 - acc: 0.9932 - val_loss: 0.5877 - val_acc: 0.8564\n",
            "Epoch 16/20\n",
            "25000/25000 [==============================] - 2s 88us/step - loss: 0.0231 - acc: 0.9947 - val_loss: 0.6096 - val_acc: 0.8578\n",
            "Epoch 17/20\n",
            "25000/25000 [==============================] - 2s 89us/step - loss: 0.0173 - acc: 0.9964 - val_loss: 0.6593 - val_acc: 0.8529\n",
            "Epoch 18/20\n",
            "25000/25000 [==============================] - 2s 89us/step - loss: 0.0141 - acc: 0.9973 - val_loss: 0.6814 - val_acc: 0.8552\n",
            "Epoch 19/20\n",
            "25000/25000 [==============================] - 2s 89us/step - loss: 0.0108 - acc: 0.9983 - val_loss: 0.7285 - val_acc: 0.8546\n",
            "Epoch 20/20\n",
            "25000/25000 [==============================] - 2s 89us/step - loss: 0.0083 - acc: 0.9986 - val_loss: 0.7567 - val_acc: 0.8539\n"
          ],
          "name": "stdout"
        }
      ]
    },
    {
      "cell_type": "code",
      "metadata": {
        "id": "cPQ0ZYv5UTy8",
        "colab_type": "code",
        "colab": {}
      },
      "source": [
        "epochs = range(1, 21)\n",
        "original_val_loss = original_hist.history['val_loss']"
      ],
      "execution_count": 0,
      "outputs": []
    },
    {
      "cell_type": "markdown",
      "metadata": {
        "id": "X6eDvqxiUfK8",
        "colab_type": "text"
      },
      "source": [
        "### L2 규제 패널티 효과"
      ]
    },
    {
      "cell_type": "code",
      "metadata": {
        "id": "UFxYGw_3eYv9",
        "colab_type": "code",
        "colab": {}
      },
      "source": [
        "from keras import regularizers\n",
        "\n",
        "# --> Insert your code here\n",
        "l2_model = models.Sequential()\n",
        "l2_model.add(layers.Dense(16, kernel_regularizer=regularizers.l2(0.001),\n",
        "                          activation='relu', input_shape=(10000,)))\n",
        "l2_model.add(layers.Dense(16, kernel_regularizer=regularizers.l2(0.001),\n",
        "                          activation='relu'))\n",
        "l2_model.add(layers.Dense(1, activation='sigmoid'))\n",
        "\n",
        "l2_model.compile(optimizer='rmsprop',\n",
        "                 loss='binary_crossentropy',\n",
        "                 metrics=['accuracy'])"
      ],
      "execution_count": 0,
      "outputs": []
    },
    {
      "cell_type": "code",
      "metadata": {
        "id": "RoXzkzgmNogH",
        "colab_type": "code",
        "outputId": "590f3239-d91b-474a-8677-a0d9133bca6f",
        "colab": {
          "base_uri": "https://localhost:8080/",
          "height": 746
        }
      },
      "source": [
        "l2_model_hist = l2_model.fit(x_train, y_train,\n",
        "                             epochs=20,\n",
        "                             batch_size=512,\n",
        "                             validation_data=(x_test, y_test))"
      ],
      "execution_count": 15,
      "outputs": [
        {
          "output_type": "stream",
          "text": [
            "Train on 25000 samples, validate on 25000 samples\n",
            "Epoch 1/20\n",
            "25000/25000 [==============================] - 3s 102us/step - loss: 0.4867 - accuracy: 0.8211 - val_loss: 0.3779 - val_accuracy: 0.8838\n",
            "Epoch 2/20\n",
            "25000/25000 [==============================] - 2s 96us/step - loss: 0.3148 - accuracy: 0.9048 - val_loss: 0.3394 - val_accuracy: 0.8862\n",
            "Epoch 3/20\n",
            "25000/25000 [==============================] - 2s 98us/step - loss: 0.2722 - accuracy: 0.9199 - val_loss: 0.3413 - val_accuracy: 0.8826\n",
            "Epoch 4/20\n",
            "25000/25000 [==============================] - 2s 98us/step - loss: 0.2506 - accuracy: 0.9282 - val_loss: 0.3554 - val_accuracy: 0.8758\n",
            "Epoch 5/20\n",
            "25000/25000 [==============================] - 2s 97us/step - loss: 0.2389 - accuracy: 0.9320 - val_loss: 0.3425 - val_accuracy: 0.8840\n",
            "Epoch 6/20\n",
            "25000/25000 [==============================] - 2s 96us/step - loss: 0.2279 - accuracy: 0.9370 - val_loss: 0.3530 - val_accuracy: 0.8808\n",
            "Epoch 7/20\n",
            "25000/25000 [==============================] - 2s 97us/step - loss: 0.2226 - accuracy: 0.9401 - val_loss: 0.3783 - val_accuracy: 0.8743\n",
            "Epoch 8/20\n",
            "25000/25000 [==============================] - 2s 98us/step - loss: 0.2163 - accuracy: 0.9413 - val_loss: 0.3836 - val_accuracy: 0.8722\n",
            "Epoch 9/20\n",
            "25000/25000 [==============================] - 2s 97us/step - loss: 0.2123 - accuracy: 0.9436 - val_loss: 0.3734 - val_accuracy: 0.8778\n",
            "Epoch 10/20\n",
            "25000/25000 [==============================] - 2s 97us/step - loss: 0.2093 - accuracy: 0.9441 - val_loss: 0.4023 - val_accuracy: 0.8692\n",
            "Epoch 11/20\n",
            "25000/25000 [==============================] - 2s 97us/step - loss: 0.2066 - accuracy: 0.9449 - val_loss: 0.3982 - val_accuracy: 0.8720\n",
            "Epoch 12/20\n",
            "25000/25000 [==============================] - 2s 96us/step - loss: 0.1986 - accuracy: 0.9498 - val_loss: 0.4031 - val_accuracy: 0.8712\n",
            "Epoch 13/20\n",
            "25000/25000 [==============================] - 2s 98us/step - loss: 0.2010 - accuracy: 0.9479 - val_loss: 0.3940 - val_accuracy: 0.8734\n",
            "Epoch 14/20\n",
            "25000/25000 [==============================] - 2s 96us/step - loss: 0.1971 - accuracy: 0.9482 - val_loss: 0.4753 - val_accuracy: 0.8496\n",
            "Epoch 15/20\n",
            "25000/25000 [==============================] - 2s 98us/step - loss: 0.1903 - accuracy: 0.9530 - val_loss: 0.4052 - val_accuracy: 0.8707\n",
            "Epoch 16/20\n",
            "25000/25000 [==============================] - 2s 99us/step - loss: 0.1868 - accuracy: 0.9532 - val_loss: 0.4301 - val_accuracy: 0.8648\n",
            "Epoch 17/20\n",
            "25000/25000 [==============================] - 2s 97us/step - loss: 0.1880 - accuracy: 0.9530 - val_loss: 0.4393 - val_accuracy: 0.8618\n",
            "Epoch 18/20\n",
            "25000/25000 [==============================] - 2s 97us/step - loss: 0.1816 - accuracy: 0.9562 - val_loss: 0.4453 - val_accuracy: 0.8637\n",
            "Epoch 19/20\n",
            "25000/25000 [==============================] - 2s 95us/step - loss: 0.1790 - accuracy: 0.9571 - val_loss: 0.4157 - val_accuracy: 0.8703\n",
            "Epoch 20/20\n",
            "25000/25000 [==============================] - 2s 95us/step - loss: 0.1786 - accuracy: 0.9560 - val_loss: 0.4521 - val_accuracy: 0.8634\n"
          ],
          "name": "stdout"
        }
      ]
    },
    {
      "cell_type": "code",
      "metadata": {
        "id": "PGrkNj2iS8E2",
        "colab_type": "code",
        "outputId": "02811d2a-c8fe-4f39-c38c-7cd93c1f2fdf",
        "colab": {
          "base_uri": "https://localhost:8080/",
          "height": 279
        }
      },
      "source": [
        "import matplotlib.pyplot as plt\n",
        "\n",
        "l2_model_val_loss = l2_model_hist.history['val_loss']\n",
        "\n",
        "plt.plot(epochs, original_val_loss, 'b+', label='Original model')\n",
        "plt.plot(epochs, l2_model_val_loss, 'bo', label='L2-regularized model')\n",
        "plt.xlabel('Epochs')\n",
        "plt.ylabel('Validation loss')\n",
        "plt.legend()\n",
        "\n",
        "plt.show()"
      ],
      "execution_count": 16,
      "outputs": [
        {
          "output_type": "display_data",
          "data": {
            "image/png": "[encoded data removed]",
            "text/plain": [
              "<Figure size 432x288 with 1 Axes>"
            ]
          },
          "metadata": {
            "tags": [],
            "needs_background": "light"
          }
        }
      ]
    },
    {
      "cell_type": "markdown",
      "metadata": {
        "id": "pclaDt68TUpm",
        "colab_type": "text"
      },
      "source": [
        "### l1(0.0001) 모델과 비교"
      ]
    },
    {
      "cell_type": "code",
      "metadata": {
        "id": "rfpqzDLYTAft",
        "colab_type": "code",
        "colab": {}
      },
      "source": [
        "l1_model = models.Sequential()\n",
        "# --> Insert your code here\n",
        "\n",
        "l1_model = models.Sequential()\n",
        "l1_model.add(layers.Dense(16, kernel_regularizer=regularizers.l2(0.001),\n",
        "                          activation='relu', input_shape=(10000,)))\n",
        "l1_model.add(layers.Dense(16, kernel_regularizer=regularizers.l2(0.001),\n",
        "                          activation='relu'))\n",
        "l1_model.add(layers.Dense(1, activation='sigmoid'))"
      ],
      "execution_count": 0,
      "outputs": []
    },
    {
      "cell_type": "code",
      "metadata": {
        "id": "lKNBLpLOTAoV",
        "colab_type": "code",
        "colab": {}
      },
      "source": [
        "l1_model.compile(optimizer='rmsprop',\n",
        "                 loss='binary_crossentropy',\n",
        "                 metrics=['accuracy'])"
      ],
      "execution_count": 0,
      "outputs": []
    },
    {
      "cell_type": "code",
      "metadata": {
        "id": "gGYckaJnTAr8",
        "colab_type": "code",
        "outputId": "0792a980-0e8a-4de3-f5e2-09f72870b4e6",
        "colab": {
          "base_uri": "https://localhost:8080/",
          "height": 746
        }
      },
      "source": [
        "l1_model_hist = l1_model.fit(x_train, y_train,\n",
        "                             epochs=20,\n",
        "                             batch_size=512,\n",
        "                             validation_data=(x_test, y_test))"
      ],
      "execution_count": 19,
      "outputs": [
        {
          "output_type": "stream",
          "text": [
            "Train on 25000 samples, validate on 25000 samples\n",
            "Epoch 1/20\n",
            "25000/25000 [==============================] - 3s 102us/step - loss: 0.5047 - accuracy: 0.8285 - val_loss: 0.3902 - val_accuracy: 0.8784\n",
            "Epoch 2/20\n",
            "25000/25000 [==============================] - 2s 98us/step - loss: 0.3271 - accuracy: 0.9016 - val_loss: 0.3466 - val_accuracy: 0.8836\n",
            "Epoch 3/20\n",
            "25000/25000 [==============================] - 2s 96us/step - loss: 0.2784 - accuracy: 0.9179 - val_loss: 0.3361 - val_accuracy: 0.8850\n",
            "Epoch 4/20\n",
            "25000/25000 [==============================] - 2s 96us/step - loss: 0.2587 - accuracy: 0.9260 - val_loss: 0.3326 - val_accuracy: 0.8875\n",
            "Epoch 5/20\n",
            "25000/25000 [==============================] - 2s 97us/step - loss: 0.2457 - accuracy: 0.9296 - val_loss: 0.3400 - val_accuracy: 0.8841\n",
            "Epoch 6/20\n",
            "25000/25000 [==============================] - 2s 97us/step - loss: 0.2377 - accuracy: 0.9345 - val_loss: 0.3543 - val_accuracy: 0.8778\n",
            "Epoch 7/20\n",
            "25000/25000 [==============================] - 2s 97us/step - loss: 0.2306 - accuracy: 0.9369 - val_loss: 0.3547 - val_accuracy: 0.8795\n",
            "Epoch 8/20\n",
            "25000/25000 [==============================] - 2s 97us/step - loss: 0.2269 - accuracy: 0.9380 - val_loss: 0.3562 - val_accuracy: 0.8804\n",
            "Epoch 9/20\n",
            "25000/25000 [==============================] - 2s 96us/step - loss: 0.2232 - accuracy: 0.9390 - val_loss: 0.3650 - val_accuracy: 0.8764\n",
            "Epoch 10/20\n",
            "25000/25000 [==============================] - 2s 97us/step - loss: 0.2154 - accuracy: 0.9440 - val_loss: 0.3692 - val_accuracy: 0.8768\n",
            "Epoch 11/20\n",
            "25000/25000 [==============================] - 2s 97us/step - loss: 0.2167 - accuracy: 0.9420 - val_loss: 0.4384 - val_accuracy: 0.8552\n",
            "Epoch 12/20\n",
            "25000/25000 [==============================] - 2s 96us/step - loss: 0.2110 - accuracy: 0.9447 - val_loss: 0.3765 - val_accuracy: 0.8748\n",
            "Epoch 13/20\n",
            "25000/25000 [==============================] - 2s 97us/step - loss: 0.2109 - accuracy: 0.9446 - val_loss: 0.3899 - val_accuracy: 0.8711\n",
            "Epoch 14/20\n",
            "25000/25000 [==============================] - 2s 97us/step - loss: 0.2086 - accuracy: 0.9457 - val_loss: 0.3847 - val_accuracy: 0.8740\n",
            "Epoch 15/20\n",
            "25000/25000 [==============================] - 2s 98us/step - loss: 0.2037 - accuracy: 0.9459 - val_loss: 0.4160 - val_accuracy: 0.8647\n",
            "Epoch 16/20\n",
            "25000/25000 [==============================] - 2s 97us/step - loss: 0.2020 - accuracy: 0.9466 - val_loss: 0.3999 - val_accuracy: 0.8699\n",
            "Epoch 17/20\n",
            "25000/25000 [==============================] - 2s 98us/step - loss: 0.2045 - accuracy: 0.9454 - val_loss: 0.4337 - val_accuracy: 0.8604\n",
            "Epoch 18/20\n",
            "25000/25000 [==============================] - 2s 96us/step - loss: 0.1998 - accuracy: 0.9480 - val_loss: 0.4184 - val_accuracy: 0.8660\n",
            "Epoch 19/20\n",
            "25000/25000 [==============================] - 2s 97us/step - loss: 0.1924 - accuracy: 0.9509 - val_loss: 0.4090 - val_accuracy: 0.8690\n",
            "Epoch 20/20\n",
            "25000/25000 [==============================] - 2s 98us/step - loss: 0.1979 - accuracy: 0.9463 - val_loss: 0.4388 - val_accuracy: 0.8635\n"
          ],
          "name": "stdout"
        }
      ]
    },
    {
      "cell_type": "code",
      "metadata": {
        "id": "Y4T8CB3kTZdN",
        "colab_type": "code",
        "outputId": "a4ca434a-06f0-4e5f-db4d-e7ec9bc47ee0",
        "colab": {
          "base_uri": "https://localhost:8080/",
          "height": 279
        }
      },
      "source": [
        "l1_model_val_loss = l1_model_hist.history['val_loss']\n",
        " \n",
        "plt.plot(epochs, original_val_loss, 'b+', label='Original model')\n",
        "plt.plot(epochs, l1_model_val_loss, 'bo', label='L1-regularized model')\n",
        "plt.xlabel('Epochs')\n",
        "plt.ylabel('Validation loss')\n",
        "plt.legend()\n",
        "\n",
        "plt.show()"
      ],
      "execution_count": 20,
      "outputs": [
        {
          "output_type": "display_data",
          "data": {
            "image/png": "[encoded data removed]",
            "text/plain": [
              "<Figure size 432x288 with 1 Axes>"
            ]
          },
          "metadata": {
            "tags": [],
            "needs_background": "light"
          }
        }
      ]
    },
    {
      "cell_type": "code",
      "metadata": {
        "id": "NCu1-YsYs5F8",
        "colab_type": "code",
        "colab": {
          "base_uri": "https://localhost:8080/",
          "height": 280
        },
        "outputId": "7374710d-e01b-4d77-b224-265fcafb021e"
      },
      "source": [
        "l1_model_val_loss = l1_model_hist.history['val_loss']\n",
        " \n",
        "plt.plot(epochs, l2_model_val_loss, 'b+', label='L2-regularized model')\n",
        "plt.plot(epochs, l1_model_val_loss, 'bo', label='L1-regularized model')\n",
        "plt.xlabel('Epochs')\n",
        "plt.ylabel('Validation loss')\n",
        "plt.legend()\n",
        "\n",
        "plt.show()"
      ],
      "execution_count": 24,
      "outputs": [
        {
          "output_type": "display_data",
          "data": {
            "image/png": "[encoded data removed]",
            "text/plain": [
              "<Figure size 432x288 with 1 Axes>"
            ]
          },
          "metadata": {
            "tags": [],
            "needs_background": "light"
          }
        }
      ]
    },
    {
      "cell_type": "markdown",
      "metadata": {
        "id": "qDRPWtaNTbU-",
        "colab_type": "text"
      },
      "source": [
        "### l1_l2(l1=0.0001, l2=0.0001)모델과 비교"
      ]
    },
    {
      "cell_type": "code",
      "metadata": {
        "id": "RHP9kO7bTZfu",
        "colab_type": "code",
        "colab": {}
      },
      "source": [
        "l1l2_model = models.Sequential()\n",
        "# --> Insert your code here\n",
        "\n",
        "l1l2_model = models.Sequential()\n",
        "# --> Insert your code here\n",
        "\n",
        "l1l2_model = models.Sequential()\n",
        "l1l2_model.add(layers.Dense(16, kernel_regularizer=regularizers.l1_l2(0.001),\n",
        "                          activation='relu', input_shape=(10000,)))\n",
        "l1l2_model.add(layers.Dense(16, kernel_regularizer=regularizers.l1_l2(0.001),\n",
        "                          activation='relu'))\n",
        "l1l2_model.add(layers.Dense(1, activation='sigmoid'))"
      ],
      "execution_count": 0,
      "outputs": []
    },
    {
      "cell_type": "code",
      "metadata": {
        "id": "0xHkmdicTZia",
        "colab_type": "code",
        "colab": {}
      },
      "source": [
        "l1l2_model.compile(optimizer='rmsprop',\n",
        "                   loss='binary_crossentropy',\n",
        "                   metrics=['accuracy'])"
      ],
      "execution_count": 0,
      "outputs": []
    },
    {
      "cell_type": "code",
      "metadata": {
        "id": "dfv30RtfTg31",
        "colab_type": "code",
        "outputId": "3c74c24d-fc3d-4c42-9efe-ebcbc34fe9cc",
        "colab": {
          "base_uri": "https://localhost:8080/",
          "height": 746
        }
      },
      "source": [
        "l1l2_model_hist = l1l2_model.fit(x_train, y_train,\n",
        "                                 epochs=20,\n",
        "                                 batch_size=512,\n",
        "                                 validation_data=(x_test, y_test))"
      ],
      "execution_count": 23,
      "outputs": [
        {
          "output_type": "stream",
          "text": [
            "Train on 25000 samples, validate on 25000 samples\n",
            "Epoch 1/20\n",
            "25000/25000 [==============================] - 3s 103us/step - loss: 1.0937 - accuracy: 0.7761 - val_loss: 0.7923 - val_accuracy: 0.8477\n",
            "Epoch 2/20\n",
            "25000/25000 [==============================] - 2s 97us/step - loss: 0.7569 - accuracy: 0.8436 - val_loss: 0.7487 - val_accuracy: 0.8261\n",
            "Epoch 3/20\n",
            "25000/25000 [==============================] - 2s 98us/step - loss: 0.7054 - accuracy: 0.8494 - val_loss: 0.6902 - val_accuracy: 0.8461\n",
            "Epoch 4/20\n",
            "25000/25000 [==============================] - 2s 97us/step - loss: 0.6665 - accuracy: 0.8554 - val_loss: 0.6742 - val_accuracy: 0.8394\n",
            "Epoch 5/20\n",
            "25000/25000 [==============================] - 2s 98us/step - loss: 0.6382 - accuracy: 0.8570 - val_loss: 0.6476 - val_accuracy: 0.8461\n",
            "Epoch 6/20\n",
            "25000/25000 [==============================] - 2s 97us/step - loss: 0.6176 - accuracy: 0.8600 - val_loss: 0.6392 - val_accuracy: 0.8392\n",
            "Epoch 7/20\n",
            "25000/25000 [==============================] - 2s 98us/step - loss: 0.6039 - accuracy: 0.8605 - val_loss: 0.5953 - val_accuracy: 0.8650\n",
            "Epoch 8/20\n",
            "25000/25000 [==============================] - 2s 98us/step - loss: 0.5929 - accuracy: 0.8635 - val_loss: 0.5944 - val_accuracy: 0.8601\n",
            "Epoch 9/20\n",
            "25000/25000 [==============================] - 2s 98us/step - loss: 0.5848 - accuracy: 0.8618 - val_loss: 0.5911 - val_accuracy: 0.8594\n",
            "Epoch 10/20\n",
            "25000/25000 [==============================] - 2s 97us/step - loss: 0.5763 - accuracy: 0.8664 - val_loss: 0.5715 - val_accuracy: 0.8694\n",
            "Epoch 11/20\n",
            "25000/25000 [==============================] - 2s 98us/step - loss: 0.5692 - accuracy: 0.8684 - val_loss: 0.5750 - val_accuracy: 0.8637\n",
            "Epoch 12/20\n",
            "25000/25000 [==============================] - 2s 97us/step - loss: 0.5649 - accuracy: 0.8686 - val_loss: 0.5795 - val_accuracy: 0.8571\n",
            "Epoch 13/20\n",
            "25000/25000 [==============================] - 2s 98us/step - loss: 0.5578 - accuracy: 0.8694 - val_loss: 0.5930 - val_accuracy: 0.8493\n",
            "Epoch 14/20\n",
            "25000/25000 [==============================] - 2s 97us/step - loss: 0.5528 - accuracy: 0.8716 - val_loss: 0.5571 - val_accuracy: 0.8659\n",
            "Epoch 15/20\n",
            "25000/25000 [==============================] - 2s 93us/step - loss: 0.5447 - accuracy: 0.8741 - val_loss: 0.5463 - val_accuracy: 0.8715\n",
            "Epoch 16/20\n",
            "25000/25000 [==============================] - 2s 94us/step - loss: 0.5350 - accuracy: 0.8763 - val_loss: 0.5395 - val_accuracy: 0.8751\n",
            "Epoch 17/20\n",
            "25000/25000 [==============================] - 2s 93us/step - loss: 0.5296 - accuracy: 0.8788 - val_loss: 0.5327 - val_accuracy: 0.8765\n",
            "Epoch 18/20\n",
            "25000/25000 [==============================] - 2s 93us/step - loss: 0.5172 - accuracy: 0.8809 - val_loss: 0.5468 - val_accuracy: 0.8623\n",
            "Epoch 19/20\n",
            "25000/25000 [==============================] - 2s 93us/step - loss: 0.5143 - accuracy: 0.8830 - val_loss: 0.5223 - val_accuracy: 0.8773\n",
            "Epoch 20/20\n",
            "25000/25000 [==============================] - 2s 94us/step - loss: 0.5110 - accuracy: 0.8822 - val_loss: 0.5173 - val_accuracy: 0.8782\n"
          ],
          "name": "stdout"
        }
      ]
    },
    {
      "cell_type": "code",
      "metadata": {
        "id": "8pXYkfCCTg6H",
        "colab_type": "code",
        "outputId": "d8033cd4-07e7-4154-a962-bb0ed583144d",
        "colab": {
          "base_uri": "https://localhost:8080/",
          "height": 279
        }
      },
      "source": [
        "l1l2_model_val_loss = l1l2_model_hist.history['val_loss']\n",
        "\n",
        "plt.plot(epochs, original_val_loss, 'b+', label='Original model')\n",
        "plt.plot(epochs, l1l2_model_val_loss, 'bo', label='L1,L2-regularized model')\n",
        "plt.xlabel('Epochs')\n",
        "plt.ylabel('Validation loss')\n",
        "plt.legend()\n",
        "\n",
        "plt.show()"
      ],
      "execution_count": 25,
      "outputs": [
        {
          "output_type": "display_data",
          "data": {
            "image/png": "[encoded data removed]",
            "text/plain": [
              "<Figure size 432x288 with 1 Axes>"
            ]
          },
          "metadata": {
            "tags": [],
            "needs_background": "light"
          }
        }
      ]
    },
    {
      "cell_type": "markdown",
      "metadata": {
        "id": "GOA4eS0YVMNY",
        "colab_type": "text"
      },
      "source": [
        "### Drop out 효과"
      ]
    },
    {
      "cell_type": "code",
      "metadata": {
        "id": "C6ohNZIKThBF",
        "colab_type": "code",
        "colab": {}
      },
      "source": [
        "dpt_model = models.Sequential()\n",
        "# --> Insert your code here\n",
        "dpt_model.add(layers.Dense(16, activation='relu', input_shape=(10000, )))\n",
        "dpt_model.add(layers.Dropout(0.5))\n",
        "dpt_model.add(layers.Dense(16, activation='relu'))\n",
        "dpt_model.add(layers.Dropout(0.5))\n",
        "dpt_model.add(layers.Dense(1, activation='sigmoid'))\n",
        "\n",
        "dpt_model.compile(optimizer='rmsprop',\n",
        "                  loss='binary_crossentropy',\n",
        "                  metrics=['accuracy'])"
      ],
      "execution_count": 0,
      "outputs": []
    },
    {
      "cell_type": "code",
      "metadata": {
        "id": "874zSLxmVXat",
        "colab_type": "code",
        "outputId": "4bbfacc8-7763-44b0-c476-b18cc0b07c76",
        "colab": {
          "base_uri": "https://localhost:8080/",
          "height": 746
        }
      },
      "source": [
        "dpt_model_hist = dpt_model.fit(x_train, y_train,\n",
        "                               epochs=20,\n",
        "                               batch_size=512,\n",
        "                               validation_data=(x_test, y_test))"
      ],
      "execution_count": 28,
      "outputs": [
        {
          "output_type": "stream",
          "text": [
            "Train on 25000 samples, validate on 25000 samples\n",
            "Epoch 1/20\n",
            "25000/25000 [==============================] - 3s 102us/step - loss: 0.6061 - accuracy: 0.6663 - val_loss: 0.4622 - val_accuracy: 0.8581\n",
            "Epoch 2/20\n",
            "25000/25000 [==============================] - 2s 95us/step - loss: 0.4577 - accuracy: 0.8014 - val_loss: 0.3530 - val_accuracy: 0.8806\n",
            "Epoch 3/20\n",
            "25000/25000 [==============================] - 2s 95us/step - loss: 0.3655 - accuracy: 0.8569 - val_loss: 0.2985 - val_accuracy: 0.8876\n",
            "Epoch 4/20\n",
            "25000/25000 [==============================] - 2s 96us/step - loss: 0.3068 - accuracy: 0.8912 - val_loss: 0.2775 - val_accuracy: 0.8888\n",
            "Epoch 5/20\n",
            "25000/25000 [==============================] - 2s 96us/step - loss: 0.2645 - accuracy: 0.9064 - val_loss: 0.2795 - val_accuracy: 0.8873\n",
            "Epoch 6/20\n",
            "25000/25000 [==============================] - 2s 93us/step - loss: 0.2330 - accuracy: 0.9193 - val_loss: 0.2902 - val_accuracy: 0.8868\n",
            "Epoch 7/20\n",
            "25000/25000 [==============================] - 2s 95us/step - loss: 0.2109 - accuracy: 0.9269 - val_loss: 0.3121 - val_accuracy: 0.8826\n",
            "Epoch 8/20\n",
            "25000/25000 [==============================] - 2s 94us/step - loss: 0.1924 - accuracy: 0.9348 - val_loss: 0.3319 - val_accuracy: 0.8852\n",
            "Epoch 9/20\n",
            "25000/25000 [==============================] - 2s 95us/step - loss: 0.1757 - accuracy: 0.9400 - val_loss: 0.3429 - val_accuracy: 0.8799\n",
            "Epoch 10/20\n",
            "25000/25000 [==============================] - 2s 95us/step - loss: 0.1630 - accuracy: 0.9440 - val_loss: 0.3601 - val_accuracy: 0.8813\n",
            "Epoch 11/20\n",
            "25000/25000 [==============================] - 2s 95us/step - loss: 0.1479 - accuracy: 0.9481 - val_loss: 0.3897 - val_accuracy: 0.8806\n",
            "Epoch 12/20\n",
            "25000/25000 [==============================] - 2s 95us/step - loss: 0.1414 - accuracy: 0.9522 - val_loss: 0.4142 - val_accuracy: 0.8783\n",
            "Epoch 13/20\n",
            "25000/25000 [==============================] - 2s 97us/step - loss: 0.1304 - accuracy: 0.9554 - val_loss: 0.4475 - val_accuracy: 0.8785\n",
            "Epoch 14/20\n",
            "25000/25000 [==============================] - 2s 94us/step - loss: 0.1296 - accuracy: 0.9547 - val_loss: 0.4622 - val_accuracy: 0.8770\n",
            "Epoch 15/20\n",
            "25000/25000 [==============================] - 2s 93us/step - loss: 0.1194 - accuracy: 0.9571 - val_loss: 0.4903 - val_accuracy: 0.8777\n",
            "Epoch 16/20\n",
            "25000/25000 [==============================] - 2s 95us/step - loss: 0.1173 - accuracy: 0.9573 - val_loss: 0.5163 - val_accuracy: 0.8768\n",
            "Epoch 17/20\n",
            "25000/25000 [==============================] - 2s 95us/step - loss: 0.1162 - accuracy: 0.9586 - val_loss: 0.5204 - val_accuracy: 0.8717\n",
            "Epoch 18/20\n",
            "25000/25000 [==============================] - 2s 96us/step - loss: 0.1151 - accuracy: 0.9601 - val_loss: 0.5446 - val_accuracy: 0.8742\n",
            "Epoch 19/20\n",
            "25000/25000 [==============================] - 2s 96us/step - loss: 0.1122 - accuracy: 0.9616 - val_loss: 0.5519 - val_accuracy: 0.8716\n",
            "Epoch 20/20\n",
            "25000/25000 [==============================] - 2s 95us/step - loss: 0.1050 - accuracy: 0.9607 - val_loss: 0.5804 - val_accuracy: 0.8698\n"
          ],
          "name": "stdout"
        }
      ]
    },
    {
      "cell_type": "code",
      "metadata": {
        "id": "NiDCvR41VXdV",
        "colab_type": "code",
        "outputId": "a63f4b06-5ebb-49ab-d53b-48e730b01cb2",
        "colab": {
          "base_uri": "https://localhost:8080/",
          "height": 279
        }
      },
      "source": [
        "dpt_model_val_loss = dpt_model_hist.history['val_loss']\n",
        "\n",
        "plt.plot(epochs, original_val_loss, 'b+', label='Original model')\n",
        "plt.plot(epochs, dpt_model_val_loss, 'bo', label='Dropout-regularized model')\n",
        "plt.xlabel('Epochs')\n",
        "plt.ylabel('Validation loss')\n",
        "plt.legend()\n",
        "\n",
        "plt.show()"
      ],
      "execution_count": 29,
      "outputs": [
        {
          "output_type": "display_data",
          "data": {
            "image/png": "[encoded data removed]",
            "text/plain": [
              "<Figure size 432x288 with 1 Axes>"
            ]
          },
          "metadata": {
            "tags": [],
            "needs_background": "light"
          }
        }
      ]
    },
    {
      "cell_type": "code",
      "metadata": {
        "id": "o6NZNJUrVXf-",
        "colab_type": "code",
        "colab": {}
      },
      "source": [
        ""
      ],
      "execution_count": 0,
      "outputs": []
    }
  ]
}