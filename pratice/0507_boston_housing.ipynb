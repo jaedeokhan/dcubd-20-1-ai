{
  "nbformat": 4,
  "nbformat_minor": 0,
  "metadata": {
    "colab": {
      "name": "0507_boston_housing.ipynb",
      "provenance": [],
      "collapsed_sections": [],
      "authorship_tag": "ABX9TyNswAKtyH1FEMev9QAYQ1at",
      "include_colab_link": true
    },
    "kernelspec": {
      "name": "python3",
      "display_name": "Python 3"
    },
    "accelerator": "GPU"
  },
  "cells": [
    {
      "cell_type": "markdown",
      "metadata": {
        "id": "view-in-github",
        "colab_type": "text"
      },
      "source": [
        "<a href=\"https://colab.research.google.com/github/jaedeokhan/20_1_AI_Introduce/blob/master/pratice/0507_boston_housing.ipynb\" target=\"_parent\"><img src=\"https://colab.research.google.com/assets/colab-badge.svg\" alt=\"Open In Colab\"/></a>"
      ]
    },
    {
      "cell_type": "code",
      "metadata": {
        "id": "wrzUJvlweGHP",
        "colab_type": "code",
        "colab": {
          "base_uri": "https://localhost:8080/",
          "height": 1000
        },
        "outputId": "7b7f3c7f-5fb9-4da6-f885-75c729459428"
      },
      "source": [
        "pip install tensorflow_gpu==2.0"
      ],
      "execution_count": 1,
      "outputs": [
        {
          "output_type": "stream",
          "text": [
            "Collecting tensorflow_gpu==2.0\n",
            "\u001b[?25l  Downloading https://files.pythonhosted.org/packages/25/44/47f0722aea081697143fbcf5d2aa60d1aee4aaacb5869aee2b568974777b/tensorflow_gpu-2.0.0-cp36-cp36m-manylinux2010_x86_64.whl (380.8MB)\n",
            "\u001b[K     |████████████████████████████████| 380.8MB 47kB/s \n",
            "\u001b[?25hRequirement already satisfied: numpy<2.0,>=1.16.0 in /usr/local/lib/python3.6/dist-packages (from tensorflow_gpu==2.0) (1.18.3)\n",
            "Requirement already satisfied: astor>=0.6.0 in /usr/local/lib/python3.6/dist-packages (from tensorflow_gpu==2.0) (0.8.1)\n",
            "Requirement already satisfied: google-pasta>=0.1.6 in /usr/local/lib/python3.6/dist-packages (from tensorflow_gpu==2.0) (0.2.0)\n",
            "Requirement already satisfied: grpcio>=1.8.6 in /usr/local/lib/python3.6/dist-packages (from tensorflow_gpu==2.0) (1.28.1)\n",
            "Collecting tensorboard<2.1.0,>=2.0.0\n",
            "\u001b[?25l  Downloading https://files.pythonhosted.org/packages/76/54/99b9d5d52d5cb732f099baaaf7740403e83fe6b0cedde940fabd2b13d75a/tensorboard-2.0.2-py3-none-any.whl (3.8MB)\n",
            "\u001b[K     |████████████████████████████████| 3.8MB 47.4MB/s \n",
            "\u001b[?25hRequirement already satisfied: keras-applications>=1.0.8 in /usr/local/lib/python3.6/dist-packages (from tensorflow_gpu==2.0) (1.0.8)\n",
            "Requirement already satisfied: six>=1.10.0 in /usr/local/lib/python3.6/dist-packages (from tensorflow_gpu==2.0) (1.12.0)\n",
            "Requirement already satisfied: wrapt>=1.11.1 in /usr/local/lib/python3.6/dist-packages (from tensorflow_gpu==2.0) (1.12.1)\n",
            "Requirement already satisfied: keras-preprocessing>=1.0.5 in /usr/local/lib/python3.6/dist-packages (from tensorflow_gpu==2.0) (1.1.0)\n",
            "Collecting tensorflow-estimator<2.1.0,>=2.0.0\n",
            "\u001b[?25l  Downloading https://files.pythonhosted.org/packages/fc/08/8b927337b7019c374719145d1dceba21a8bb909b93b1ad6f8fb7d22c1ca1/tensorflow_estimator-2.0.1-py2.py3-none-any.whl (449kB)\n",
            "\u001b[K     |████████████████████████████████| 450kB 48.5MB/s \n",
            "\u001b[?25hRequirement already satisfied: protobuf>=3.6.1 in /usr/local/lib/python3.6/dist-packages (from tensorflow_gpu==2.0) (3.10.0)\n",
            "Requirement already satisfied: termcolor>=1.1.0 in /usr/local/lib/python3.6/dist-packages (from tensorflow_gpu==2.0) (1.1.0)\n",
            "Requirement already satisfied: absl-py>=0.7.0 in /usr/local/lib/python3.6/dist-packages (from tensorflow_gpu==2.0) (0.9.0)\n",
            "Requirement already satisfied: wheel>=0.26 in /usr/local/lib/python3.6/dist-packages (from tensorflow_gpu==2.0) (0.34.2)\n",
            "Requirement already satisfied: opt-einsum>=2.3.2 in /usr/local/lib/python3.6/dist-packages (from tensorflow_gpu==2.0) (3.2.1)\n",
            "Collecting gast==0.2.2\n",
            "  Downloading https://files.pythonhosted.org/packages/4e/35/11749bf99b2d4e3cceb4d55ca22590b0d7c2c62b9de38ac4a4a7f4687421/gast-0.2.2.tar.gz\n",
            "Requirement already satisfied: google-auth-oauthlib<0.5,>=0.4.1 in /usr/local/lib/python3.6/dist-packages (from tensorboard<2.1.0,>=2.0.0->tensorflow_gpu==2.0) (0.4.1)\n",
            "Requirement already satisfied: markdown>=2.6.8 in /usr/local/lib/python3.6/dist-packages (from tensorboard<2.1.0,>=2.0.0->tensorflow_gpu==2.0) (3.2.1)\n",
            "Requirement already satisfied: google-auth<2,>=1.6.3 in /usr/local/lib/python3.6/dist-packages (from tensorboard<2.1.0,>=2.0.0->tensorflow_gpu==2.0) (1.7.2)\n",
            "Requirement already satisfied: setuptools>=41.0.0 in /usr/local/lib/python3.6/dist-packages (from tensorboard<2.1.0,>=2.0.0->tensorflow_gpu==2.0) (46.1.3)\n",
            "Requirement already satisfied: werkzeug>=0.11.15 in /usr/local/lib/python3.6/dist-packages (from tensorboard<2.1.0,>=2.0.0->tensorflow_gpu==2.0) (1.0.1)\n",
            "Requirement already satisfied: requests<3,>=2.21.0 in /usr/local/lib/python3.6/dist-packages (from tensorboard<2.1.0,>=2.0.0->tensorflow_gpu==2.0) (2.23.0)\n",
            "Requirement already satisfied: h5py in /usr/local/lib/python3.6/dist-packages (from keras-applications>=1.0.8->tensorflow_gpu==2.0) (2.10.0)\n",
            "Requirement already satisfied: requests-oauthlib>=0.7.0 in /usr/local/lib/python3.6/dist-packages (from google-auth-oauthlib<0.5,>=0.4.1->tensorboard<2.1.0,>=2.0.0->tensorflow_gpu==2.0) (1.3.0)\n",
            "Requirement already satisfied: rsa<4.1,>=3.1.4 in /usr/local/lib/python3.6/dist-packages (from google-auth<2,>=1.6.3->tensorboard<2.1.0,>=2.0.0->tensorflow_gpu==2.0) (4.0)\n",
            "Requirement already satisfied: pyasn1-modules>=0.2.1 in /usr/local/lib/python3.6/dist-packages (from google-auth<2,>=1.6.3->tensorboard<2.1.0,>=2.0.0->tensorflow_gpu==2.0) (0.2.8)\n",
            "Requirement already satisfied: cachetools<3.2,>=2.0.0 in /usr/local/lib/python3.6/dist-packages (from google-auth<2,>=1.6.3->tensorboard<2.1.0,>=2.0.0->tensorflow_gpu==2.0) (3.1.1)\n",
            "Requirement already satisfied: chardet<4,>=3.0.2 in /usr/local/lib/python3.6/dist-packages (from requests<3,>=2.21.0->tensorboard<2.1.0,>=2.0.0->tensorflow_gpu==2.0) (3.0.4)\n",
            "Requirement already satisfied: urllib3!=1.25.0,!=1.25.1,<1.26,>=1.21.1 in /usr/local/lib/python3.6/dist-packages (from requests<3,>=2.21.0->tensorboard<2.1.0,>=2.0.0->tensorflow_gpu==2.0) (1.24.3)\n",
            "Requirement already satisfied: certifi>=2017.4.17 in /usr/local/lib/python3.6/dist-packages (from requests<3,>=2.21.0->tensorboard<2.1.0,>=2.0.0->tensorflow_gpu==2.0) (2020.4.5.1)\n",
            "Requirement already satisfied: idna<3,>=2.5 in /usr/local/lib/python3.6/dist-packages (from requests<3,>=2.21.0->tensorboard<2.1.0,>=2.0.0->tensorflow_gpu==2.0) (2.9)\n",
            "Requirement already satisfied: oauthlib>=3.0.0 in /usr/local/lib/python3.6/dist-packages (from requests-oauthlib>=0.7.0->google-auth-oauthlib<0.5,>=0.4.1->tensorboard<2.1.0,>=2.0.0->tensorflow_gpu==2.0) (3.1.0)\n",
            "Requirement already satisfied: pyasn1>=0.1.3 in /usr/local/lib/python3.6/dist-packages (from rsa<4.1,>=3.1.4->google-auth<2,>=1.6.3->tensorboard<2.1.0,>=2.0.0->tensorflow_gpu==2.0) (0.4.8)\n",
            "Building wheels for collected packages: gast\n",
            "  Building wheel for gast (setup.py) ... \u001b[?25l\u001b[?25hdone\n",
            "  Created wheel for gast: filename=gast-0.2.2-cp36-none-any.whl size=7540 sha256=10616f4d78cd6d73f021132b6b3787962c8c9301619c27341fd8f1296688cc88\n",
            "  Stored in directory: /root/.cache/pip/wheels/5c/2e/7e/a1d4d4fcebe6c381f378ce7743a3ced3699feb89bcfbdadadd\n",
            "Successfully built gast\n",
            "\u001b[31mERROR: tensorflow 2.2.0rc4 has requirement gast==0.3.3, but you'll have gast 0.2.2 which is incompatible.\u001b[0m\n",
            "\u001b[31mERROR: tensorflow 2.2.0rc4 has requirement tensorboard<2.3.0,>=2.2.0, but you'll have tensorboard 2.0.2 which is incompatible.\u001b[0m\n",
            "\u001b[31mERROR: tensorflow 2.2.0rc4 has requirement tensorflow-estimator<2.3.0,>=2.2.0, but you'll have tensorflow-estimator 2.0.1 which is incompatible.\u001b[0m\n",
            "\u001b[31mERROR: tensorflow-probability 0.10.0rc0 has requirement gast>=0.3.2, but you'll have gast 0.2.2 which is incompatible.\u001b[0m\n",
            "Installing collected packages: tensorboard, tensorflow-estimator, gast, tensorflow-gpu\n",
            "  Found existing installation: tensorboard 2.2.1\n",
            "    Uninstalling tensorboard-2.2.1:\n",
            "      Successfully uninstalled tensorboard-2.2.1\n",
            "  Found existing installation: tensorflow-estimator 2.2.0\n",
            "    Uninstalling tensorflow-estimator-2.2.0:\n",
            "      Successfully uninstalled tensorflow-estimator-2.2.0\n",
            "  Found existing installation: gast 0.3.3\n",
            "    Uninstalling gast-0.3.3:\n",
            "      Successfully uninstalled gast-0.3.3\n",
            "Successfully installed gast-0.2.2 tensorboard-2.0.2 tensorflow-estimator-2.0.1 tensorflow-gpu-2.0.0\n"
          ],
          "name": "stdout"
        }
      ]
    },
    {
      "cell_type": "code",
      "metadata": {
        "id": "RYG-0zEreIMx",
        "colab_type": "code",
        "colab": {
          "base_uri": "https://localhost:8080/",
          "height": 179
        },
        "outputId": "bda8e9a9-5318-4389-db50-1da09fb6e265"
      },
      "source": [
        "pip install keras==2.3.1"
      ],
      "execution_count": 2,
      "outputs": [
        {
          "output_type": "stream",
          "text": [
            "Requirement already satisfied: keras==2.3.1 in /usr/local/lib/python3.6/dist-packages (2.3.1)\n",
            "Requirement already satisfied: pyyaml in /usr/local/lib/python3.6/dist-packages (from keras==2.3.1) (3.13)\n",
            "Requirement already satisfied: keras-applications>=1.0.6 in /usr/local/lib/python3.6/dist-packages (from keras==2.3.1) (1.0.8)\n",
            "Requirement already satisfied: numpy>=1.9.1 in /usr/local/lib/python3.6/dist-packages (from keras==2.3.1) (1.18.3)\n",
            "Requirement already satisfied: h5py in /usr/local/lib/python3.6/dist-packages (from keras==2.3.1) (2.10.0)\n",
            "Requirement already satisfied: keras-preprocessing>=1.0.5 in /usr/local/lib/python3.6/dist-packages (from keras==2.3.1) (1.1.0)\n",
            "Requirement already satisfied: scipy>=0.14 in /usr/local/lib/python3.6/dist-packages (from keras==2.3.1) (1.4.1)\n",
            "Requirement already satisfied: six>=1.9.0 in /usr/local/lib/python3.6/dist-packages (from keras==2.3.1) (1.12.0)\n"
          ],
          "name": "stdout"
        }
      ]
    },
    {
      "cell_type": "markdown",
      "metadata": {
        "id": "6XnX3OKBeI6b",
        "colab_type": "text"
      },
      "source": [
        "## 2020 0507 목\n",
        "## 3.6 주택 가격 예측 :회귀 문제\n",
        "### 3.6.1 보스턴 주택 가격 데이터셋\n",
        "* 1970년 중반 보스턴 외곽 지역의 범죄율, 지방세율 등의 데이터가 주어졌을 때 주택 가격의 중간 값ㅇ르 예측\n",
        "\n",
        "#### 3-24 보스턴 주택 데이터셋 로드하기"
      ]
    },
    {
      "cell_type": "code",
      "metadata": {
        "id": "QLNQmAM8eJeI",
        "colab_type": "code",
        "colab": {
          "base_uri": "https://localhost:8080/",
          "height": 70
        },
        "outputId": "718e0b49-03ca-4d9b-b99d-49358f611908"
      },
      "source": [
        "from keras.datasets import boston_housing\n",
        "\n",
        "(train_data, train_targets), (test_data, test_targets) = boston_housing.load_data()"
      ],
      "execution_count": 6,
      "outputs": [
        {
          "output_type": "stream",
          "text": [
            "Using TensorFlow backend.\n"
          ],
          "name": "stderr"
        },
        {
          "output_type": "stream",
          "text": [
            "Downloading data from https://s3.amazonaws.com/keras-datasets/boston_housing.npz\n",
            "57344/57026 [==============================] - 0s 1us/step\n"
          ],
          "name": "stdout"
        }
      ]
    },
    {
      "cell_type": "code",
      "metadata": {
        "id": "XuPt4PLxn-mr",
        "colab_type": "code",
        "colab": {
          "base_uri": "https://localhost:8080/",
          "height": 568
        },
        "outputId": "64bb6a15-6b8c-42bd-87b7-92a5d2fcd5a6"
      },
      "source": [
        "print (train_data.shape)\n",
        "print (test_data.shape)\n",
        "# 가격은 일반적으로 1만 달러 ~ 5만 달러 사이 \n",
        "print (train_targets)"
      ],
      "execution_count": 9,
      "outputs": [
        {
          "output_type": "stream",
          "text": [
            "(404, 13)\n",
            "(102, 13)\n",
            "[15.2 42.3 50.  21.1 17.7 18.5 11.3 15.6 15.6 14.4 12.1 17.9 23.1 19.9\n",
            " 15.7  8.8 50.  22.5 24.1 27.5 10.9 30.8 32.9 24.  18.5 13.3 22.9 34.7\n",
            " 16.6 17.5 22.3 16.1 14.9 23.1 34.9 25.  13.9 13.1 20.4 20.  15.2 24.7\n",
            " 22.2 16.7 12.7 15.6 18.4 21.  30.1 15.1 18.7  9.6 31.5 24.8 19.1 22.\n",
            " 14.5 11.  32.  29.4 20.3 24.4 14.6 19.5 14.1 14.3 15.6 10.5  6.3 19.3\n",
            " 19.3 13.4 36.4 17.8 13.5 16.5  8.3 14.3 16.  13.4 28.6 43.5 20.2 22.\n",
            " 23.  20.7 12.5 48.5 14.6 13.4 23.7 50.  21.7 39.8 38.7 22.2 34.9 22.5\n",
            " 31.1 28.7 46.  41.7 21.  26.6 15.  24.4 13.3 21.2 11.7 21.7 19.4 50.\n",
            " 22.8 19.7 24.7 36.2 14.2 18.9 18.3 20.6 24.6 18.2  8.7 44.  10.4 13.2\n",
            " 21.2 37.  30.7 22.9 20.  19.3 31.7 32.  23.1 18.8 10.9 50.  19.6  5.\n",
            " 14.4 19.8 13.8 19.6 23.9 24.5 25.  19.9 17.2 24.6 13.5 26.6 21.4 11.9\n",
            " 22.6 19.6  8.5 23.7 23.1 22.4 20.5 23.6 18.4 35.2 23.1 27.9 20.6 23.7\n",
            " 28.  13.6 27.1 23.6 20.6 18.2 21.7 17.1  8.4 25.3 13.8 22.2 18.4 20.7\n",
            " 31.6 30.5 20.3  8.8 19.2 19.4 23.1 23.  14.8 48.8 22.6 33.4 21.1 13.6\n",
            " 32.2 13.1 23.4 18.9 23.9 11.8 23.3 22.8 19.6 16.7 13.4 22.2 20.4 21.8\n",
            " 26.4 14.9 24.1 23.8 12.3 29.1 21.  19.5 23.3 23.8 17.8 11.5 21.7 19.9\n",
            " 25.  33.4 28.5 21.4 24.3 27.5 33.1 16.2 23.3 48.3 22.9 22.8 13.1 12.7\n",
            " 22.6 15.  15.3 10.5 24.  18.5 21.7 19.5 33.2 23.2  5.  19.1 12.7 22.3\n",
            " 10.2 13.9 16.3 17.  20.1 29.9 17.2 37.3 45.4 17.8 23.2 29.  22.  18.\n",
            " 17.4 34.6 20.1 25.  15.6 24.8 28.2 21.2 21.4 23.8 31.  26.2 17.4 37.9\n",
            " 17.5 20.   8.3 23.9  8.4 13.8  7.2 11.7 17.1 21.6 50.  16.1 20.4 20.6\n",
            " 21.4 20.6 36.5  8.5 24.8 10.8 21.9 17.3 18.9 36.2 14.9 18.2 33.3 21.8\n",
            " 19.7 31.6 24.8 19.4 22.8  7.5 44.8 16.8 18.7 50.  50.  19.5 20.1 50.\n",
            " 17.2 20.8 19.3 41.3 20.4 20.5 13.8 16.5 23.9 20.6 31.5 23.3 16.8 14.\n",
            " 33.8 36.1 12.8 18.3 18.7 19.1 29.  30.1 50.  50.  22.  11.9 37.6 50.\n",
            " 22.7 20.8 23.5 27.9 50.  19.3 23.9 22.6 15.2 21.7 19.2 43.8 20.3 33.2\n",
            " 19.9 22.5 32.7 22.  17.1 19.  15.  16.1 25.1 23.7 28.7 37.2 22.6 16.4\n",
            " 25.  29.8 22.1 17.4 18.1 30.3 17.5 24.7 12.6 26.5 28.7 13.3 10.4 24.4\n",
            " 23.  20.  17.8  7.  11.8 24.4 13.8 19.4 25.2 19.4 19.4 29.1]\n"
          ],
          "name": "stdout"
        }
      ]
    },
    {
      "cell_type": "markdown",
      "metadata": {
        "id": "Eg8sZsuoeJmg",
        "colab_type": "text"
      },
      "source": [
        "### 3.6.2 데이터 준비\n",
        "#### 3-25 데이터 정규화하기\n",
        "* 상이한 스케일을 가진 값을 신경망에 주입하면 문제가 된다.\n",
        "* 이런 데이터를 다룰 때 대표적인 방법으로는 특성별로 정규화를 하는 것이다."
      ]
    },
    {
      "cell_type": "code",
      "metadata": {
        "id": "gL2XPxNkeJtb",
        "colab_type": "code",
        "colab": {}
      },
      "source": [
        "mean = train_data.mean(axis=0)\n",
        "train_data -= mean\n",
        "std = train_data.std(axis=0)\n",
        "train_data /= std\n",
        "\n",
        "test_data -= mean\n",
        "test_data /= std"
      ],
      "execution_count": 0,
      "outputs": []
    },
    {
      "cell_type": "markdown",
      "metadata": {
        "id": "chzdyuSoeJ0m",
        "colab_type": "text"
      },
      "source": [
        "### 3.6.3 모델 구성\n",
        "#### 3-26 모델 정의하기\n",
        "* 샘플 개수가 적기 때문에 64개의 유닛을 가진 2개의 은닉 층으로 작은 네트워크를 구성하여 사용\n",
        "* 일반적으로 훈련 데이터의 개수가 적을수록 과대적합이 더 쉽게 일어나서 작은 모델로 과대적합을 피할 수 있다."
      ]
    },
    {
      "cell_type": "code",
      "metadata": {
        "id": "yise3ky_eJ8W",
        "colab_type": "code",
        "colab": {}
      },
      "source": [
        "from keras import models\n",
        "from keras import layers\n",
        "\n",
        "def build_model():\n",
        "    model = models.Sequential()\n",
        "    model.add(layers.Dense(64, activation='relu',\n",
        "                           input_shape=(train_data.shape[1], )))\n",
        "    model.add(layers.Dense(64, activation='relu'))\n",
        "    model.add(layers.Dense(1))\n",
        "    model.compile(optimizer='rmsprop', loss='mse', metrics=['mae'])\n",
        "    return model\n",
        "\n",
        "# 위의 코드의 마지막 층은 하나의 유닛을 가지고 활성화 함수가 없다.(선형 층이라고 부름)\n",
        "# 전형적인 스칼라 회귀(하나의 연속적인 값을 예측하는 회귀)"
      ],
      "execution_count": 0,
      "outputs": []
    },
    {
      "cell_type": "markdown",
      "metadata": {
        "id": "65KktsdKeKDP",
        "colab_type": "text"
      },
      "source": [
        "### 3.6.4 K-겹 검증을 사용한 훈련 검증\n",
        "#### 3-27 K-겹 검증하기\n",
        "* 검증 세트가 매우 작기 때문에 일반적으로 학습을 하면 신뢰 있는 모델 평가를 할 수 없다.\n",
        "* K-겹 교차 검증을 해서 모델 검증 점수는 K개의 검증 정수 평균이 된다."
      ]
    },
    {
      "cell_type": "code",
      "metadata": {
        "id": "Go1cBWvAeKKj",
        "colab_type": "code",
        "colab": {
          "base_uri": "https://localhost:8080/",
          "height": 88
        },
        "outputId": "e211ab29-4c01-4e92-ab37-2f1c5e75923d"
      },
      "source": [
        "import numpy as np\n",
        "\n",
        "k = 4\n",
        "num_val_samples = len(train_data) // k\n",
        "num_epochs = 100\n",
        "all_scores =[]\n",
        "\n",
        "for i in range(k):\n",
        "    print ('처리중인 폴드 # ', i)\n",
        "    val_data = train_data[i * num_val_samples: (i + 1) * num_val_samples]\n",
        "    val_targets = train_targets[i * num_val_samples: (i + 1) * num_val_samples]\n",
        "\n",
        "    # np.concatenate 는 배열 결합 즉 val_data 말고 나머지 데이터 결합\n",
        "    partial_train_data = np.concatenate( # 훈련 데이터 준비 : 다른 분할 전체\n",
        "        [train_data[:i * num_val_samples],\n",
        "         train_data[(i + 1) * num_val_samples :]],\n",
        "         axis=0)\n",
        "    \n",
        "    partial_train_targets = np.concatenate( \n",
        "         [train_targets[:i * num_val_samples],\n",
        "          train_targets[(i + 1) * num_val_samples :]],\n",
        "          axis=0)       \n",
        "    \n",
        "    model = build_model() # 케라스 모델 구성 (컴파일 포함)\n",
        "    model.fit(partial_train_data, partial_train_targets, \n",
        "              epochs=num_epochs, batch_size=1, verbose=0)\n",
        "    val_mse, val_mae = model.evaluate(val_data, val_targets, verbose=0)\n",
        "    all_scores.append(val_mae)"
      ],
      "execution_count": 19,
      "outputs": [
        {
          "output_type": "stream",
          "text": [
            "처리중인 폴드 #  0\n",
            "처리중인 폴드 #  1\n",
            "처리중인 폴드 #  2\n",
            "처리중인 폴드 #  3\n"
          ],
          "name": "stdout"
        }
      ]
    },
    {
      "cell_type": "code",
      "metadata": {
        "id": "Te77Knn_tI-n",
        "colab_type": "code",
        "colab": {
          "base_uri": "https://localhost:8080/",
          "height": 52
        },
        "outputId": "c0e67760-d466-4eed-fa5c-59494a7aea5b"
      },
      "source": [
        "print (all_scores)\n",
        "print (np.mean(all_scores))"
      ],
      "execution_count": 20,
      "outputs": [
        {
          "output_type": "stream",
          "text": [
            "[2.1293928623199463, 2.9860172271728516, 2.5395255088806152, 2.3491947650909424]\n",
            "2.501032590866089\n"
          ],
          "name": "stdout"
        }
      ]
    },
    {
      "cell_type": "markdown",
      "metadata": {
        "id": "ZyEYPoDZeKQ4",
        "colab_type": "text"
      },
      "source": [
        "#### 3-28 각 폴드에서 검증 점수를 로그에 저장하기."
      ]
    },
    {
      "cell_type": "code",
      "metadata": {
        "id": "_cZ9pIApeKWo",
        "colab_type": "code",
        "colab": {
          "base_uri": "https://localhost:8080/",
          "height": 88
        },
        "outputId": "523919cf-c94b-44a2-9425-4532443f94ba"
      },
      "source": [
        "num_epochs = 500\n",
        "all_mae_histories = []\n",
        "\n",
        "for i in range(k):\n",
        "    print ('처리중인 폴드 # ', i)\n",
        "    val_data = train_data[i * num_val_samples: (i + 1) * num_val_samples]\n",
        "    val_targets = train_targets[i * num_val_samples: (i + 1) * num_val_samples]\n",
        "\n",
        "    # np.concatenate 는 배열 결합 즉 val_data 말고 나머지 데이터 결합\n",
        "    partial_train_data = np.concatenate( # 훈련 데이터 준비 : 다른 분할 전체\n",
        "        [train_data[:i * num_val_samples],\n",
        "         train_data[(i + 1) * num_val_samples :]],\n",
        "         axis=0)\n",
        "    \n",
        "    partial_train_targets = np.concatenate( \n",
        "         [train_targets[:i * num_val_samples],\n",
        "          train_targets[(i + 1) * num_val_samples :]],\n",
        "          axis=0)    \n",
        "     \n",
        "    model = build_model() # 케라스 모델 구성 (컴파일 포함)\n",
        "    history = model.fit(partial_train_data, partial_train_targets, \n",
        "              validation_data = (val_data, val_targets),\n",
        "              epochs=num_epochs, batch_size=1, verbose=0)\n",
        "    mae_history = history.history['val_mae']\n",
        "    all_mae_histories.append(mae_history)  "
      ],
      "execution_count": 24,
      "outputs": [
        {
          "output_type": "stream",
          "text": [
            "처리중인 폴드 #  0\n",
            "처리중인 폴드 #  1\n",
            "처리중인 폴드 #  2\n",
            "처리중인 폴드 #  3\n"
          ],
          "name": "stdout"
        }
      ]
    },
    {
      "cell_type": "markdown",
      "metadata": {
        "id": "mooJkp4FeKcE",
        "colab_type": "text"
      },
      "source": [
        "#### 3-29 K-겹 검증 점수 평균을 기록하기"
      ]
    },
    {
      "cell_type": "code",
      "metadata": {
        "id": "_ngZ5yZ8eKhh",
        "colab_type": "code",
        "colab": {}
      },
      "source": [
        "average_mae_history = [\n",
        "    np.mean([x[i] for x in all_mae_histories]) for i in range(num_epochs)]"
      ],
      "execution_count": 0,
      "outputs": []
    },
    {
      "cell_type": "code",
      "metadata": {
        "id": "77ECMBLr2aMf",
        "colab_type": "code",
        "colab": {
          "base_uri": "https://localhost:8080/",
          "height": 35
        },
        "outputId": "ff8c7969-c027-4f33-cabf-ea2017cccac2"
      },
      "source": [
        "print (len(average_mae_history))"
      ],
      "execution_count": 30,
      "outputs": [
        {
          "output_type": "stream",
          "text": [
            "500\n"
          ],
          "name": "stdout"
        }
      ]
    },
    {
      "cell_type": "markdown",
      "metadata": {
        "id": "Y0bbgDDJknff",
        "colab_type": "text"
      },
      "source": [
        "#### 3-30 검증 점수 그래프\n",
        "* 이 그래프는 범위가 크고 변동이 심해서 보기가 조금 어렵다.\n",
        "* 곡선의 다른 부분과 스케일이 많이 다른 첫 10개의 데이터 포인트를 제외시킨다.\n",
        "* 부드러운 곡선을 얻기 위해 각 포인트를 이전 포인트의 지수 이동 평균(exponenital moving average_로 대체"
      ]
    },
    {
      "cell_type": "code",
      "metadata": {
        "id": "0b8g5-nHknqf",
        "colab_type": "code",
        "colab": {
          "base_uri": "https://localhost:8080/",
          "height": 279
        },
        "outputId": "0d5ebc19-e90f-4644-d8ad-72fe5b5a23b5"
      },
      "source": [
        "import matplotlib.pyplot as plt\n",
        "\n",
        "plt.plot(range(1, len(average_mae_history) + 1), average_mae_history)\n",
        "plt.xlabel('Epochs')\n",
        "plt.ylabel('Validation MAE')\n",
        "plt.show()"
      ],
      "execution_count": 27,
      "outputs": [
        {
          "output_type": "display_data",
          "data": {
            "image/png": "[encoded data removed]",
            "text/plain": [
              "<Figure size 432x288 with 1 Axes>"
            ]
          },
          "metadata": {
            "tags": [],
            "needs_background": "light"
          }
        }
      ]
    },
    {
      "cell_type": "markdown",
      "metadata": {
        "id": "AUz9rJBAkny9",
        "colab_type": "text"
      },
      "source": [
        "#### 3-31 처음 10개의 데이터 포인트를 제외한 검증 점수 그리기"
      ]
    },
    {
      "cell_type": "code",
      "metadata": {
        "id": "e6caWn_Gkn7R",
        "colab_type": "code",
        "colab": {
          "base_uri": "https://localhost:8080/",
          "height": 279
        },
        "outputId": "cb682fca-bdeb-4b27-9a0a-181b011b4860"
      },
      "source": [
        "def smooth_curve(points, factor=0.9):\n",
        "    smoothed_points = []\n",
        "    for point in points:\n",
        "        if smoothed_points:\n",
        "            previous = smoothed_points[-1]\n",
        "            smoothed_points.append(previous * factor + point * (1 - factor))\n",
        "        else:\n",
        "            smoothed_points.append(point)\n",
        "        return smoothed_points\n",
        "\n",
        "smooth_mae_history = smooth_curve(average_mae_history[10:])\n",
        "\n",
        "plt.plot(range(1, len(smooth_mae_history) + 1), smooth_mae_history)\n",
        "plt.xlabel('Epochs')\n",
        "plt.ylabel('Validation MAE')\n",
        "plt.show()"
      ],
      "execution_count": 36,
      "outputs": [
        {
          "output_type": "display_data",
          "data": {
            "image/png": "[encoded data removed]",
            "text/plain": [
              "<Figure size 432x288 with 1 Axes>"
            ]
          },
          "metadata": {
            "tags": [],
            "needs_background": "light"
          }
        }
      ]
    },
    {
      "cell_type": "markdown",
      "metadata": {
        "id": "j0YW2DjMkoDu",
        "colab_type": "text"
      },
      "source": [
        "위 그래프를 보면 검증 MAE가 80번째 에포크 이후에 줄어드는 것이 멈추었다. 이 지점 이후로는 과대적합이 시작된다.\n",
        "\n",
        "#### 3-32 최종 모델 훈련하기"
      ]
    },
    {
      "cell_type": "code",
      "metadata": {
        "id": "mIMiGRi6koMS",
        "colab_type": "code",
        "colab": {
          "base_uri": "https://localhost:8080/",
          "height": 1000
        },
        "outputId": "0278e766-0503-4d0a-cfce-2fce8c89529d"
      },
      "source": [
        "model = build_model()\n",
        "model.fit(train_data, train_targets,\n",
        "          epochs=80, batch_size=16, verbose=1)\n",
        "test_mse_score, test_mae_score = model.evaluate(test_data, test_targets)"
      ],
      "execution_count": 40,
      "outputs": [
        {
          "output_type": "stream",
          "text": [
            "Epoch 1/80\n",
            "404/404 [==============================] - 0s 291us/step - loss: 480.4551 - mae: 19.9066\n",
            "Epoch 2/80\n",
            "404/404 [==============================] - 0s 153us/step - loss: 292.7290 - mae: 14.7962\n",
            "Epoch 3/80\n",
            "404/404 [==============================] - 0s 167us/step - loss: 140.9300 - mae: 9.2026\n",
            "Epoch 4/80\n",
            "404/404 [==============================] - 0s 172us/step - loss: 75.5403 - mae: 6.5043\n",
            "Epoch 5/80\n",
            "404/404 [==============================] - 0s 143us/step - loss: 48.8347 - mae: 5.1325\n",
            "Epoch 6/80\n",
            "404/404 [==============================] - 0s 177us/step - loss: 35.8190 - mae: 4.2686\n",
            "Epoch 7/80\n",
            "404/404 [==============================] - 0s 165us/step - loss: 28.6936 - mae: 3.7431\n",
            "Epoch 8/80\n",
            "404/404 [==============================] - 0s 175us/step - loss: 24.5046 - mae: 3.4857\n",
            "Epoch 9/80\n",
            "404/404 [==============================] - 0s 145us/step - loss: 21.8301 - mae: 3.2204\n",
            "Epoch 10/80\n",
            "404/404 [==============================] - 0s 147us/step - loss: 19.0883 - mae: 3.0662\n",
            "Epoch 11/80\n",
            "404/404 [==============================] - 0s 149us/step - loss: 17.3521 - mae: 2.9156\n",
            "Epoch 12/80\n",
            "404/404 [==============================] - 0s 159us/step - loss: 16.0360 - mae: 2.7554\n",
            "Epoch 13/80\n",
            "404/404 [==============================] - 0s 196us/step - loss: 14.7442 - mae: 2.6523\n",
            "Epoch 14/80\n",
            "404/404 [==============================] - 0s 149us/step - loss: 13.6020 - mae: 2.5360\n",
            "Epoch 15/80\n",
            "404/404 [==============================] - 0s 152us/step - loss: 12.5675 - mae: 2.4711\n",
            "Epoch 16/80\n",
            "404/404 [==============================] - 0s 143us/step - loss: 12.2202 - mae: 2.4796\n",
            "Epoch 17/80\n",
            "404/404 [==============================] - 0s 143us/step - loss: 11.5556 - mae: 2.3997\n",
            "Epoch 18/80\n",
            "404/404 [==============================] - 0s 153us/step - loss: 10.9711 - mae: 2.3519\n",
            "Epoch 19/80\n",
            "404/404 [==============================] - 0s 175us/step - loss: 10.5941 - mae: 2.3299\n",
            "Epoch 20/80\n",
            "404/404 [==============================] - 0s 161us/step - loss: 10.4329 - mae: 2.3083\n",
            "Epoch 21/80\n",
            "404/404 [==============================] - 0s 172us/step - loss: 10.0126 - mae: 2.2272\n",
            "Epoch 22/80\n",
            "404/404 [==============================] - 0s 151us/step - loss: 9.6641 - mae: 2.2048\n",
            "Epoch 23/80\n",
            "404/404 [==============================] - 0s 152us/step - loss: 9.5148 - mae: 2.1877\n",
            "Epoch 24/80\n",
            "404/404 [==============================] - 0s 161us/step - loss: 9.3236 - mae: 2.1722\n",
            "Epoch 25/80\n",
            "404/404 [==============================] - 0s 152us/step - loss: 9.2381 - mae: 2.1296\n",
            "Epoch 26/80\n",
            "404/404 [==============================] - 0s 149us/step - loss: 9.0069 - mae: 2.1434\n",
            "Epoch 27/80\n",
            "404/404 [==============================] - 0s 157us/step - loss: 8.9371 - mae: 2.0996\n",
            "Epoch 28/80\n",
            "404/404 [==============================] - 0s 158us/step - loss: 8.9354 - mae: 2.1163\n",
            "Epoch 29/80\n",
            "404/404 [==============================] - 0s 145us/step - loss: 8.6787 - mae: 2.1385\n",
            "Epoch 30/80\n",
            "404/404 [==============================] - 0s 148us/step - loss: 8.5123 - mae: 2.0832\n",
            "Epoch 31/80\n",
            "404/404 [==============================] - 0s 150us/step - loss: 8.4462 - mae: 2.0752\n",
            "Epoch 32/80\n",
            "404/404 [==============================] - 0s 156us/step - loss: 8.2685 - mae: 2.0547\n",
            "Epoch 33/80\n",
            "404/404 [==============================] - 0s 157us/step - loss: 8.1299 - mae: 2.0385\n",
            "Epoch 34/80\n",
            "404/404 [==============================] - 0s 149us/step - loss: 8.2735 - mae: 2.0180\n",
            "Epoch 35/80\n",
            "404/404 [==============================] - 0s 144us/step - loss: 8.1161 - mae: 2.0343\n",
            "Epoch 36/80\n",
            "404/404 [==============================] - 0s 152us/step - loss: 7.9775 - mae: 1.9943\n",
            "Epoch 37/80\n",
            "404/404 [==============================] - 0s 177us/step - loss: 8.1180 - mae: 2.0223\n",
            "Epoch 38/80\n",
            "404/404 [==============================] - 0s 149us/step - loss: 7.6991 - mae: 1.9920\n",
            "Epoch 39/80\n",
            "404/404 [==============================] - 0s 142us/step - loss: 7.5379 - mae: 1.9655\n",
            "Epoch 40/80\n",
            "404/404 [==============================] - 0s 152us/step - loss: 7.7922 - mae: 2.0108\n",
            "Epoch 41/80\n",
            "404/404 [==============================] - 0s 155us/step - loss: 7.5960 - mae: 1.9575\n",
            "Epoch 42/80\n",
            "404/404 [==============================] - 0s 148us/step - loss: 7.5276 - mae: 1.9538\n",
            "Epoch 43/80\n",
            "404/404 [==============================] - 0s 163us/step - loss: 7.5081 - mae: 1.9329\n",
            "Epoch 44/80\n",
            "404/404 [==============================] - 0s 154us/step - loss: 7.2813 - mae: 1.9202\n",
            "Epoch 45/80\n",
            "404/404 [==============================] - 0s 155us/step - loss: 7.2048 - mae: 1.9245\n",
            "Epoch 46/80\n",
            "404/404 [==============================] - 0s 180us/step - loss: 7.2496 - mae: 1.9472\n",
            "Epoch 47/80\n",
            "404/404 [==============================] - 0s 150us/step - loss: 7.1012 - mae: 1.8836\n",
            "Epoch 48/80\n",
            "404/404 [==============================] - 0s 149us/step - loss: 7.0940 - mae: 1.9013\n",
            "Epoch 49/80\n",
            "404/404 [==============================] - 0s 148us/step - loss: 6.9744 - mae: 1.8716\n",
            "Epoch 50/80\n",
            "404/404 [==============================] - 0s 143us/step - loss: 7.0037 - mae: 1.9035\n",
            "Epoch 51/80\n",
            "404/404 [==============================] - 0s 149us/step - loss: 6.9236 - mae: 1.8597\n",
            "Epoch 52/80\n",
            "404/404 [==============================] - 0s 154us/step - loss: 6.8028 - mae: 1.8378\n",
            "Epoch 53/80\n",
            "404/404 [==============================] - 0s 183us/step - loss: 6.9647 - mae: 1.8788\n",
            "Epoch 54/80\n",
            "404/404 [==============================] - 0s 144us/step - loss: 6.7029 - mae: 1.8426\n",
            "Epoch 55/80\n",
            "404/404 [==============================] - 0s 143us/step - loss: 6.7263 - mae: 1.8244\n",
            "Epoch 56/80\n",
            "404/404 [==============================] - 0s 149us/step - loss: 6.5674 - mae: 1.8205\n",
            "Epoch 57/80\n",
            "404/404 [==============================] - 0s 153us/step - loss: 6.5265 - mae: 1.8152\n",
            "Epoch 58/80\n",
            "404/404 [==============================] - 0s 163us/step - loss: 6.4523 - mae: 1.7640\n",
            "Epoch 59/80\n",
            "404/404 [==============================] - 0s 143us/step - loss: 6.5106 - mae: 1.8175\n",
            "Epoch 60/80\n",
            "404/404 [==============================] - 0s 147us/step - loss: 6.4494 - mae: 1.8100\n",
            "Epoch 61/80\n",
            "404/404 [==============================] - 0s 149us/step - loss: 6.1551 - mae: 1.7753\n",
            "Epoch 62/80\n",
            "404/404 [==============================] - 0s 164us/step - loss: 6.4329 - mae: 1.7912\n",
            "Epoch 63/80\n",
            "404/404 [==============================] - 0s 161us/step - loss: 6.2595 - mae: 1.7911\n",
            "Epoch 64/80\n",
            "404/404 [==============================] - 0s 151us/step - loss: 6.2149 - mae: 1.7778\n",
            "Epoch 65/80\n",
            "404/404 [==============================] - 0s 150us/step - loss: 6.2632 - mae: 1.7939\n",
            "Epoch 66/80\n",
            "404/404 [==============================] - 0s 151us/step - loss: 6.0913 - mae: 1.7374\n",
            "Epoch 67/80\n",
            "404/404 [==============================] - 0s 152us/step - loss: 5.9943 - mae: 1.7454\n",
            "Epoch 68/80\n",
            "404/404 [==============================] - 0s 161us/step - loss: 6.1171 - mae: 1.7395\n",
            "Epoch 69/80\n",
            "404/404 [==============================] - 0s 169us/step - loss: 5.8077 - mae: 1.7187\n",
            "Epoch 70/80\n",
            "404/404 [==============================] - 0s 156us/step - loss: 6.0913 - mae: 1.7415\n",
            "Epoch 71/80\n",
            "404/404 [==============================] - 0s 148us/step - loss: 5.9606 - mae: 1.7147\n",
            "Epoch 72/80\n",
            "404/404 [==============================] - 0s 165us/step - loss: 5.6974 - mae: 1.6610\n",
            "Epoch 73/80\n",
            "404/404 [==============================] - 0s 148us/step - loss: 5.8240 - mae: 1.7002\n",
            "Epoch 74/80\n",
            "404/404 [==============================] - 0s 176us/step - loss: 5.7433 - mae: 1.7028\n",
            "Epoch 75/80\n",
            "404/404 [==============================] - 0s 144us/step - loss: 5.5617 - mae: 1.6474\n",
            "Epoch 76/80\n",
            "404/404 [==============================] - 0s 146us/step - loss: 5.6994 - mae: 1.6711\n",
            "Epoch 77/80\n",
            "404/404 [==============================] - 0s 156us/step - loss: 5.5104 - mae: 1.6744\n",
            "Epoch 78/80\n",
            "404/404 [==============================] - 0s 152us/step - loss: 5.6701 - mae: 1.6751\n",
            "Epoch 79/80\n",
            "404/404 [==============================] - 0s 154us/step - loss: 5.5463 - mae: 1.6742\n",
            "Epoch 80/80\n",
            "404/404 [==============================] - 0s 156us/step - loss: 5.4807 - mae: 1.6588\n",
            "102/102 [==============================] - 0s 214us/step\n"
          ],
          "name": "stdout"
        }
      ]
    },
    {
      "cell_type": "code",
      "metadata": {
        "id": "M1Zt_y6ikoUX",
        "colab_type": "code",
        "colab": {
          "base_uri": "https://localhost:8080/",
          "height": 35
        },
        "outputId": "bcfe5a57-54bc-4cb3-ca01-5316934780bc"
      },
      "source": [
        "test_mae_score"
      ],
      "execution_count": 41,
      "outputs": [
        {
          "output_type": "execute_result",
          "data": {
            "text/plain": [
              "2091.184814453125"
            ]
          },
          "metadata": {
            "tags": []
          },
          "execution_count": 41
        }
      ]
    },
    {
      "cell_type": "markdown",
      "metadata": {
        "id": "iLNr3a7Ykocr",
        "colab_type": "text"
      },
      "source": [
        "### 3.6.5 정리\n",
        "* 회귀는 분류에서 사용했던 것과는 다른 손실 함수 사용 => 평균 제곱 오차(MSE) 는 회귀에서 자주 사용하는 손실 함수\n",
        "* 회귀에서 사용하는 평가 지표는 분류와 다르다. 당연히 정확도 개념은 회귀에 적용 X, 일반적인 회귀 지표는 평균 절대 오차(MAE)이다.\n",
        "* 입력 데이터 특성이 서로 다른 범위를 가지면 전처리 단계에서 각 특성을 개별적으로 스케일을 조정해야한다.\n",
        "* 가용한 데이터가 작다면 K-겹 검증을 사용하는 것이 신뢰할 수 있는 모델 평가 방법\n",
        "* 가용한 훈련 데이터가 적다면 과대적합을 피하기 위해 은닉 층의 수를 줄인 모델이 좋다.(일반적으로 1개 또는 2개)"
      ]
    },
    {
      "cell_type": "markdown",
      "metadata": {
        "id": "tsFzqa-Zkoky",
        "colab_type": "text"
      },
      "source": [
        "### 3.7 요약\n",
        "* 벡더 데이터를 사용한 가장 일반적인 머신 러닝인 이진 분류, 다중 분류, 스칼라 회귀 작업을 다룸\n",
        "* 보통 원본 데이터를 신경망에 주입하기 전에 전처리해야함!\n",
        "* 데이터 범위가 다른 특성이 있다면 전처리 단계에서 각 특성을 독립적으로 스케일 조정을 해야한다.\n",
        "* 훈련이 진행됨에 따라 신경망의 과대적합이 시작되고 데이터에 대해 나쁜 결과를 얻게 된다.\n",
        "* 훈련 데이터가 많지 않으면 과대적합을 피하기 위해 1개 또는 2개 은닉 층을 가진 신경망을 사용한다.\n",
        "* 데이터가 많은 범주로 나뉘어 있을 때 중간측이 너무 작으면 정보의 병목이 생길 수 있다.\n",
        "* 회귀는 분류와 다른 손실 함수와 평가 지표를 사용한다.\n",
        "* 적은 데이터를 사용할 때는 K-겹 검증이 신뢰할 수 있는 모델 평가를 도와준다."
      ]
    },
    {
      "cell_type": "code",
      "metadata": {
        "id": "dtxJXPn1korb",
        "colab_type": "code",
        "colab": {}
      },
      "source": [
        ""
      ],
      "execution_count": 0,
      "outputs": []
    }
  ]
}