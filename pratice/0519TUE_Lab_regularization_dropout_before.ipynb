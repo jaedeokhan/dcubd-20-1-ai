{
  "nbformat": 4,
  "nbformat_minor": 0,
  "metadata": {
    "colab": {
      "name": "0519TUE_Lab-regularization-dropout-before.ipynb",
      "provenance": [],
      "collapsed_sections": [],
      "include_colab_link": true
    },
    "kernelspec": {
      "name": "python3",
      "display_name": "Python 3"
    }
  },
  "cells": [
    {
      "cell_type": "markdown",
      "metadata": {
        "id": "view-in-github",
        "colab_type": "text"
      },
      "source": [
        "<a href=\"https://colab.research.google.com/github/jaedeokhan/20_1_AI_Introduce/blob/master/pratice/0519TUE_Lab_regularization_dropout_before.ipynb\" target=\"_parent\"><img src=\"https://colab.research.google.com/assets/colab-badge.svg\" alt=\"Open In Colab\"/></a>"
      ]
    },
    {
      "cell_type": "code",
      "metadata": {
        "id": "h3rx_9pBN3su",
        "colab_type": "code",
        "outputId": "4e381bd6-e772-4504-aade-94d10d50dcfe",
        "colab": {
          "base_uri": "https://localhost:8080/",
          "height": 1000
        }
      },
      "source": [
        "pip install tensorflow_gpu==2.0.0"
      ],
      "execution_count": 0,
      "outputs": [
        {
          "output_type": "stream",
          "text": [
            "Collecting tensorflow_gpu==2.0.0\n",
            "\u001b[?25l  Downloading https://files.pythonhosted.org/packages/25/44/47f0722aea081697143fbcf5d2aa60d1aee4aaacb5869aee2b568974777b/tensorflow_gpu-2.0.0-cp36-cp36m-manylinux2010_x86_64.whl (380.8MB)\n",
            "\u001b[K     |████████████████████████████████| 380.8MB 43kB/s \n",
            "\u001b[?25hRequirement already satisfied: astor>=0.6.0 in /usr/local/lib/python3.6/dist-packages (from tensorflow_gpu==2.0.0) (0.8.1)\n",
            "Requirement already satisfied: google-pasta>=0.1.6 in /usr/local/lib/python3.6/dist-packages (from tensorflow_gpu==2.0.0) (0.2.0)\n",
            "Requirement already satisfied: keras-applications>=1.0.8 in /usr/local/lib/python3.6/dist-packages (from tensorflow_gpu==2.0.0) (1.0.8)\n",
            "Requirement already satisfied: protobuf>=3.6.1 in /usr/local/lib/python3.6/dist-packages (from tensorflow_gpu==2.0.0) (3.10.0)\n",
            "Requirement already satisfied: grpcio>=1.8.6 in /usr/local/lib/python3.6/dist-packages (from tensorflow_gpu==2.0.0) (1.28.1)\n",
            "Collecting gast==0.2.2\n",
            "  Downloading https://files.pythonhosted.org/packages/4e/35/11749bf99b2d4e3cceb4d55ca22590b0d7c2c62b9de38ac4a4a7f4687421/gast-0.2.2.tar.gz\n",
            "Requirement already satisfied: absl-py>=0.7.0 in /usr/local/lib/python3.6/dist-packages (from tensorflow_gpu==2.0.0) (0.9.0)\n",
            "Requirement already satisfied: wrapt>=1.11.1 in /usr/local/lib/python3.6/dist-packages (from tensorflow_gpu==2.0.0) (1.12.1)\n",
            "Requirement already satisfied: keras-preprocessing>=1.0.5 in /usr/local/lib/python3.6/dist-packages (from tensorflow_gpu==2.0.0) (1.1.0)\n",
            "Collecting tensorflow-estimator<2.1.0,>=2.0.0\n",
            "\u001b[?25l  Downloading https://files.pythonhosted.org/packages/fc/08/8b927337b7019c374719145d1dceba21a8bb909b93b1ad6f8fb7d22c1ca1/tensorflow_estimator-2.0.1-py2.py3-none-any.whl (449kB)\n",
            "\u001b[K     |████████████████████████████████| 450kB 48.5MB/s \n",
            "\u001b[?25hRequirement already satisfied: numpy<2.0,>=1.16.0 in /usr/local/lib/python3.6/dist-packages (from tensorflow_gpu==2.0.0) (1.18.4)\n",
            "Requirement already satisfied: opt-einsum>=2.3.2 in /usr/local/lib/python3.6/dist-packages (from tensorflow_gpu==2.0.0) (3.2.1)\n",
            "Requirement already satisfied: termcolor>=1.1.0 in /usr/local/lib/python3.6/dist-packages (from tensorflow_gpu==2.0.0) (1.1.0)\n",
            "Collecting tensorboard<2.1.0,>=2.0.0\n",
            "\u001b[?25l  Downloading https://files.pythonhosted.org/packages/76/54/99b9d5d52d5cb732f099baaaf7740403e83fe6b0cedde940fabd2b13d75a/tensorboard-2.0.2-py3-none-any.whl (3.8MB)\n",
            "\u001b[K     |████████████████████████████████| 3.8MB 42.8MB/s \n",
            "\u001b[?25hRequirement already satisfied: six>=1.10.0 in /usr/local/lib/python3.6/dist-packages (from tensorflow_gpu==2.0.0) (1.12.0)\n",
            "Requirement already satisfied: wheel>=0.26 in /usr/local/lib/python3.6/dist-packages (from tensorflow_gpu==2.0.0) (0.34.2)\n",
            "Requirement already satisfied: h5py in /usr/local/lib/python3.6/dist-packages (from keras-applications>=1.0.8->tensorflow_gpu==2.0.0) (2.10.0)\n",
            "Requirement already satisfied: setuptools in /usr/local/lib/python3.6/dist-packages (from protobuf>=3.6.1->tensorflow_gpu==2.0.0) (46.3.0)\n",
            "Requirement already satisfied: google-auth-oauthlib<0.5,>=0.4.1 in /usr/local/lib/python3.6/dist-packages (from tensorboard<2.1.0,>=2.0.0->tensorflow_gpu==2.0.0) (0.4.1)\n",
            "Requirement already satisfied: google-auth<2,>=1.6.3 in /usr/local/lib/python3.6/dist-packages (from tensorboard<2.1.0,>=2.0.0->tensorflow_gpu==2.0.0) (1.7.2)\n",
            "Requirement already satisfied: werkzeug>=0.11.15 in /usr/local/lib/python3.6/dist-packages (from tensorboard<2.1.0,>=2.0.0->tensorflow_gpu==2.0.0) (1.0.1)\n",
            "Requirement already satisfied: requests<3,>=2.21.0 in /usr/local/lib/python3.6/dist-packages (from tensorboard<2.1.0,>=2.0.0->tensorflow_gpu==2.0.0) (2.23.0)\n",
            "Requirement already satisfied: markdown>=2.6.8 in /usr/local/lib/python3.6/dist-packages (from tensorboard<2.1.0,>=2.0.0->tensorflow_gpu==2.0.0) (3.2.1)\n",
            "Requirement already satisfied: requests-oauthlib>=0.7.0 in /usr/local/lib/python3.6/dist-packages (from google-auth-oauthlib<0.5,>=0.4.1->tensorboard<2.1.0,>=2.0.0->tensorflow_gpu==2.0.0) (1.3.0)\n",
            "Requirement already satisfied: rsa<4.1,>=3.1.4 in /usr/local/lib/python3.6/dist-packages (from google-auth<2,>=1.6.3->tensorboard<2.1.0,>=2.0.0->tensorflow_gpu==2.0.0) (4.0)\n",
            "Requirement already satisfied: pyasn1-modules>=0.2.1 in /usr/local/lib/python3.6/dist-packages (from google-auth<2,>=1.6.3->tensorboard<2.1.0,>=2.0.0->tensorflow_gpu==2.0.0) (0.2.8)\n",
            "Requirement already satisfied: cachetools<3.2,>=2.0.0 in /usr/local/lib/python3.6/dist-packages (from google-auth<2,>=1.6.3->tensorboard<2.1.0,>=2.0.0->tensorflow_gpu==2.0.0) (3.1.1)\n",
            "Requirement already satisfied: idna<3,>=2.5 in /usr/local/lib/python3.6/dist-packages (from requests<3,>=2.21.0->tensorboard<2.1.0,>=2.0.0->tensorflow_gpu==2.0.0) (2.9)\n",
            "Requirement already satisfied: certifi>=2017.4.17 in /usr/local/lib/python3.6/dist-packages (from requests<3,>=2.21.0->tensorboard<2.1.0,>=2.0.0->tensorflow_gpu==2.0.0) (2020.4.5.1)\n",
            "Requirement already satisfied: chardet<4,>=3.0.2 in /usr/local/lib/python3.6/dist-packages (from requests<3,>=2.21.0->tensorboard<2.1.0,>=2.0.0->tensorflow_gpu==2.0.0) (3.0.4)\n",
            "Requirement already satisfied: urllib3!=1.25.0,!=1.25.1,<1.26,>=1.21.1 in /usr/local/lib/python3.6/dist-packages (from requests<3,>=2.21.0->tensorboard<2.1.0,>=2.0.0->tensorflow_gpu==2.0.0) (1.24.3)\n",
            "Requirement already satisfied: oauthlib>=3.0.0 in /usr/local/lib/python3.6/dist-packages (from requests-oauthlib>=0.7.0->google-auth-oauthlib<0.5,>=0.4.1->tensorboard<2.1.0,>=2.0.0->tensorflow_gpu==2.0.0) (3.1.0)\n",
            "Requirement already satisfied: pyasn1>=0.1.3 in /usr/local/lib/python3.6/dist-packages (from rsa<4.1,>=3.1.4->google-auth<2,>=1.6.3->tensorboard<2.1.0,>=2.0.0->tensorflow_gpu==2.0.0) (0.4.8)\n",
            "Building wheels for collected packages: gast\n",
            "  Building wheel for gast (setup.py) ... \u001b[?25l\u001b[?25hdone\n",
            "  Created wheel for gast: filename=gast-0.2.2-cp36-none-any.whl size=7540 sha256=30b880dbc35a84721d45ee4817b1a2cfe7231fd011f827b0eef6d2f3951773e2\n",
            "  Stored in directory: /root/.cache/pip/wheels/5c/2e/7e/a1d4d4fcebe6c381f378ce7743a3ced3699feb89bcfbdadadd\n",
            "Successfully built gast\n",
            "\u001b[31mERROR: tensorflow 2.2.0 has requirement gast==0.3.3, but you'll have gast 0.2.2 which is incompatible.\u001b[0m\n",
            "\u001b[31mERROR: tensorflow 2.2.0 has requirement tensorboard<2.3.0,>=2.2.0, but you'll have tensorboard 2.0.2 which is incompatible.\u001b[0m\n",
            "\u001b[31mERROR: tensorflow 2.2.0 has requirement tensorflow-estimator<2.3.0,>=2.2.0, but you'll have tensorflow-estimator 2.0.1 which is incompatible.\u001b[0m\n",
            "\u001b[31mERROR: tensorflow-probability 0.10.0rc0 has requirement gast>=0.3.2, but you'll have gast 0.2.2 which is incompatible.\u001b[0m\n",
            "Installing collected packages: gast, tensorflow-estimator, tensorboard, tensorflow-gpu\n",
            "  Found existing installation: gast 0.3.3\n",
            "    Uninstalling gast-0.3.3:\n",
            "      Successfully uninstalled gast-0.3.3\n",
            "  Found existing installation: tensorflow-estimator 2.2.0\n",
            "    Uninstalling tensorflow-estimator-2.2.0:\n",
            "      Successfully uninstalled tensorflow-estimator-2.2.0\n",
            "  Found existing installation: tensorboard 2.2.1\n",
            "    Uninstalling tensorboard-2.2.1:\n",
            "      Successfully uninstalled tensorboard-2.2.1\n",
            "Successfully installed gast-0.2.2 tensorboard-2.0.2 tensorflow-estimator-2.0.1 tensorflow-gpu-2.0.0\n"
          ],
          "name": "stdout"
        }
      ]
    },
    {
      "cell_type": "code",
      "metadata": {
        "id": "fXz3DT2gXVBA",
        "colab_type": "code",
        "outputId": "3e629e5d-efd0-45ac-dc0c-3088a9ef9a4b",
        "colab": {
          "base_uri": "https://localhost:8080/",
          "height": 179
        }
      },
      "source": [
        "pip install keras==2.3.1"
      ],
      "execution_count": 0,
      "outputs": [
        {
          "output_type": "stream",
          "text": [
            "Requirement already satisfied: keras==2.3.1 in /usr/local/lib/python3.6/dist-packages (2.3.1)\n",
            "Requirement already satisfied: h5py in /usr/local/lib/python3.6/dist-packages (from keras==2.3.1) (2.10.0)\n",
            "Requirement already satisfied: scipy>=0.14 in /usr/local/lib/python3.6/dist-packages (from keras==2.3.1) (1.4.1)\n",
            "Requirement already satisfied: keras-applications>=1.0.6 in /usr/local/lib/python3.6/dist-packages (from keras==2.3.1) (1.0.8)\n",
            "Requirement already satisfied: pyyaml in /usr/local/lib/python3.6/dist-packages (from keras==2.3.1) (3.13)\n",
            "Requirement already satisfied: keras-preprocessing>=1.0.5 in /usr/local/lib/python3.6/dist-packages (from keras==2.3.1) (1.1.0)\n",
            "Requirement already satisfied: numpy>=1.9.1 in /usr/local/lib/python3.6/dist-packages (from keras==2.3.1) (1.18.4)\n",
            "Requirement already satisfied: six>=1.9.0 in /usr/local/lib/python3.6/dist-packages (from keras==2.3.1) (1.12.0)\n"
          ],
          "name": "stdout"
        }
      ]
    },
    {
      "cell_type": "code",
      "metadata": {
        "id": "LZt_GRDtL4o5",
        "colab_type": "code",
        "outputId": "664a334a-1559-4273-8d83-fffbaf7e0eef",
        "colab": {
          "base_uri": "https://localhost:8080/",
          "height": 52
        }
      },
      "source": [
        "import keras\n",
        "keras.__version__"
      ],
      "execution_count": 0,
      "outputs": [
        {
          "output_type": "stream",
          "text": [
            "Using TensorFlow backend.\n"
          ],
          "name": "stderr"
        },
        {
          "output_type": "execute_result",
          "data": {
            "text/plain": [
              "'2.3.1'"
            ]
          },
          "metadata": {
            "tags": []
          },
          "execution_count": 3
        }
      ]
    },
    {
      "cell_type": "code",
      "metadata": {
        "id": "b3XrwaE6boqq",
        "colab_type": "code",
        "outputId": "8d715394-7949-4bae-8fdd-2d0085cd27f8",
        "colab": {
          "base_uri": "https://localhost:8080/",
          "height": 52
        }
      },
      "source": [
        "from keras.datasets import imdb\n",
        "import numpy as np\n",
        "\n",
        "(train_data, train_labels), (test_data, test_labels) = imdb.load_data(num_words=10000)"
      ],
      "execution_count": 0,
      "outputs": [
        {
          "output_type": "stream",
          "text": [
            "Downloading data from https://s3.amazonaws.com/text-datasets/imdb.npz\n",
            "17465344/17464789 [==============================] - 1s 0us/step\n"
          ],
          "name": "stdout"
        }
      ]
    },
    {
      "cell_type": "code",
      "metadata": {
        "id": "coAZm5WacIf_",
        "colab_type": "code",
        "outputId": "684849f6-c026-49b4-da6d-38a731a28fad",
        "colab": {
          "base_uri": "https://localhost:8080/",
          "height": 35
        }
      },
      "source": [
        "len(train_data)"
      ],
      "execution_count": 0,
      "outputs": [
        {
          "output_type": "execute_result",
          "data": {
            "text/plain": [
              "25000"
            ]
          },
          "metadata": {
            "tags": []
          },
          "execution_count": 5
        }
      ]
    },
    {
      "cell_type": "code",
      "metadata": {
        "id": "w2tYmt6TcIim",
        "colab_type": "code",
        "outputId": "969e1224-3ee2-41b7-d7f0-d7d4a1fcc0ee",
        "colab": {
          "base_uri": "https://localhost:8080/",
          "height": 35
        }
      },
      "source": [
        "len(test_data)"
      ],
      "execution_count": 0,
      "outputs": [
        {
          "output_type": "execute_result",
          "data": {
            "text/plain": [
              "25000"
            ]
          },
          "metadata": {
            "tags": []
          },
          "execution_count": 6
        }
      ]
    },
    {
      "cell_type": "code",
      "metadata": {
        "id": "y-3x8NZmcIoO",
        "colab_type": "code",
        "outputId": "95f7067e-76b1-4704-b223-5aa94ca3e72e",
        "colab": {
          "base_uri": "https://localhost:8080/",
          "height": 90
        }
      },
      "source": [
        "word_index = imdb.get_word_index()\n",
        "reverse_word_index = dict([(value, key) for (key, value) in word_index.items()])\n",
        "decoded_review = ' '.join([reverse_word_index.get(i-3, '?') for i in train_data[0]])\n",
        "decoded_review"
      ],
      "execution_count": 0,
      "outputs": [
        {
          "output_type": "stream",
          "text": [
            "Downloading data from https://s3.amazonaws.com/text-datasets/imdb_word_index.json\n",
            "1646592/1641221 [==============================] - 1s 0us/step\n"
          ],
          "name": "stdout"
        },
        {
          "output_type": "execute_result",
          "data": {
            "text/plain": [
              "\"? this film was just brilliant casting location scenery story direction everyone's really suited the part they played and you could just imagine being there robert ? is an amazing actor and now the same being director ? father came from the same scottish island as myself so i loved the fact there was a real connection with this film the witty remarks throughout the film were great it was just brilliant so much that i bought the film as soon as it was released for ? and would recommend it to everyone to watch and the fly fishing was amazing really cried at the end it was so sad and you know what they say if you cry at a film it must have been good and this definitely was also ? to the two little boy's that played the ? of norman and paul they were just brilliant children are often left out of the ? list i think because the stars that play them all grown up are such a big profile for the whole film but these children are amazing and should be praised for what they have done don't you think the whole story was so lovely because it was true and was someone's life after all that was shared with us all\""
            ]
          },
          "metadata": {
            "tags": []
          },
          "execution_count": 7
        }
      ]
    },
    {
      "cell_type": "code",
      "metadata": {
        "id": "Cj-bBYP3cIrG",
        "colab_type": "code",
        "outputId": "9847ab1c-ec4b-40df-dd93-9aedd74a8fdd",
        "colab": {
          "base_uri": "https://localhost:8080/",
          "height": 35
        }
      },
      "source": [
        "train_labels[0:10]"
      ],
      "execution_count": 0,
      "outputs": [
        {
          "output_type": "execute_result",
          "data": {
            "text/plain": [
              "array([1, 0, 0, 1, 0, 0, 1, 0, 1, 0])"
            ]
          },
          "metadata": {
            "tags": []
          },
          "execution_count": 8
        }
      ]
    },
    {
      "cell_type": "code",
      "metadata": {
        "id": "Xz_pCcgecIt9",
        "colab_type": "code",
        "colab": {}
      },
      "source": [
        "import numpy as np\n",
        "\n",
        "def vectorize_sequences(sequences, dimension = 10000):\n",
        "  results = np.zeros((len(sequences), dimension))\n",
        "  for i, sequence in enumerate(sequences):\n",
        "    results[i, sequence] = 1.\n",
        "  return results\n",
        "\n",
        "# 훈련 데이터를 벡터로 변환\n",
        "x_train = vectorize_sequences(train_data)\n",
        "# 테스트 데이터를 벡터로 변환\n",
        "x_test = vectorize_sequences(test_data)\n",
        "\n",
        "# 레이블을 벡터로 변환\n",
        "y_train = np.asarray(train_labels).astype('float32')\n",
        "y_test = np.asarray(test_labels).astype('float32')"
      ],
      "execution_count": 0,
      "outputs": []
    },
    {
      "cell_type": "code",
      "metadata": {
        "id": "jeXO2dJFUTtA",
        "colab_type": "code",
        "colab": {}
      },
      "source": [
        "from keras import models\n",
        "from keras import layers\n",
        "\n",
        "original_model = models.Sequential()\n",
        "original_model.add(layers.Dense(16, activation='relu', input_shape=(10000,)))\n",
        "original_model.add(layers.Dense(16, activation='relu'))\n",
        "original_model.add(layers.Dense(1, activation='sigmoid'))\n",
        "\n",
        "original_model.compile(optimizer='rmsprop',\n",
        "                       loss='binary_crossentropy',\n",
        "                       metrics=['acc'])"
      ],
      "execution_count": 0,
      "outputs": []
    },
    {
      "cell_type": "code",
      "metadata": {
        "id": "UZoz0kiDUTvo",
        "colab_type": "code",
        "outputId": "a09c7409-a8e5-490f-fb84-3e18fc05e9ef",
        "colab": {
          "base_uri": "https://localhost:8080/",
          "height": 763
        }
      },
      "source": [
        "original_hist = original_model.fit(x_train, y_train,\n",
        "                                   epochs=20,\n",
        "                                   batch_size=512,\n",
        "                                   validation_data=(x_test, y_test))"
      ],
      "execution_count": 0,
      "outputs": [
        {
          "output_type": "stream",
          "text": [
            "Train on 25000 samples, validate on 25000 samples\n",
            "Epoch 1/20\n",
            "25000/25000 [==============================] - 3s 132us/step - loss: 0.4912 - acc: 0.8179 - val_loss: 0.3619 - val_acc: 0.8775\n",
            "Epoch 2/20\n",
            "25000/25000 [==============================] - 3s 127us/step - loss: 0.2766 - acc: 0.9056 - val_loss: 0.3201 - val_acc: 0.8707\n",
            "Epoch 3/20\n",
            "25000/25000 [==============================] - 3s 128us/step - loss: 0.2108 - acc: 0.9234 - val_loss: 0.2781 - val_acc: 0.8909\n",
            "Epoch 4/20\n",
            "25000/25000 [==============================] - 3s 128us/step - loss: 0.1746 - acc: 0.9388 - val_loss: 0.2874 - val_acc: 0.8860\n",
            "Epoch 5/20\n",
            "25000/25000 [==============================] - 3s 128us/step - loss: 0.1508 - acc: 0.9470 - val_loss: 0.3061 - val_acc: 0.8817\n",
            "Epoch 6/20\n",
            "25000/25000 [==============================] - 3s 128us/step - loss: 0.1324 - acc: 0.9543 - val_loss: 0.3231 - val_acc: 0.8784\n",
            "Epoch 7/20\n",
            "25000/25000 [==============================] - 3s 129us/step - loss: 0.1191 - acc: 0.9588 - val_loss: 0.3455 - val_acc: 0.8750\n",
            "Epoch 8/20\n",
            "25000/25000 [==============================] - 3s 128us/step - loss: 0.1064 - acc: 0.9651 - val_loss: 0.3675 - val_acc: 0.8720\n",
            "Epoch 9/20\n",
            "25000/25000 [==============================] - 3s 128us/step - loss: 0.0951 - acc: 0.9686 - val_loss: 0.3951 - val_acc: 0.8686\n",
            "Epoch 10/20\n",
            "25000/25000 [==============================] - 3s 128us/step - loss: 0.0861 - acc: 0.9721 - val_loss: 0.4459 - val_acc: 0.8642\n",
            "Epoch 11/20\n",
            "25000/25000 [==============================] - 3s 128us/step - loss: 0.0766 - acc: 0.9755 - val_loss: 0.4807 - val_acc: 0.8560\n",
            "Epoch 12/20\n",
            "25000/25000 [==============================] - 3s 126us/step - loss: 0.0680 - acc: 0.9789 - val_loss: 0.5275 - val_acc: 0.8512\n",
            "Epoch 13/20\n",
            "25000/25000 [==============================] - 3s 127us/step - loss: 0.0623 - acc: 0.9805 - val_loss: 0.5290 - val_acc: 0.8565\n",
            "Epoch 14/20\n",
            "25000/25000 [==============================] - 3s 128us/step - loss: 0.0545 - acc: 0.9842 - val_loss: 0.5588 - val_acc: 0.8581\n",
            "Epoch 15/20\n",
            "25000/25000 [==============================] - 3s 129us/step - loss: 0.0521 - acc: 0.9838 - val_loss: 0.5863 - val_acc: 0.8542\n",
            "Epoch 16/20\n",
            "25000/25000 [==============================] - 3s 128us/step - loss: 0.0421 - acc: 0.9879 - val_loss: 0.6255 - val_acc: 0.8542\n",
            "Epoch 17/20\n",
            "25000/25000 [==============================] - 3s 128us/step - loss: 0.0388 - acc: 0.9883 - val_loss: 0.6682 - val_acc: 0.8533\n",
            "Epoch 18/20\n",
            "25000/25000 [==============================] - 3s 127us/step - loss: 0.0349 - acc: 0.9901 - val_loss: 0.7026 - val_acc: 0.8494\n",
            "Epoch 19/20\n",
            "25000/25000 [==============================] - 3s 127us/step - loss: 0.0296 - acc: 0.9921 - val_loss: 0.7495 - val_acc: 0.8460\n",
            "Epoch 20/20\n",
            "25000/25000 [==============================] - 3s 127us/step - loss: 0.0275 - acc: 0.9922 - val_loss: 0.7772 - val_acc: 0.8492\n"
          ],
          "name": "stdout"
        }
      ]
    },
    {
      "cell_type": "code",
      "metadata": {
        "id": "cPQ0ZYv5UTy8",
        "colab_type": "code",
        "colab": {
          "base_uri": "https://localhost:8080/",
          "height": 188
        },
        "outputId": "e174e018-0e5c-4f6d-f47e-47588a9a543a"
      },
      "source": [
        "epochs = range(1, 21)\n",
        "original_val_loss = original_hist.history['val_loss']"
      ],
      "execution_count": 4,
      "outputs": [
        {
          "output_type": "error",
          "ename": "NameError",
          "evalue": "ignored",
          "traceback": [
            "\u001b[0;31m---------------------------------------------------------------------------\u001b[0m",
            "\u001b[0;31mNameError\u001b[0m                                 Traceback (most recent call last)",
            "\u001b[0;32m<ipython-input-4-97be32dd0637>\u001b[0m in \u001b[0;36m<module>\u001b[0;34m()\u001b[0m\n\u001b[1;32m      1\u001b[0m \u001b[0mepochs\u001b[0m \u001b[0;34m=\u001b[0m \u001b[0mrange\u001b[0m\u001b[0;34m(\u001b[0m\u001b[0;36m1\u001b[0m\u001b[0;34m,\u001b[0m \u001b[0;36m21\u001b[0m\u001b[0;34m)\u001b[0m\u001b[0;34m\u001b[0m\u001b[0;34m\u001b[0m\u001b[0m\n\u001b[0;32m----> 2\u001b[0;31m \u001b[0moriginal_val_loss\u001b[0m \u001b[0;34m=\u001b[0m \u001b[0moriginal_hist\u001b[0m\u001b[0;34m.\u001b[0m\u001b[0mhistory\u001b[0m\u001b[0;34m[\u001b[0m\u001b[0;34m'val_loss'\u001b[0m\u001b[0;34m]\u001b[0m\u001b[0;34m\u001b[0m\u001b[0;34m\u001b[0m\u001b[0m\n\u001b[0m",
            "\u001b[0;31mNameError\u001b[0m: name 'original_hist' is not defined"
          ]
        }
      ]
    },
    {
      "cell_type": "markdown",
      "metadata": {
        "id": "X6eDvqxiUfK8",
        "colab_type": "text"
      },
      "source": [
        "### L2 규제 패널티 효과"
      ]
    },
    {
      "cell_type": "code",
      "metadata": {
        "id": "UFxYGw_3eYv9",
        "colab_type": "code",
        "colab": {
          "base_uri": "https://localhost:8080/",
          "height": 259
        },
        "outputId": "1949ebac-e644-4cf4-8ac6-521ca1468f55"
      },
      "source": [
        "from keras import regularizers\n",
        "\n",
        "# --> Insert your code here\n",
        "\n",
        "\n",
        "\n",
        "l2_model.compile(optimizer='rmsprop',\n",
        "                 loss='binary_crossentropy',\n",
        "                 metrics=['accuracy'])"
      ],
      "execution_count": 3,
      "outputs": [
        {
          "output_type": "stream",
          "text": [
            "Using TensorFlow backend.\n"
          ],
          "name": "stderr"
        },
        {
          "output_type": "error",
          "ename": "NameError",
          "evalue": "ignored",
          "traceback": [
            "\u001b[0;31m---------------------------------------------------------------------------\u001b[0m",
            "\u001b[0;31mNameError\u001b[0m                                 Traceback (most recent call last)",
            "\u001b[0;32m<ipython-input-3-688642292c10>\u001b[0m in \u001b[0;36m<module>\u001b[0;34m()\u001b[0m\n\u001b[1;32m      3\u001b[0m \u001b[0;31m# --> Insert your code here\u001b[0m\u001b[0;34m\u001b[0m\u001b[0;34m\u001b[0m\u001b[0;34m\u001b[0m\u001b[0m\n\u001b[1;32m      4\u001b[0m \u001b[0;34m\u001b[0m\u001b[0m\n\u001b[0;32m----> 5\u001b[0;31m l2_model.compile(optimizer='rmsprop',\n\u001b[0m\u001b[1;32m      6\u001b[0m                  \u001b[0mloss\u001b[0m\u001b[0;34m=\u001b[0m\u001b[0;34m'binary_crossentropy'\u001b[0m\u001b[0;34m,\u001b[0m\u001b[0;34m\u001b[0m\u001b[0;34m\u001b[0m\u001b[0m\n\u001b[1;32m      7\u001b[0m                  metrics=['accuracy'])\n",
            "\u001b[0;31mNameError\u001b[0m: name 'l2_model' is not defined"
          ]
        }
      ]
    },
    {
      "cell_type": "code",
      "metadata": {
        "id": "RoXzkzgmNogH",
        "colab_type": "code",
        "outputId": "b6035ccb-5559-4756-c154-4fcc99598034",
        "colab": {
          "base_uri": "https://localhost:8080/",
          "height": 763
        }
      },
      "source": [
        "l2_model_hist = l2_model.fit(x_train, y_train,\n",
        "                             epochs=20,\n",
        "                             batch_size=512,\n",
        "                             validation_data=(x_test, y_test))"
      ],
      "execution_count": 0,
      "outputs": [
        {
          "output_type": "stream",
          "text": [
            "Train on 25000 samples, validate on 25000 samples\n",
            "Epoch 1/20\n",
            "25000/25000 [==============================] - 3s 132us/step - loss: 0.4912 - accuracy: 0.8179 - val_loss: 0.3763 - val_accuracy: 0.8773\n",
            "Epoch 2/20\n",
            "25000/25000 [==============================] - 3s 128us/step - loss: 0.3075 - accuracy: 0.9076 - val_loss: 0.3560 - val_accuracy: 0.8715\n",
            "Epoch 3/20\n",
            "25000/25000 [==============================] - 3s 130us/step - loss: 0.2596 - accuracy: 0.9221 - val_loss: 0.3194 - val_accuracy: 0.8896\n",
            "Epoch 4/20\n",
            "25000/25000 [==============================] - 3s 128us/step - loss: 0.2379 - accuracy: 0.9321 - val_loss: 0.3276 - val_accuracy: 0.8854\n",
            "Epoch 5/20\n",
            "25000/25000 [==============================] - 3s 128us/step - loss: 0.2225 - accuracy: 0.9374 - val_loss: 0.3389 - val_accuracy: 0.8810\n",
            "Epoch 6/20\n",
            "25000/25000 [==============================] - 3s 130us/step - loss: 0.2135 - accuracy: 0.9401 - val_loss: 0.3970 - val_accuracy: 0.8616\n",
            "Epoch 7/20\n",
            "25000/25000 [==============================] - 3s 128us/step - loss: 0.2064 - accuracy: 0.9436 - val_loss: 0.3480 - val_accuracy: 0.8800\n",
            "Epoch 8/20\n",
            "25000/25000 [==============================] - 3s 129us/step - loss: 0.2017 - accuracy: 0.9452 - val_loss: 0.3635 - val_accuracy: 0.8754\n",
            "Epoch 9/20\n",
            "25000/25000 [==============================] - 3s 128us/step - loss: 0.1962 - accuracy: 0.9475 - val_loss: 0.3756 - val_accuracy: 0.8732\n",
            "Epoch 10/20\n",
            "25000/25000 [==============================] - 3s 128us/step - loss: 0.1933 - accuracy: 0.9486 - val_loss: 0.4007 - val_accuracy: 0.8663\n",
            "Epoch 11/20\n",
            "25000/25000 [==============================] - 3s 128us/step - loss: 0.1876 - accuracy: 0.9518 - val_loss: 0.3760 - val_accuracy: 0.8746\n",
            "Epoch 12/20\n",
            "25000/25000 [==============================] - 3s 128us/step - loss: 0.1859 - accuracy: 0.9506 - val_loss: 0.4255 - val_accuracy: 0.8623\n",
            "Epoch 13/20\n",
            "25000/25000 [==============================] - 3s 129us/step - loss: 0.1833 - accuracy: 0.9531 - val_loss: 0.4072 - val_accuracy: 0.8674\n",
            "Epoch 14/20\n",
            "25000/25000 [==============================] - 3s 129us/step - loss: 0.1780 - accuracy: 0.9540 - val_loss: 0.4042 - val_accuracy: 0.8691\n",
            "Epoch 15/20\n",
            "25000/25000 [==============================] - 3s 128us/step - loss: 0.1765 - accuracy: 0.9542 - val_loss: 0.4063 - val_accuracy: 0.8691\n",
            "Epoch 16/20\n",
            "25000/25000 [==============================] - 3s 129us/step - loss: 0.1729 - accuracy: 0.9567 - val_loss: 0.4923 - val_accuracy: 0.8487\n",
            "Epoch 17/20\n",
            "25000/25000 [==============================] - 3s 128us/step - loss: 0.1748 - accuracy: 0.9552 - val_loss: 0.4711 - val_accuracy: 0.8537\n",
            "Epoch 18/20\n",
            "25000/25000 [==============================] - 3s 129us/step - loss: 0.1696 - accuracy: 0.9569 - val_loss: 0.4453 - val_accuracy: 0.8615\n",
            "Epoch 19/20\n",
            "25000/25000 [==============================] - 3s 129us/step - loss: 0.1700 - accuracy: 0.9572 - val_loss: 0.4470 - val_accuracy: 0.8623\n",
            "Epoch 20/20\n",
            "25000/25000 [==============================] - 3s 128us/step - loss: 0.1657 - accuracy: 0.9585 - val_loss: 0.4320 - val_accuracy: 0.8651\n"
          ],
          "name": "stdout"
        }
      ]
    },
    {
      "cell_type": "code",
      "metadata": {
        "id": "PGrkNj2iS8E2",
        "colab_type": "code",
        "outputId": "3fadf3f9-1c2c-49d9-9233-8f8883879770",
        "colab": {
          "base_uri": "https://localhost:8080/",
          "height": 283
        }
      },
      "source": [
        "import matplotlib.pyplot as plt\n",
        "\n",
        "l2_model_val_loss = l2_model_hist.history['val_loss']\n",
        "\n",
        "plt.plot(epochs, original_val_loss, 'b+', label='Original model')\n",
        "plt.plot(epochs, l2_model_val_loss, 'bo', label='L2-regularized model')\n",
        "plt.xlabel('Epochs')\n",
        "plt.ylabel('Validation loss')\n",
        "plt.legend()\n",
        "\n",
        "plt.show()"
      ],
      "execution_count": 0,
      "outputs": [
        {
          "output_type": "display_data",
          "data": {
            "image/png": "[encoded data removed]",
            "text/plain": [
              "<Figure size 432x288 with 1 Axes>"
            ]
          },
          "metadata": {
            "tags": [],
            "needs_background": "light"
          }
        }
      ]
    },
    {
      "cell_type": "markdown",
      "metadata": {
        "id": "pclaDt68TUpm",
        "colab_type": "text"
      },
      "source": [
        "### l1(0.0001) 모델과 비교"
      ]
    },
    {
      "cell_type": "code",
      "metadata": {
        "id": "rfpqzDLYTAft",
        "colab_type": "code",
        "colab": {}
      },
      "source": [
        "l1_model = models.Sequential()\n",
        "# --> Insert your code here"
      ],
      "execution_count": 0,
      "outputs": []
    },
    {
      "cell_type": "code",
      "metadata": {
        "id": "lKNBLpLOTAoV",
        "colab_type": "code",
        "colab": {}
      },
      "source": [
        "l1_model.compile(optimizer='rmsprop',\n",
        "                 loss='binary_crossentropy',\n",
        "                 metrics=['accuracy'])"
      ],
      "execution_count": 0,
      "outputs": []
    },
    {
      "cell_type": "code",
      "metadata": {
        "id": "gGYckaJnTAr8",
        "colab_type": "code",
        "outputId": "6844e69d-895a-48c0-f183-b56bdcf5f436",
        "colab": {
          "base_uri": "https://localhost:8080/",
          "height": 763
        }
      },
      "source": [
        "l1_model_hist = l1_model.fit(x_train, y_train,\n",
        "                             epochs=20,\n",
        "                             batch_size=512,\n",
        "                             validation_data=(x_test, y_test))"
      ],
      "execution_count": 0,
      "outputs": [
        {
          "output_type": "stream",
          "text": [
            "Train on 25000 samples, validate on 25000 samples\n",
            "Epoch 1/20\n",
            "25000/25000 [==============================] - 3s 132us/step - loss: 0.5638 - accuracy: 0.8174 - val_loss: 0.4336 - val_accuracy: 0.8757\n",
            "Epoch 2/20\n",
            "25000/25000 [==============================] - 3s 131us/step - loss: 0.3814 - accuracy: 0.8931 - val_loss: 0.3757 - val_accuracy: 0.8870\n",
            "Epoch 3/20\n",
            "25000/25000 [==============================] - 3s 130us/step - loss: 0.3387 - accuracy: 0.9043 - val_loss: 0.3918 - val_accuracy: 0.8718\n",
            "Epoch 4/20\n",
            "25000/25000 [==============================] - 3s 129us/step - loss: 0.3220 - accuracy: 0.9104 - val_loss: 0.3615 - val_accuracy: 0.8866\n",
            "Epoch 5/20\n",
            "25000/25000 [==============================] - 3s 132us/step - loss: 0.3106 - accuracy: 0.9142 - val_loss: 0.3661 - val_accuracy: 0.8844\n",
            "Epoch 6/20\n",
            "25000/25000 [==============================] - 3s 129us/step - loss: 0.3019 - accuracy: 0.9164 - val_loss: 0.3772 - val_accuracy: 0.8814\n",
            "Epoch 7/20\n",
            "25000/25000 [==============================] - 3s 130us/step - loss: 0.2997 - accuracy: 0.9165 - val_loss: 0.3672 - val_accuracy: 0.8860\n",
            "Epoch 8/20\n",
            "25000/25000 [==============================] - 3s 131us/step - loss: 0.2899 - accuracy: 0.9231 - val_loss: 0.3944 - val_accuracy: 0.8742\n",
            "Epoch 9/20\n",
            "25000/25000 [==============================] - 3s 128us/step - loss: 0.2817 - accuracy: 0.9273 - val_loss: 0.3736 - val_accuracy: 0.8841\n",
            "Epoch 10/20\n",
            "25000/25000 [==============================] - 3s 129us/step - loss: 0.2812 - accuracy: 0.9248 - val_loss: 0.3757 - val_accuracy: 0.8831\n",
            "Epoch 11/20\n",
            "25000/25000 [==============================] - 3s 130us/step - loss: 0.2761 - accuracy: 0.9274 - val_loss: 0.3879 - val_accuracy: 0.8784\n",
            "Epoch 12/20\n",
            "25000/25000 [==============================] - 3s 130us/step - loss: 0.2689 - accuracy: 0.9314 - val_loss: 0.4124 - val_accuracy: 0.8687\n",
            "Epoch 13/20\n",
            "25000/25000 [==============================] - 3s 129us/step - loss: 0.2655 - accuracy: 0.9329 - val_loss: 0.3862 - val_accuracy: 0.8795\n",
            "Epoch 14/20\n",
            "25000/25000 [==============================] - 3s 130us/step - loss: 0.2651 - accuracy: 0.9319 - val_loss: 0.3997 - val_accuracy: 0.8776\n",
            "Epoch 15/20\n",
            "25000/25000 [==============================] - 3s 129us/step - loss: 0.2560 - accuracy: 0.9350 - val_loss: 0.3978 - val_accuracy: 0.8786\n",
            "Epoch 16/20\n",
            "25000/25000 [==============================] - 3s 130us/step - loss: 0.2511 - accuracy: 0.9380 - val_loss: 0.4483 - val_accuracy: 0.8650\n",
            "Epoch 17/20\n",
            "25000/25000 [==============================] - 3s 129us/step - loss: 0.2477 - accuracy: 0.9378 - val_loss: 0.4004 - val_accuracy: 0.8760\n",
            "Epoch 18/20\n",
            "25000/25000 [==============================] - 3s 130us/step - loss: 0.2429 - accuracy: 0.9410 - val_loss: 0.4426 - val_accuracy: 0.8646\n",
            "Epoch 19/20\n",
            "25000/25000 [==============================] - 3s 131us/step - loss: 0.2414 - accuracy: 0.9416 - val_loss: 0.4341 - val_accuracy: 0.8669\n",
            "Epoch 20/20\n",
            "25000/25000 [==============================] - 3s 132us/step - loss: 0.2366 - accuracy: 0.9447 - val_loss: 0.4092 - val_accuracy: 0.8745\n"
          ],
          "name": "stdout"
        }
      ]
    },
    {
      "cell_type": "code",
      "metadata": {
        "id": "Y4T8CB3kTZdN",
        "colab_type": "code",
        "outputId": "d853c47d-5a68-4ce0-ea03-23b4931a2bd7",
        "colab": {
          "base_uri": "https://localhost:8080/",
          "height": 241
        }
      },
      "source": [
        "l1_model_val_loss = l1_model_hist.history['val_loss']\n",
        " \n",
        "plt.plot(epochs, original_val_loss, 'b+', label='Original model')\n",
        "plt.plot(epochs, l1_model_val_loss, 'bo', label='L1-regularized model')\n",
        "plt.xlabel('Epochs')\n",
        "plt.ylabel('Validation loss')\n",
        "plt.legend()\n",
        "\n",
        "plt.show()"
      ],
      "execution_count": 1,
      "outputs": [
        {
          "output_type": "error",
          "ename": "NameError",
          "evalue": "ignored",
          "traceback": [
            "\u001b[0;31m---------------------------------------------------------------------------\u001b[0m",
            "\u001b[0;31mNameError\u001b[0m                                 Traceback (most recent call last)",
            "\u001b[0;32m<ipython-input-1-ec6ea13150fe>\u001b[0m in \u001b[0;36m<module>\u001b[0;34m()\u001b[0m\n\u001b[0;32m----> 1\u001b[0;31m \u001b[0ml1_model_val_loss\u001b[0m \u001b[0;34m=\u001b[0m \u001b[0ml1_model_hist\u001b[0m\u001b[0;34m.\u001b[0m\u001b[0mhistory\u001b[0m\u001b[0;34m[\u001b[0m\u001b[0;34m'val_loss'\u001b[0m\u001b[0;34m]\u001b[0m\u001b[0;34m\u001b[0m\u001b[0;34m\u001b[0m\u001b[0m\n\u001b[0m\u001b[1;32m      2\u001b[0m \u001b[0;34m\u001b[0m\u001b[0m\n\u001b[1;32m      3\u001b[0m \u001b[0mplt\u001b[0m\u001b[0;34m.\u001b[0m\u001b[0mplot\u001b[0m\u001b[0;34m(\u001b[0m\u001b[0mepochs\u001b[0m\u001b[0;34m,\u001b[0m \u001b[0moriginal_val_loss\u001b[0m\u001b[0;34m,\u001b[0m \u001b[0;34m'b+'\u001b[0m\u001b[0;34m,\u001b[0m \u001b[0mlabel\u001b[0m\u001b[0;34m=\u001b[0m\u001b[0;34m'Original model'\u001b[0m\u001b[0;34m)\u001b[0m\u001b[0;34m\u001b[0m\u001b[0;34m\u001b[0m\u001b[0m\n\u001b[1;32m      4\u001b[0m \u001b[0mplt\u001b[0m\u001b[0;34m.\u001b[0m\u001b[0mplot\u001b[0m\u001b[0;34m(\u001b[0m\u001b[0mepochs\u001b[0m\u001b[0;34m,\u001b[0m \u001b[0ml1_model_val_loss\u001b[0m\u001b[0;34m,\u001b[0m \u001b[0;34m'bo'\u001b[0m\u001b[0;34m,\u001b[0m \u001b[0mlabel\u001b[0m\u001b[0;34m=\u001b[0m\u001b[0;34m'L1-regularized model'\u001b[0m\u001b[0;34m)\u001b[0m\u001b[0;34m\u001b[0m\u001b[0;34m\u001b[0m\u001b[0m\n\u001b[1;32m      5\u001b[0m \u001b[0mplt\u001b[0m\u001b[0;34m.\u001b[0m\u001b[0mxlabel\u001b[0m\u001b[0;34m(\u001b[0m\u001b[0;34m'Epochs'\u001b[0m\u001b[0;34m)\u001b[0m\u001b[0;34m\u001b[0m\u001b[0;34m\u001b[0m\u001b[0m\n",
            "\u001b[0;31mNameError\u001b[0m: name 'l1_model_hist' is not defined"
          ]
        }
      ]
    },
    {
      "cell_type": "markdown",
      "metadata": {
        "id": "qDRPWtaNTbU-",
        "colab_type": "text"
      },
      "source": [
        "### l1_l2(l1=0.0001, l2=0.0001)모델과 비교"
      ]
    },
    {
      "cell_type": "code",
      "metadata": {
        "id": "RHP9kO7bTZfu",
        "colab_type": "code",
        "colab": {}
      },
      "source": [
        "l1l2_model = models.Sequential()\n",
        "# --> Insert your code here"
      ],
      "execution_count": 0,
      "outputs": []
    },
    {
      "cell_type": "code",
      "metadata": {
        "id": "0xHkmdicTZia",
        "colab_type": "code",
        "colab": {}
      },
      "source": [
        "l1l2_model.compile(optimizer='rmsprop',\n",
        "                   loss='binary_crossentropy',\n",
        "                   metrics=['accuracy'])"
      ],
      "execution_count": 0,
      "outputs": []
    },
    {
      "cell_type": "code",
      "metadata": {
        "id": "dfv30RtfTg31",
        "colab_type": "code",
        "outputId": "daf90f25-77f5-4497-94ae-fb6cd58a67da",
        "colab": {
          "base_uri": "https://localhost:8080/",
          "height": 763
        }
      },
      "source": [
        "l1l2_model_hist = l1l2_model.fit(x_train, y_train,\n",
        "                                 epochs=20,\n",
        "                                 batch_size=512,\n",
        "                                 validation_data=(x_test, y_test))"
      ],
      "execution_count": 0,
      "outputs": [
        {
          "output_type": "stream",
          "text": [
            "Train on 25000 samples, validate on 25000 samples\n",
            "Epoch 1/20\n",
            "25000/25000 [==============================] - 3s 137us/step - loss: 0.5582 - accuracy: 0.8163 - val_loss: 0.4394 - val_accuracy: 0.8677\n",
            "Epoch 2/20\n",
            "25000/25000 [==============================] - 3s 130us/step - loss: 0.3680 - accuracy: 0.8962 - val_loss: 0.4105 - val_accuracy: 0.8621\n",
            "Epoch 3/20\n",
            "25000/25000 [==============================] - 3s 131us/step - loss: 0.3286 - accuracy: 0.9066 - val_loss: 0.3580 - val_accuracy: 0.8882\n",
            "Epoch 4/20\n",
            "25000/25000 [==============================] - 3s 132us/step - loss: 0.3133 - accuracy: 0.9122 - val_loss: 0.3645 - val_accuracy: 0.8841\n",
            "Epoch 5/20\n",
            "25000/25000 [==============================] - 3s 131us/step - loss: 0.3009 - accuracy: 0.9175 - val_loss: 0.3605 - val_accuracy: 0.8872\n",
            "Epoch 6/20\n",
            "25000/25000 [==============================] - 3s 130us/step - loss: 0.2934 - accuracy: 0.9195 - val_loss: 0.3637 - val_accuracy: 0.8849\n",
            "Epoch 7/20\n",
            "25000/25000 [==============================] - 3s 132us/step - loss: 0.2871 - accuracy: 0.9230 - val_loss: 0.3736 - val_accuracy: 0.8818\n",
            "Epoch 8/20\n",
            "25000/25000 [==============================] - 3s 131us/step - loss: 0.2810 - accuracy: 0.9265 - val_loss: 0.3730 - val_accuracy: 0.8830\n",
            "Epoch 9/20\n",
            "25000/25000 [==============================] - 3s 131us/step - loss: 0.2804 - accuracy: 0.9244 - val_loss: 0.3784 - val_accuracy: 0.8813\n",
            "Epoch 10/20\n",
            "25000/25000 [==============================] - 3s 133us/step - loss: 0.2719 - accuracy: 0.9271 - val_loss: 0.4330 - val_accuracy: 0.8638\n",
            "Epoch 11/20\n",
            "25000/25000 [==============================] - 3s 131us/step - loss: 0.2694 - accuracy: 0.9307 - val_loss: 0.4079 - val_accuracy: 0.8702\n",
            "Epoch 12/20\n",
            "25000/25000 [==============================] - 3s 131us/step - loss: 0.2663 - accuracy: 0.9316 - val_loss: 0.3905 - val_accuracy: 0.8770\n",
            "Epoch 13/20\n",
            "25000/25000 [==============================] - 3s 132us/step - loss: 0.2625 - accuracy: 0.9336 - val_loss: 0.3953 - val_accuracy: 0.8780\n",
            "Epoch 14/20\n",
            "25000/25000 [==============================] - 3s 130us/step - loss: 0.2621 - accuracy: 0.9332 - val_loss: 0.3994 - val_accuracy: 0.8749\n",
            "Epoch 15/20\n",
            "25000/25000 [==============================] - 3s 131us/step - loss: 0.2547 - accuracy: 0.9385 - val_loss: 0.4140 - val_accuracy: 0.8704\n",
            "Epoch 16/20\n",
            "25000/25000 [==============================] - 3s 130us/step - loss: 0.2540 - accuracy: 0.9374 - val_loss: 0.4022 - val_accuracy: 0.8771\n",
            "Epoch 17/20\n",
            "25000/25000 [==============================] - 3s 130us/step - loss: 0.2531 - accuracy: 0.9374 - val_loss: 0.4064 - val_accuracy: 0.8757\n",
            "Epoch 18/20\n",
            "25000/25000 [==============================] - 3s 131us/step - loss: 0.2466 - accuracy: 0.9405 - val_loss: 0.4196 - val_accuracy: 0.8709\n",
            "Epoch 19/20\n",
            "25000/25000 [==============================] - 3s 130us/step - loss: 0.2453 - accuracy: 0.9424 - val_loss: 0.4139 - val_accuracy: 0.8755\n",
            "Epoch 20/20\n",
            "25000/25000 [==============================] - 3s 132us/step - loss: 0.2413 - accuracy: 0.9435 - val_loss: 0.4257 - val_accuracy: 0.8741\n"
          ],
          "name": "stdout"
        }
      ]
    },
    {
      "cell_type": "code",
      "metadata": {
        "id": "8pXYkfCCTg6H",
        "colab_type": "code",
        "outputId": "56d409cd-bb3a-42d1-b782-e807d593e8a8",
        "colab": {
          "base_uri": "https://localhost:8080/",
          "height": 283
        }
      },
      "source": [
        "l1l2_model_val_loss = l1l2_model_hist.history['val_loss']\n",
        "\n",
        "plt.plot(epochs, original_val_loss, 'b+', label='Original model')\n",
        "plt.plot(epochs, l1l2_model_val_loss, 'bo', label='L1,L2-regularized model')\n",
        "plt.xlabel('Epochs')\n",
        "plt.ylabel('Validation loss')\n",
        "plt.legend()\n",
        "\n",
        "plt.show()"
      ],
      "execution_count": 0,
      "outputs": [
        {
          "output_type": "display_data",
          "data": {
            "image/png": "[encoded data removed]",
            "text/plain": [
              "<Figure size 432x288 with 1 Axes>"
            ]
          },
          "metadata": {
            "tags": [],
            "needs_background": "light"
          }
        }
      ]
    },
    {
      "cell_type": "markdown",
      "metadata": {
        "id": "GOA4eS0YVMNY",
        "colab_type": "text"
      },
      "source": [
        "### Drop out 효과"
      ]
    },
    {
      "cell_type": "code",
      "metadata": {
        "id": "C6ohNZIKThBF",
        "colab_type": "code",
        "colab": {}
      },
      "source": [
        "dpt_model = models.Sequential()\n",
        "# --> Insert your code here\n",
        "\n",
        "dpt_model.compile(optimizer='rmsprop',\n",
        "                  loss='binary_crossentropy',\n",
        "                  metrics=['accuracy'])"
      ],
      "execution_count": 0,
      "outputs": []
    },
    {
      "cell_type": "code",
      "metadata": {
        "id": "874zSLxmVXat",
        "colab_type": "code",
        "outputId": "e4021223-aab9-449d-b74f-58648b2fe39c",
        "colab": {
          "base_uri": "https://localhost:8080/",
          "height": 763
        }
      },
      "source": [
        "dpt_model_hist = dpt_model.fit(x_train, y_train,\n",
        "                               epochs=20,\n",
        "                               batch_size=512,\n",
        "                               validation_data=(x_test, y_test))"
      ],
      "execution_count": 0,
      "outputs": [
        {
          "output_type": "stream",
          "text": [
            "Train on 25000 samples, validate on 25000 samples\n",
            "Epoch 1/20\n",
            "25000/25000 [==============================] - 3s 135us/step - loss: 0.6158 - accuracy: 0.6525 - val_loss: 0.5026 - val_accuracy: 0.8607\n",
            "Epoch 2/20\n",
            "25000/25000 [==============================] - 3s 128us/step - loss: 0.4794 - accuracy: 0.7927 - val_loss: 0.3741 - val_accuracy: 0.8804\n",
            "Epoch 3/20\n",
            "25000/25000 [==============================] - 3s 129us/step - loss: 0.3838 - accuracy: 0.8524 - val_loss: 0.3066 - val_accuracy: 0.8868\n",
            "Epoch 4/20\n",
            "25000/25000 [==============================] - 3s 128us/step - loss: 0.3227 - accuracy: 0.8828 - val_loss: 0.2834 - val_accuracy: 0.8888\n",
            "Epoch 5/20\n",
            "25000/25000 [==============================] - 3s 128us/step - loss: 0.2761 - accuracy: 0.9076 - val_loss: 0.2874 - val_accuracy: 0.8862\n",
            "Epoch 6/20\n",
            "25000/25000 [==============================] - 3s 129us/step - loss: 0.2391 - accuracy: 0.9187 - val_loss: 0.2863 - val_accuracy: 0.8887\n",
            "Epoch 7/20\n",
            "25000/25000 [==============================] - 3s 129us/step - loss: 0.2176 - accuracy: 0.9274 - val_loss: 0.3021 - val_accuracy: 0.8875\n",
            "Epoch 8/20\n",
            "25000/25000 [==============================] - 3s 129us/step - loss: 0.1959 - accuracy: 0.9372 - val_loss: 0.3138 - val_accuracy: 0.8857\n",
            "Epoch 9/20\n",
            "25000/25000 [==============================] - 3s 129us/step - loss: 0.1810 - accuracy: 0.9410 - val_loss: 0.3293 - val_accuracy: 0.8836\n",
            "Epoch 10/20\n",
            "25000/25000 [==============================] - 3s 127us/step - loss: 0.1680 - accuracy: 0.9457 - val_loss: 0.3614 - val_accuracy: 0.8833\n",
            "Epoch 11/20\n",
            "25000/25000 [==============================] - 3s 128us/step - loss: 0.1531 - accuracy: 0.9494 - val_loss: 0.3880 - val_accuracy: 0.8794\n",
            "Epoch 12/20\n",
            "25000/25000 [==============================] - 3s 128us/step - loss: 0.1454 - accuracy: 0.9516 - val_loss: 0.4107 - val_accuracy: 0.8796\n",
            "Epoch 13/20\n",
            "25000/25000 [==============================] - 3s 129us/step - loss: 0.1375 - accuracy: 0.9571 - val_loss: 0.4398 - val_accuracy: 0.8767\n",
            "Epoch 14/20\n",
            "25000/25000 [==============================] - 3s 130us/step - loss: 0.1320 - accuracy: 0.9579 - val_loss: 0.4576 - val_accuracy: 0.8775\n",
            "Epoch 15/20\n",
            "25000/25000 [==============================] - 3s 128us/step - loss: 0.1270 - accuracy: 0.9610 - val_loss: 0.4760 - val_accuracy: 0.8778\n",
            "Epoch 16/20\n",
            "25000/25000 [==============================] - 3s 130us/step - loss: 0.1245 - accuracy: 0.9627 - val_loss: 0.4856 - val_accuracy: 0.8764\n",
            "Epoch 17/20\n",
            "25000/25000 [==============================] - 3s 128us/step - loss: 0.1165 - accuracy: 0.9632 - val_loss: 0.5533 - val_accuracy: 0.8732\n",
            "Epoch 18/20\n",
            "25000/25000 [==============================] - 3s 128us/step - loss: 0.1160 - accuracy: 0.9630 - val_loss: 0.5309 - val_accuracy: 0.8730\n",
            "Epoch 19/20\n",
            "25000/25000 [==============================] - 3s 130us/step - loss: 0.1146 - accuracy: 0.9654 - val_loss: 0.5382 - val_accuracy: 0.8736\n",
            "Epoch 20/20\n",
            "25000/25000 [==============================] - 3s 129us/step - loss: 0.1068 - accuracy: 0.9671 - val_loss: 0.5736 - val_accuracy: 0.8732\n"
          ],
          "name": "stdout"
        }
      ]
    },
    {
      "cell_type": "code",
      "metadata": {
        "id": "NiDCvR41VXdV",
        "colab_type": "code",
        "outputId": "b781f346-8bf7-4405-e7b3-31c186d0ed40",
        "colab": {
          "base_uri": "https://localhost:8080/",
          "height": 283
        }
      },
      "source": [
        "dpt_model_val_loss = dpt_model_hist.history['val_loss']\n",
        "\n",
        "plt.plot(epochs, original_val_loss, 'b+', label='Original model')\n",
        "plt.plot(epochs, dpt_model_val_loss, 'bo', label='Dropout-regularized model')\n",
        "plt.xlabel('Epochs')\n",
        "plt.ylabel('Validation loss')\n",
        "plt.legend()\n",
        "\n",
        "plt.show()"
      ],
      "execution_count": 0,
      "outputs": [
        {
          "output_type": "display_data",
          "data": {
            "image/png": "[encoded data removed]",
            "text/plain": [
              "<Figure size 432x288 with 1 Axes>"
            ]
          },
          "metadata": {
            "tags": [],
            "needs_background": "light"
          }
        }
      ]
    },
    {
      "cell_type": "code",
      "metadata": {
        "id": "o6NZNJUrVXf-",
        "colab_type": "code",
        "colab": {}
      },
      "source": [
        ""
      ],
      "execution_count": 0,
      "outputs": []
    }
  ]
}