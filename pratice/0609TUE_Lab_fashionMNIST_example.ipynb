{
  "nbformat": 4,
  "nbformat_minor": 0,
  "metadata": {
    "colab": {
      "name": "0609TUE_Lab-fashionMNIST-example.ipynb",
      "provenance": [],
      "collapsed_sections": [],
      "include_colab_link": true
    },
    "kernelspec": {
      "name": "python3",
      "display_name": "Python 3"
    },
    "accelerator": "GPU"
  },
  "cells": [
    {
      "cell_type": "markdown",
      "metadata": {
        "id": "view-in-github",
        "colab_type": "text"
      },
      "source": [
        "<a href=\"https://colab.research.google.com/github/jaedeokhan/20_1_AI_Introduce/blob/master/pratice/0609TUE_Lab_fashionMNIST_example.ipynb\" target=\"_parent\"><img src=\"https://colab.research.google.com/assets/colab-badge.svg\" alt=\"Open In Colab\"/></a>"
      ]
    },
    {
      "cell_type": "markdown",
      "metadata": {
        "id": "ozHcTurJYBPO",
        "colab_type": "text"
      },
      "source": [
        "FashionMNIST 합성곱 신경망 설계 과제\n",
        "\n",
        " - 첨부 ipython 파일 샘플 예제에서 코드 작성\n",
        "\n",
        " - 10000개의 테스트 데이터에 대한 정확도 성능 최대치가 되도록 설계\n",
        "\n",
        "   (기준: 90% 이상)\n",
        "\n",
        " \n",
        "\n",
        "1. 코드 반영 최소 내용\n",
        "\n",
        " - FashionMNIST 데이터 샘플 10개 출력되도록 코드 반영\n",
        "\n",
        " - 학습 결과인 loss 및 accuracy 그림 도시 반영\n",
        "\n",
        " - 훈련 데이터 중 10000개는 validation 데이터셋으로 나누어 성능 튜닝 코드 반영\n",
        "\n",
        " \n",
        "\n",
        " \n",
        "\n",
        "2. 실험조건\n",
        "\n",
        "  - Conv2D/Pooling 조합을 최대 3개까지로 제한 (첨부 샘플에서는 2개로 되어 있음)\n",
        "\n",
        "  - Flatten() 대신에 GlobalMaxPooling2D 혹은 GlobalAveragePooling2D 사용 가능\n",
        "\n",
        " - 각 conv의 최대 특징맵 출력 개수를 64개까지로 제한\n",
        "\n",
        " - classifier의 Dense 층의 개수 및 출력 뉴런의 개수는 제한이 없음\n",
        "\n",
        " - 네트워크 사이즈, droput 및 regularization, 최적화 방법, 배치 사이즈, 학습률, epochs 등 파라미터 성능 튜닝하여 성능 개선"
      ]
    },
    {
      "cell_type": "code",
      "metadata": {
        "id": "h3rx_9pBN3su",
        "colab_type": "code",
        "outputId": "1517667d-06e7-4985-e90d-02e2df13cf56",
        "colab": {
          "base_uri": "https://localhost:8080/",
          "height": 677
        }
      },
      "source": [
        "pip install tensorflow_gpu==2.0.0"
      ],
      "execution_count": 1,
      "outputs": [
        {
          "output_type": "stream",
          "text": [
            "Requirement already satisfied: tensorflow_gpu==2.0.0 in /usr/local/lib/python3.6/dist-packages (2.0.0)\n",
            "Requirement already satisfied: wheel>=0.26 in /usr/local/lib/python3.6/dist-packages (from tensorflow_gpu==2.0.0) (0.34.2)\n",
            "Requirement already satisfied: grpcio>=1.8.6 in /usr/local/lib/python3.6/dist-packages (from tensorflow_gpu==2.0.0) (1.29.0)\n",
            "Requirement already satisfied: wrapt>=1.11.1 in /usr/local/lib/python3.6/dist-packages (from tensorflow_gpu==2.0.0) (1.12.1)\n",
            "Requirement already satisfied: astor>=0.6.0 in /usr/local/lib/python3.6/dist-packages (from tensorflow_gpu==2.0.0) (0.8.1)\n",
            "Requirement already satisfied: keras-applications>=1.0.8 in /usr/local/lib/python3.6/dist-packages (from tensorflow_gpu==2.0.0) (1.0.8)\n",
            "Requirement already satisfied: absl-py>=0.7.0 in /usr/local/lib/python3.6/dist-packages (from tensorflow_gpu==2.0.0) (0.9.0)\n",
            "Requirement already satisfied: six>=1.10.0 in /usr/local/lib/python3.6/dist-packages (from tensorflow_gpu==2.0.0) (1.12.0)\n",
            "Requirement already satisfied: tensorboard<2.1.0,>=2.0.0 in /usr/local/lib/python3.6/dist-packages (from tensorflow_gpu==2.0.0) (2.0.2)\n",
            "Requirement already satisfied: termcolor>=1.1.0 in /usr/local/lib/python3.6/dist-packages (from tensorflow_gpu==2.0.0) (1.1.0)\n",
            "Requirement already satisfied: numpy<2.0,>=1.16.0 in /usr/local/lib/python3.6/dist-packages (from tensorflow_gpu==2.0.0) (1.18.4)\n",
            "Requirement already satisfied: gast==0.2.2 in /usr/local/lib/python3.6/dist-packages (from tensorflow_gpu==2.0.0) (0.2.2)\n",
            "Requirement already satisfied: tensorflow-estimator<2.1.0,>=2.0.0 in /usr/local/lib/python3.6/dist-packages (from tensorflow_gpu==2.0.0) (2.0.1)\n",
            "Requirement already satisfied: google-pasta>=0.1.6 in /usr/local/lib/python3.6/dist-packages (from tensorflow_gpu==2.0.0) (0.2.0)\n",
            "Requirement already satisfied: opt-einsum>=2.3.2 in /usr/local/lib/python3.6/dist-packages (from tensorflow_gpu==2.0.0) (3.2.1)\n",
            "Requirement already satisfied: protobuf>=3.6.1 in /usr/local/lib/python3.6/dist-packages (from tensorflow_gpu==2.0.0) (3.10.0)\n",
            "Requirement already satisfied: keras-preprocessing>=1.0.5 in /usr/local/lib/python3.6/dist-packages (from tensorflow_gpu==2.0.0) (1.1.2)\n",
            "Requirement already satisfied: h5py in /usr/local/lib/python3.6/dist-packages (from keras-applications>=1.0.8->tensorflow_gpu==2.0.0) (2.10.0)\n",
            "Requirement already satisfied: google-auth<2,>=1.6.3 in /usr/local/lib/python3.6/dist-packages (from tensorboard<2.1.0,>=2.0.0->tensorflow_gpu==2.0.0) (1.7.2)\n",
            "Requirement already satisfied: google-auth-oauthlib<0.5,>=0.4.1 in /usr/local/lib/python3.6/dist-packages (from tensorboard<2.1.0,>=2.0.0->tensorflow_gpu==2.0.0) (0.4.1)\n",
            "Requirement already satisfied: markdown>=2.6.8 in /usr/local/lib/python3.6/dist-packages (from tensorboard<2.1.0,>=2.0.0->tensorflow_gpu==2.0.0) (3.2.2)\n",
            "Requirement already satisfied: requests<3,>=2.21.0 in /usr/local/lib/python3.6/dist-packages (from tensorboard<2.1.0,>=2.0.0->tensorflow_gpu==2.0.0) (2.23.0)\n",
            "Requirement already satisfied: werkzeug>=0.11.15 in /usr/local/lib/python3.6/dist-packages (from tensorboard<2.1.0,>=2.0.0->tensorflow_gpu==2.0.0) (1.0.1)\n",
            "Requirement already satisfied: setuptools>=41.0.0 in /usr/local/lib/python3.6/dist-packages (from tensorboard<2.1.0,>=2.0.0->tensorflow_gpu==2.0.0) (47.1.1)\n",
            "Requirement already satisfied: pyasn1-modules>=0.2.1 in /usr/local/lib/python3.6/dist-packages (from google-auth<2,>=1.6.3->tensorboard<2.1.0,>=2.0.0->tensorflow_gpu==2.0.0) (0.2.8)\n",
            "Requirement already satisfied: cachetools<3.2,>=2.0.0 in /usr/local/lib/python3.6/dist-packages (from google-auth<2,>=1.6.3->tensorboard<2.1.0,>=2.0.0->tensorflow_gpu==2.0.0) (3.1.1)\n",
            "Requirement already satisfied: rsa<4.1,>=3.1.4 in /usr/local/lib/python3.6/dist-packages (from google-auth<2,>=1.6.3->tensorboard<2.1.0,>=2.0.0->tensorflow_gpu==2.0.0) (4.0)\n",
            "Requirement already satisfied: requests-oauthlib>=0.7.0 in /usr/local/lib/python3.6/dist-packages (from google-auth-oauthlib<0.5,>=0.4.1->tensorboard<2.1.0,>=2.0.0->tensorflow_gpu==2.0.0) (1.3.0)\n",
            "Requirement already satisfied: importlib-metadata; python_version < \"3.8\" in /usr/local/lib/python3.6/dist-packages (from markdown>=2.6.8->tensorboard<2.1.0,>=2.0.0->tensorflow_gpu==2.0.0) (1.6.0)\n",
            "Requirement already satisfied: certifi>=2017.4.17 in /usr/local/lib/python3.6/dist-packages (from requests<3,>=2.21.0->tensorboard<2.1.0,>=2.0.0->tensorflow_gpu==2.0.0) (2020.4.5.1)\n",
            "Requirement already satisfied: chardet<4,>=3.0.2 in /usr/local/lib/python3.6/dist-packages (from requests<3,>=2.21.0->tensorboard<2.1.0,>=2.0.0->tensorflow_gpu==2.0.0) (3.0.4)\n",
            "Requirement already satisfied: idna<3,>=2.5 in /usr/local/lib/python3.6/dist-packages (from requests<3,>=2.21.0->tensorboard<2.1.0,>=2.0.0->tensorflow_gpu==2.0.0) (2.9)\n",
            "Requirement already satisfied: urllib3!=1.25.0,!=1.25.1,<1.26,>=1.21.1 in /usr/local/lib/python3.6/dist-packages (from requests<3,>=2.21.0->tensorboard<2.1.0,>=2.0.0->tensorflow_gpu==2.0.0) (1.24.3)\n",
            "Requirement already satisfied: pyasn1<0.5.0,>=0.4.6 in /usr/local/lib/python3.6/dist-packages (from pyasn1-modules>=0.2.1->google-auth<2,>=1.6.3->tensorboard<2.1.0,>=2.0.0->tensorflow_gpu==2.0.0) (0.4.8)\n",
            "Requirement already satisfied: oauthlib>=3.0.0 in /usr/local/lib/python3.6/dist-packages (from requests-oauthlib>=0.7.0->google-auth-oauthlib<0.5,>=0.4.1->tensorboard<2.1.0,>=2.0.0->tensorflow_gpu==2.0.0) (3.1.0)\n",
            "Requirement already satisfied: zipp>=0.5 in /usr/local/lib/python3.6/dist-packages (from importlib-metadata; python_version < \"3.8\"->markdown>=2.6.8->tensorboard<2.1.0,>=2.0.0->tensorflow_gpu==2.0.0) (3.1.0)\n"
          ],
          "name": "stdout"
        }
      ]
    },
    {
      "cell_type": "code",
      "metadata": {
        "id": "fXz3DT2gXVBA",
        "colab_type": "code",
        "outputId": "caf45db5-316c-449b-8da9-774843fdfeec",
        "colab": {
          "base_uri": "https://localhost:8080/",
          "height": 179
        }
      },
      "source": [
        "pip install keras==2.3.1"
      ],
      "execution_count": 2,
      "outputs": [
        {
          "output_type": "stream",
          "text": [
            "Requirement already satisfied: keras==2.3.1 in /usr/local/lib/python3.6/dist-packages (2.3.1)\n",
            "Requirement already satisfied: h5py in /usr/local/lib/python3.6/dist-packages (from keras==2.3.1) (2.10.0)\n",
            "Requirement already satisfied: scipy>=0.14 in /usr/local/lib/python3.6/dist-packages (from keras==2.3.1) (1.4.1)\n",
            "Requirement already satisfied: numpy>=1.9.1 in /usr/local/lib/python3.6/dist-packages (from keras==2.3.1) (1.18.4)\n",
            "Requirement already satisfied: keras-preprocessing>=1.0.5 in /usr/local/lib/python3.6/dist-packages (from keras==2.3.1) (1.1.2)\n",
            "Requirement already satisfied: keras-applications>=1.0.6 in /usr/local/lib/python3.6/dist-packages (from keras==2.3.1) (1.0.8)\n",
            "Requirement already satisfied: six>=1.9.0 in /usr/local/lib/python3.6/dist-packages (from keras==2.3.1) (1.12.0)\n",
            "Requirement already satisfied: pyyaml in /usr/local/lib/python3.6/dist-packages (from keras==2.3.1) (3.13)\n"
          ],
          "name": "stdout"
        }
      ]
    },
    {
      "cell_type": "code",
      "metadata": {
        "id": "43ujDqNfV-F8",
        "colab_type": "code",
        "outputId": "0a1cfb04-67d5-41ea-e4e2-9228230578cf",
        "colab": {
          "base_uri": "https://localhost:8080/",
          "height": 52
        }
      },
      "source": [
        "import keras\n",
        "keras.__version__"
      ],
      "execution_count": 3,
      "outputs": [
        {
          "output_type": "stream",
          "text": [
            "Using TensorFlow backend.\n"
          ],
          "name": "stderr"
        },
        {
          "output_type": "execute_result",
          "data": {
            "text/plain": [
              "'2.3.1'"
            ]
          },
          "metadata": {
            "tags": []
          },
          "execution_count": 3
        }
      ]
    },
    {
      "cell_type": "code",
      "metadata": {
        "id": "jej8c1gZ7uQ7",
        "colab_type": "code",
        "outputId": "d2dca336-024f-4dc7-ebea-c8b2d1a036d7",
        "colab": {
          "base_uri": "https://localhost:8080/",
          "height": 35
        }
      },
      "source": [
        "from keras import layers\n",
        "from keras import models\n",
        "from keras.datasets import fashion_mnist\n",
        "from keras.utils import to_categorical\n",
        "import os\n",
        "!pwd"
      ],
      "execution_count": 4,
      "outputs": [
        {
          "output_type": "stream",
          "text": [
            "/content\n"
          ],
          "name": "stdout"
        }
      ]
    },
    {
      "cell_type": "code",
      "metadata": {
        "id": "37I_XqPZ7uTj",
        "colab_type": "code",
        "outputId": "45933be0-8d7e-4746-9b4f-b2b1a88c7149",
        "colab": {
          "base_uri": "https://localhost:8080/",
          "height": 479
        }
      },
      "source": [
        "model = models.Sequential()\n",
        "model.add(layers.Conv2D(32,(3,3),activation='relu', padding ='same', input_shape=(28,28,1)))\n",
        "model.add(layers.MaxPooling2D((2,2)))\n",
        "model.add(layers.Conv2D(32,(3,3),activation='relu', padding ='same'))\n",
        "model.add(layers.MaxPooling2D((2,2)))\n",
        "model.add(layers.Conv2D(64,(3,3),activation='relu', padding ='same'))\n",
        "model.add(layers.MaxPooling2D((2,2)))\n",
        "model.add(layers.Flatten())\n",
        "model.add(layers.Dense(256, activation='relu'))\n",
        "model.add(layers.Dense(10, activation='softmax'))\n",
        "model.summary()"
      ],
      "execution_count": 5,
      "outputs": [
        {
          "output_type": "stream",
          "text": [
            "Model: \"sequential_1\"\n",
            "_________________________________________________________________\n",
            "Layer (type)                 Output Shape              Param #   \n",
            "=================================================================\n",
            "conv2d_1 (Conv2D)            (None, 28, 28, 32)        320       \n",
            "_________________________________________________________________\n",
            "max_pooling2d_1 (MaxPooling2 (None, 14, 14, 32)        0         \n",
            "_________________________________________________________________\n",
            "conv2d_2 (Conv2D)            (None, 14, 14, 32)        9248      \n",
            "_________________________________________________________________\n",
            "max_pooling2d_2 (MaxPooling2 (None, 7, 7, 32)          0         \n",
            "_________________________________________________________________\n",
            "conv2d_3 (Conv2D)            (None, 7, 7, 64)          18496     \n",
            "_________________________________________________________________\n",
            "max_pooling2d_3 (MaxPooling2 (None, 3, 3, 64)          0         \n",
            "_________________________________________________________________\n",
            "flatten_1 (Flatten)          (None, 576)               0         \n",
            "_________________________________________________________________\n",
            "dense_1 (Dense)              (None, 256)               147712    \n",
            "_________________________________________________________________\n",
            "dense_2 (Dense)              (None, 10)                2570      \n",
            "=================================================================\n",
            "Total params: 178,346\n",
            "Trainable params: 178,346\n",
            "Non-trainable params: 0\n",
            "_________________________________________________________________\n"
          ],
          "name": "stdout"
        }
      ]
    },
    {
      "cell_type": "code",
      "metadata": {
        "id": "lIwEsskL7uWP",
        "colab_type": "code",
        "colab": {}
      },
      "source": [
        "(train_images, train_labels), (test_images, test_labels) = fashion_mnist.load_data()"
      ],
      "execution_count": 0,
      "outputs": []
    },
    {
      "cell_type": "markdown",
      "metadata": {
        "id": "xe_HRdnNcLJo",
        "colab_type": "text"
      },
      "source": [
        "#### 1. FashionMNIST 데이터 샘플 10개 출력되도록 코드 반영 "
      ]
    },
    {
      "cell_type": "code",
      "metadata": {
        "id": "ypAE1nQmZB7N",
        "colab_type": "code",
        "outputId": "73f1f11e-8a3e-4967-cbd0-431b0c08a88b",
        "colab": {
          "base_uri": "https://localhost:8080/",
          "height": 423
        }
      },
      "source": [
        "import numpy as np\n",
        "import matplotlib.pyplot as plt\n",
        "%matplotlib inline\n",
        "class_name = ['T-shirt/top', 'Trouser', 'Pullover', 'Dress', 'Coat', 'Sandal', 'Shirt', 'Sneaker', 'Bag', 'Ankle boot']\n",
        "plt.figure(figsize=(15, 10))\n",
        "for i in range(10):\n",
        "    plt.subplot(2, 5, i + 1)\n",
        "    plt.xticks([]) # x축에 눈금을 없애는 역할\n",
        "    plt.yticks([]) # y축에 눈금을 없애는 역할\n",
        "    plt.grid(False)\n",
        "    plt.imshow(train_images[i], cmap=plt.cm.binary) # cmap = plt.cm.binary는 흑백\n",
        "    plt.xlabel(class_name[train_labels[i]], fontsize=15)\n",
        "plt.show()"
      ],
      "execution_count": 7,
      "outputs": [
        {
          "output_type": "display_data",
          "data": {
            "image/png": "[encoded data removed]",
            "text/plain": [
              "<Figure size 1080x720 with 10 Axes>"
            ]
          },
          "metadata": {
            "tags": []
          }
        }
      ]
    },
    {
      "cell_type": "code",
      "metadata": {
        "id": "RTzPl3Ah7uYo",
        "colab_type": "code",
        "colab": {}
      },
      "source": [
        "train_images = train_images.reshape((60000, 28, 28, 1))\n",
        "train_images = train_images.astype('float32') / 255\n",
        "\n",
        "test_images = test_images.reshape((10000, 28, 28, 1))\n",
        "test_images = test_images.astype('float32') / 255\n",
        "\n",
        "train_labels = to_categorical(train_labels)\n",
        "test_labels = to_categorical(test_labels)"
      ],
      "execution_count": 0,
      "outputs": []
    },
    {
      "cell_type": "code",
      "metadata": {
        "id": "HmgKlHDCmVSy",
        "colab_type": "code",
        "colab": {
          "base_uri": "https://localhost:8080/",
          "height": 52
        },
        "outputId": "efdfa222-3660-4fc9-cc65-6af7d08341a3"
      },
      "source": [
        "x_val = train_images[:10000]\n",
        "partial_x_train = train_images[10000:]\n",
        "y_val = train_labels[:10000]\n",
        "partial_y_train = train_labels[10000:]\n",
        "\n",
        "print(x_val.shape)\n",
        "print(partial_x_train.shape)"
      ],
      "execution_count": 9,
      "outputs": [
        {
          "output_type": "stream",
          "text": [
            "(10000, 28, 28, 1)\n",
            "(50000, 28, 28, 1)\n"
          ],
          "name": "stdout"
        }
      ]
    },
    {
      "cell_type": "code",
      "metadata": {
        "id": "iYukzSBL7q-z",
        "colab_type": "code",
        "colab": {}
      },
      "source": [
        "model.compile(optimizer='rmsprop',\n",
        "               loss='categorical_crossentropy',\n",
        "               metrics=['accuracy'])"
      ],
      "execution_count": 0,
      "outputs": []
    },
    {
      "cell_type": "code",
      "metadata": {
        "id": "AAGZLNmv_Cq_",
        "colab_type": "code",
        "outputId": "55b0a276-49b0-466b-ebf1-62c2183e18b4",
        "colab": {
          "base_uri": "https://localhost:8080/",
          "height": 339
        }
      },
      "source": [
        "history  = model.fit(partial_x_train,\n",
        "                     partial_y_train,\n",
        "                     epochs=8,\n",
        "                     batch_size=64,\n",
        "                     validation_data=(x_val, y_val))"
      ],
      "execution_count": 11,
      "outputs": [
        {
          "output_type": "stream",
          "text": [
            "Train on 50000 samples, validate on 10000 samples\n",
            "Epoch 1/8\n",
            "50000/50000 [==============================] - 9s 186us/step - loss: 0.5326 - accuracy: 0.8046 - val_loss: 0.5094 - val_accuracy: 0.8132\n",
            "Epoch 2/8\n",
            "50000/50000 [==============================] - 8s 162us/step - loss: 0.3224 - accuracy: 0.8817 - val_loss: 0.2936 - val_accuracy: 0.8903\n",
            "Epoch 3/8\n",
            "50000/50000 [==============================] - 8s 162us/step - loss: 0.2730 - accuracy: 0.9007 - val_loss: 0.2741 - val_accuracy: 0.8959\n",
            "Epoch 4/8\n",
            "50000/50000 [==============================] - 8s 165us/step - loss: 0.2405 - accuracy: 0.9113 - val_loss: 0.2597 - val_accuracy: 0.9014\n",
            "Epoch 5/8\n",
            "50000/50000 [==============================] - 8s 169us/step - loss: 0.2184 - accuracy: 0.9195 - val_loss: 0.2328 - val_accuracy: 0.9147\n",
            "Epoch 6/8\n",
            "50000/50000 [==============================] - 8s 169us/step - loss: 0.1987 - accuracy: 0.9264 - val_loss: 0.2614 - val_accuracy: 0.9041\n",
            "Epoch 7/8\n",
            "50000/50000 [==============================] - 8s 169us/step - loss: 0.1842 - accuracy: 0.9307 - val_loss: 0.2545 - val_accuracy: 0.9088\n",
            "Epoch 8/8\n",
            "50000/50000 [==============================] - 8s 161us/step - loss: 0.1703 - accuracy: 0.9372 - val_loss: 0.2313 - val_accuracy: 0.9175\n"
          ],
          "name": "stdout"
        }
      ]
    },
    {
      "cell_type": "code",
      "metadata": {
        "id": "y65fRlJf_Ctz",
        "colab_type": "code",
        "outputId": "e031eee7-305f-4f84-9008-de9307d1f514",
        "colab": {
          "base_uri": "https://localhost:8080/",
          "height": 35
        }
      },
      "source": [
        "test_loss, test_acc = model.evaluate(test_images, test_labels)"
      ],
      "execution_count": 12,
      "outputs": [
        {
          "output_type": "stream",
          "text": [
            "10000/10000 [==============================] - 1s 122us/step\n"
          ],
          "name": "stdout"
        }
      ]
    },
    {
      "cell_type": "code",
      "metadata": {
        "id": "NQ-K-Q_H_Cxr",
        "colab_type": "code",
        "outputId": "a51e40e4-e8d4-4519-f413-ed6874afbcbe",
        "colab": {
          "base_uri": "https://localhost:8080/",
          "height": 35
        }
      },
      "source": [
        "test_acc"
      ],
      "execution_count": 13,
      "outputs": [
        {
          "output_type": "execute_result",
          "data": {
            "text/plain": [
              "0.9150999784469604"
            ]
          },
          "metadata": {
            "tags": []
          },
          "execution_count": 13
        }
      ]
    },
    {
      "cell_type": "markdown",
      "metadata": {
        "id": "9Um07xvhrNam",
        "colab_type": "text"
      },
      "source": [
        "#### 2. 학습 결과인 loss & accuracy 그림 도시 반영"
      ]
    },
    {
      "cell_type": "code",
      "metadata": {
        "id": "5SdbThQ5lSfS",
        "colab_type": "code",
        "colab": {
          "base_uri": "https://localhost:8080/",
          "height": 295
        },
        "outputId": "5de91ade-49d0-4319-bf1b-73962b09875b"
      },
      "source": [
        "import matplotlib.pyplot as plt\n",
        "\n",
        "history_dict = history.history\n",
        "loss = history_dict['loss']\n",
        "val_loss = history_dict['val_loss']\n",
        "\n",
        "epochs = range(1, len(loss) + 1)\n",
        "\n",
        "plt.plot(epochs, loss, 'go', label=\"Training loss\")\n",
        "plt.plot(epochs, val_loss, 'r', label=\"Validation loss\")\n",
        "plt.title(\"Training and validation loss\")\n",
        "plt.xlabel('Epochs')\n",
        "plt.ylabel('Loss')\n",
        "plt.legend()\n",
        "plt.show()"
      ],
      "execution_count": 17,
      "outputs": [
        {
          "output_type": "display_data",
          "data": {
            "image/png": "[encoded data removed]",
            "text/plain": [
              "<Figure size 432x288 with 1 Axes>"
            ]
          },
          "metadata": {
            "tags": [],
            "needs_background": "light"
          }
        }
      ]
    },
    {
      "cell_type": "code",
      "metadata": {
        "id": "r0CkJIj3oa8Z",
        "colab_type": "code",
        "colab": {
          "base_uri": "https://localhost:8080/",
          "height": 295
        },
        "outputId": "a1243748-b858-48f0-9b30-16847cc49f1a"
      },
      "source": [
        "plt.clf()\n",
        "acc = history_dict['accuracy']\n",
        "val_acc = history_dict['val_accuracy']\n",
        "\n",
        "plt.plot(epochs, acc, 'go', label='Training acc')\n",
        "plt.plot(epochs, val_acc, 'r', label='Validation acc')\n",
        "plt.title('Training and Validation acc')\n",
        "plt.xlabel('Epochs')\n",
        "plt.ylabel('Accuracy')\n",
        "plt.legend()\n",
        "plt.show()"
      ],
      "execution_count": 18,
      "outputs": [
        {
          "output_type": "display_data",
          "data": {
            "image/png": "[encoded data removed]",
            "text/plain": [
              "<Figure size 432x288 with 1 Axes>"
            ]
          },
          "metadata": {
            "tags": [],
            "needs_background": "light"
          }
        }
      ]
    },
    {
      "cell_type": "markdown",
      "metadata": {
        "id": "9GYp4AWDgu7A",
        "colab_type": "text"
      },
      "source": [
        "* epochs = 5\n",
        "* batch_size = 32\n",
        "* Dense 128\n",
        "   * test_acc = 0.9088\n",
        "\n",
        "```\n",
        "# 60000/60000 [==============================] - 14s 237us/step - loss: 0.2109 - accuracy: 0.9232\n",
        "# test_acc = 0.9088\n",
        "model = models.Sequential()\n",
        "model.add(layers.Conv2D(32,(3,3),activation='relu', padding ='same', input_shape=(28,28,1)))\n",
        "model.add(layers.MaxPooling2D((2,2)))\n",
        "model.add(layers.Conv2D(32,(3,3),activation='relu', padding ='same'))\n",
        "model.add(layers.MaxPooling2D((2,2)))\n",
        "model.add(layers.Conv2D(64,(3,3),activation='relu', padding ='same'))\n",
        "model.add(layers.MaxPooling2D((2,2)))\n",
        "model.add(layers.Flatten())\n",
        "model.add(layers.Dense(128, activation='relu'))\n",
        "model.add(layers.Dense(10, activation='softmax'))\n",
        "```\n",
        "\n",
        "* 위 코드 그대로 epochs = 10 으로 하니 \n",
        "   * test_acc=90\n",
        "\n",
        "* epoch = 20, batch_size = 64\n",
        "   * test_acc =90\n",
        "   \n",
        "```\n",
        "Epoch 16/20\n",
        "50000/50000 [==============================] - 8s 156us/step - loss: 0.0982 - accuracy: 0.9642 - val_loss: 0.3489 - val_accuracy: 0.9201\n",
        "Epoch 17/20\n",
        "50000/50000 [==============================] - 8s 155us/step - loss: 0.0929 - accuracy: 0.9654 - val_loss: 0.3692 - val_accuracy: 0.9019\n",
        "\n",
        "test_acc = 90\n",
        "```\n",
        "\n",
        "* epochs = 20, batch_size = 128 \n",
        "   * 성능저하\n",
        "\n",
        "* 위와 같이, batch_size = 256\n",
        "   * 성능저하\n"
      ]
    },
    {
      "cell_type": "markdown",
      "metadata": {
        "id": "sm16tP3FjctY",
        "colab_type": "text"
      },
      "source": [
        "<!-- ###################################### -->\n",
        "* Dense 256, batch_size = 64\n",
        "   * test_acc = 91\n",
        "\n",
        "```\n",
        "# train = 92\n",
        "# test = 91\n",
        "model = models.Sequential()\n",
        "model.add(layers.Conv2D(32,(3,3),activation='relu', padding ='same', input_shape=(28,28,1)))\n",
        "model.add(layers.MaxPooling2D((2,2)))\n",
        "model.add(layers.Conv2D(32,(3,3),activation='relu', padding ='same'))\n",
        "model.add(layers.MaxPooling2D((2,2)))\n",
        "model.add(layers.Conv2D(64,(3,3),activation='relu', padding ='same'))\n",
        "model.add(layers.MaxPooling2D((2,2)))\n",
        "model.add(layers.Flatten())\n",
        "model.add(layers.Dense(256, activation='relu'))\n",
        "model.add(layers.Dense(10, activation='softmax'))\n",
        "\n",
        "model.summary()\n",
        "\n",
        "batch_size = 64\n",
        "```\n",
        "\n",
        "* 위와 같은 방식으로 epochs = 10\n",
        "   * test_acc = 91.5\n",
        "\n",
        "\n",
        "* Dropout 추가 \n",
        "   * test_acc = 89\n",
        "   \n",
        "```\n",
        "model = models.Sequential()\n",
        "model.add(layers.Conv2D(32,(3,3),activation='relu', padding ='same', input_shape=(28,28,1)))\n",
        "model.add(layers.MaxPooling2D((2,2)))\n",
        "model.add(layers.Dropout(0.25))\n",
        "model.add(layers.Conv2D(32,(3,3),activation='relu', padding ='same'))\n",
        "model.add(layers.MaxPooling2D((2,2)))\n",
        "model.add(layers.Dropout(0.25))\n",
        "model.add(layers.Conv2D(64,(3,3),activation='relu', padding ='same'))\n",
        "model.add(layers.MaxPooling2D((2,2)))\n",
        "model.add(layers.Dropout(0.25))\n",
        "model.add(layers.Flatten())\n",
        "model.add(layers.Dense(256, activation='relu'))\n",
        "model.add(layers.Dropout(0.5))\n",
        "model.add(layers.Dense(10, activation='softmax'))\n",
        "\n",
        "model.summary()\n",
        "\n",
        "Dropout 추가 => test 89\n",
        "```\n",
        "\n"
      ]
    },
    {
      "cell_type": "markdown",
      "metadata": {
        "id": "P0UqDeGvvVkt",
        "colab_type": "text"
      },
      "source": [
        "```\n",
        "model = models.Sequential()\n",
        "model.add(layers.Conv2D(32,(3,3),activation='relu', padding ='same', input_shape=(28,28,1)))\n",
        "model.add(layers.MaxPooling2D((2,2)))\n",
        "model.add(layers.Dropout(0.25))\n",
        "model.add(layers.Conv2D(32,(3,3),activation='relu', padding ='same'))\n",
        "model.add(layers.MaxPooling2D((2,2)))\n",
        "model.add(layers.Dropout(0.25))\n",
        "# model.add(layers.Conv2D(64,(3,3),activation='relu', padding ='same'))\n",
        "# model.add(layers.MaxPooling2D((2,2)))\n",
        "# model.add(layers.Dropout(0.25))\n",
        "model.add(layers.Flatten())\n",
        "model.add(layers.Dense(256, activation='relu'))\n",
        "model.add(layers.Dropout(0.5))\n",
        "model.add(layers.Dense(10, activation='softmax'))\n",
        "\n",
        "model.summary()\n",
        "\n",
        "Epoch 8/10\n",
        "50000/50000 [==============================] - 8s 159us/step - loss: 0.2910 - accuracy: 0.8981 - val_loss: 0.2419 - val_accuracy: 0.9130\n",
        "Epoch 9/10\n",
        "50000/50000 [==============================] - 8s 158us/step - loss: 0.2927 - accuracy: 0.8980 - val_loss: 0.2972 - val_accuracy: 0.9110\n",
        "Epoch 10/10\n",
        "50000/50000 [==============================] - 8s 159us/step - loss: 0.2880 - accuracy: 0.8995 - val_loss: 0.2861 - val_accuracy: 0.9109\n",
        "\n",
        "test => 0.9042999744415283\n",
        "```"
      ]
    },
    {
      "cell_type": "markdown",
      "metadata": {
        "id": "vD31Wto2yXLC",
        "colab_type": "text"
      },
      "source": [
        "```\n",
        "model = models.Sequential()\n",
        "model.add(layers.Conv2D(32,(3,3),activation='relu', padding ='same', input_shape=(28,28,1)))\n",
        "model.add(layers.MaxPooling2D((2,2)))\n",
        "model.add(layers.Dropout(0.25))\n",
        "model.add(layers.Conv2D(64,(3,3),activation='relu', padding ='same'))\n",
        "model.add(layers.MaxPooling2D((2,2)))\n",
        "model.add(layers.Dropout(0.25))\n",
        "# model.add(layers.Conv2D(64,(3,3),activation='relu', padding ='same'))\n",
        "# model.add(layers.MaxPooling2D((2,2)))\n",
        "# model.add(layers.Dropout(0.25))\n",
        "model.add(layers.Flatten())\n",
        "model.add(layers.Dense(256, activation='relu'))\n",
        "model.add(layers.Dropout(0.5))\n",
        "model.add(layers.Dense(10, activation='softmax'))\n",
        "\n",
        "model.summary()\n",
        "\n",
        "Epoch 1/5\n",
        "50000/50000 [==============================] - 11s 216us/step - loss: 0.5391 - accuracy: 0.8053 - val_loss: 0.3361 - val_accuracy: 0.8786\n",
        "Epoch 2/5\n",
        "50000/50000 [==============================] - 9s 187us/step - loss: 0.3586 - accuracy: 0.8719 - val_loss: 0.3091 - val_accuracy: 0.8925\n",
        "Epoch 3/5\n",
        "50000/50000 [==============================] - 9s 186us/step - loss: 0.3184 - accuracy: 0.8845 - val_loss: 0.2952 - val_accuracy: 0.8947\n",
        "Epoch 4/5\n",
        "50000/50000 [==============================] - 9s 187us/step - loss: 0.2982 - accuracy: 0.8936 - val_loss: 0.2730 - val_accuracy: 0.9013\n",
        "Epoch 5/5\n",
        "50000/50000 [==============================] - 9s 185us/step - loss: 0.2887 - accuracy: 0.8973 - val_loss: 0.2603 - val_accuracy: 0.9095\n",
        "\n",
        "test_acc => 0.9024999737739563\n",
        "```"
      ]
    },
    {
      "cell_type": "markdown",
      "metadata": {
        "id": "vu0etu0R0uXj",
        "colab_type": "text"
      },
      "source": [
        "```\n",
        "model = models.Sequential()\n",
        "model.add(layers.Conv2D(32,(3,3),activation='relu', padding ='same', input_shape=(28,28,1)))\n",
        "# model.add(layers.MaxPooling2D((2,2)))\n",
        "model.add(layers.GlobalMaxPooling2D(2,2))\n",
        "model.add(layers.Conv2D(32,(3,3),activation='relu', padding ='same'))\n",
        "# model.add(layers.MaxPooling2D((2,2)))\n",
        "model.add(layers.GlobalMaxPooling2D(2,2))\n",
        "model.add(layers.Conv2D(64,(3,3),activation='relu', padding ='same'))\n",
        "# model.add(layers.MaxPooling2D((2,2)))\n",
        "model.add(layers.GlobalMaxPooling2D(2,2))\n",
        "model.add(layers.Flatten())\n",
        "model.add(layers.Dense(256, activation='relu'))\n",
        "model.add(layers.Dense(10, activation='softmax'))\n",
        "\n",
        "model.summary()\n",
        "\n",
        "Epoch 6/8\n",
        "50000/50000 [==============================] - 8s 159us/step - loss: 0.2055 - accuracy: 0.9254 - val_loss: 0.2584 - val_accuracy: 0.9089\n",
        "Epoch 7/8\n",
        "50000/50000 [==============================] - 8s 159us/step - loss: 0.1896 - accuracy: 0.9309 - val_loss: 0.2481 - val_accuracy: 0.9119\n",
        "Epoch 8/8\n",
        "50000/50000 [==============================] - 8s 158us/step - loss: 0.1768 - accuracy: 0.9345 - val_loss: 0.2681 - val_accuracy: 0.9096\n",
        "\n",
        "test_acc = 0.9036999940872192\n",
        "```"
      ]
    }
  ]
}