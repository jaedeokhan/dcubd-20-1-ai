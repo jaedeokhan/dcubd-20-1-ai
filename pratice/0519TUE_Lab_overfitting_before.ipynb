{
  "nbformat": 4,
  "nbformat_minor": 0,
  "metadata": {
    "colab": {
      "name": "0519TUE_Lab-overfitting-before.ipynb",
      "provenance": [],
      "collapsed_sections": [],
      "include_colab_link": true
    },
    "kernelspec": {
      "name": "python3",
      "display_name": "Python 3"
    },
    "accelerator": "GPU"
  },
  "cells": [
    {
      "cell_type": "markdown",
      "metadata": {
        "id": "view-in-github",
        "colab_type": "text"
      },
      "source": [
        "<a href=\"https://colab.research.google.com/github/jaedeokhan/20_1_AI_Introduce/blob/master/pratice/0519TUE_Lab_overfitting_before.ipynb\" target=\"_parent\"><img src=\"https://colab.research.google.com/assets/colab-badge.svg\" alt=\"Open In Colab\"/></a>"
      ]
    },
    {
      "cell_type": "code",
      "metadata": {
        "id": "h3rx_9pBN3su",
        "colab_type": "code",
        "outputId": "d22d775e-5a23-4e57-aad4-9d76645c3f5f",
        "colab": {
          "base_uri": "https://localhost:8080/",
          "height": 621
        }
      },
      "source": [
        "pip install tensorflow_gpu==2.0.0"
      ],
      "execution_count": 1,
      "outputs": [
        {
          "output_type": "stream",
          "text": [
            "Requirement already satisfied: tensorflow_gpu==2.0.0 in /usr/local/lib/python3.6/dist-packages (2.0.0)\n",
            "Requirement already satisfied: tensorflow-estimator<2.1.0,>=2.0.0 in /usr/local/lib/python3.6/dist-packages (from tensorflow_gpu==2.0.0) (2.0.1)\n",
            "Requirement already satisfied: six>=1.10.0 in /usr/local/lib/python3.6/dist-packages (from tensorflow_gpu==2.0.0) (1.12.0)\n",
            "Requirement already satisfied: protobuf>=3.6.1 in /usr/local/lib/python3.6/dist-packages (from tensorflow_gpu==2.0.0) (3.10.0)\n",
            "Requirement already satisfied: keras-preprocessing>=1.0.5 in /usr/local/lib/python3.6/dist-packages (from tensorflow_gpu==2.0.0) (1.1.0)\n",
            "Requirement already satisfied: astor>=0.6.0 in /usr/local/lib/python3.6/dist-packages (from tensorflow_gpu==2.0.0) (0.8.1)\n",
            "Requirement already satisfied: keras-applications>=1.0.8 in /usr/local/lib/python3.6/dist-packages (from tensorflow_gpu==2.0.0) (1.0.8)\n",
            "Requirement already satisfied: numpy<2.0,>=1.16.0 in /usr/local/lib/python3.6/dist-packages (from tensorflow_gpu==2.0.0) (1.18.4)\n",
            "Requirement already satisfied: absl-py>=0.7.0 in /usr/local/lib/python3.6/dist-packages (from tensorflow_gpu==2.0.0) (0.9.0)\n",
            "Requirement already satisfied: wrapt>=1.11.1 in /usr/local/lib/python3.6/dist-packages (from tensorflow_gpu==2.0.0) (1.12.1)\n",
            "Requirement already satisfied: tensorboard<2.1.0,>=2.0.0 in /usr/local/lib/python3.6/dist-packages (from tensorflow_gpu==2.0.0) (2.0.2)\n",
            "Requirement already satisfied: termcolor>=1.1.0 in /usr/local/lib/python3.6/dist-packages (from tensorflow_gpu==2.0.0) (1.1.0)\n",
            "Requirement already satisfied: grpcio>=1.8.6 in /usr/local/lib/python3.6/dist-packages (from tensorflow_gpu==2.0.0) (1.28.1)\n",
            "Requirement already satisfied: opt-einsum>=2.3.2 in /usr/local/lib/python3.6/dist-packages (from tensorflow_gpu==2.0.0) (3.2.1)\n",
            "Requirement already satisfied: wheel>=0.26 in /usr/local/lib/python3.6/dist-packages (from tensorflow_gpu==2.0.0) (0.34.2)\n",
            "Requirement already satisfied: gast==0.2.2 in /usr/local/lib/python3.6/dist-packages (from tensorflow_gpu==2.0.0) (0.2.2)\n",
            "Requirement already satisfied: google-pasta>=0.1.6 in /usr/local/lib/python3.6/dist-packages (from tensorflow_gpu==2.0.0) (0.2.0)\n",
            "Requirement already satisfied: setuptools in /usr/local/lib/python3.6/dist-packages (from protobuf>=3.6.1->tensorflow_gpu==2.0.0) (46.3.0)\n",
            "Requirement already satisfied: h5py in /usr/local/lib/python3.6/dist-packages (from keras-applications>=1.0.8->tensorflow_gpu==2.0.0) (2.10.0)\n",
            "Requirement already satisfied: google-auth<2,>=1.6.3 in /usr/local/lib/python3.6/dist-packages (from tensorboard<2.1.0,>=2.0.0->tensorflow_gpu==2.0.0) (1.7.2)\n",
            "Requirement already satisfied: requests<3,>=2.21.0 in /usr/local/lib/python3.6/dist-packages (from tensorboard<2.1.0,>=2.0.0->tensorflow_gpu==2.0.0) (2.23.0)\n",
            "Requirement already satisfied: werkzeug>=0.11.15 in /usr/local/lib/python3.6/dist-packages (from tensorboard<2.1.0,>=2.0.0->tensorflow_gpu==2.0.0) (1.0.1)\n",
            "Requirement already satisfied: markdown>=2.6.8 in /usr/local/lib/python3.6/dist-packages (from tensorboard<2.1.0,>=2.0.0->tensorflow_gpu==2.0.0) (3.2.1)\n",
            "Requirement already satisfied: google-auth-oauthlib<0.5,>=0.4.1 in /usr/local/lib/python3.6/dist-packages (from tensorboard<2.1.0,>=2.0.0->tensorflow_gpu==2.0.0) (0.4.1)\n",
            "Requirement already satisfied: pyasn1-modules>=0.2.1 in /usr/local/lib/python3.6/dist-packages (from google-auth<2,>=1.6.3->tensorboard<2.1.0,>=2.0.0->tensorflow_gpu==2.0.0) (0.2.8)\n",
            "Requirement already satisfied: rsa<4.1,>=3.1.4 in /usr/local/lib/python3.6/dist-packages (from google-auth<2,>=1.6.3->tensorboard<2.1.0,>=2.0.0->tensorflow_gpu==2.0.0) (4.0)\n",
            "Requirement already satisfied: cachetools<3.2,>=2.0.0 in /usr/local/lib/python3.6/dist-packages (from google-auth<2,>=1.6.3->tensorboard<2.1.0,>=2.0.0->tensorflow_gpu==2.0.0) (3.1.1)\n",
            "Requirement already satisfied: urllib3!=1.25.0,!=1.25.1,<1.26,>=1.21.1 in /usr/local/lib/python3.6/dist-packages (from requests<3,>=2.21.0->tensorboard<2.1.0,>=2.0.0->tensorflow_gpu==2.0.0) (1.24.3)\n",
            "Requirement already satisfied: chardet<4,>=3.0.2 in /usr/local/lib/python3.6/dist-packages (from requests<3,>=2.21.0->tensorboard<2.1.0,>=2.0.0->tensorflow_gpu==2.0.0) (3.0.4)\n",
            "Requirement already satisfied: certifi>=2017.4.17 in /usr/local/lib/python3.6/dist-packages (from requests<3,>=2.21.0->tensorboard<2.1.0,>=2.0.0->tensorflow_gpu==2.0.0) (2020.4.5.1)\n",
            "Requirement already satisfied: idna<3,>=2.5 in /usr/local/lib/python3.6/dist-packages (from requests<3,>=2.21.0->tensorboard<2.1.0,>=2.0.0->tensorflow_gpu==2.0.0) (2.9)\n",
            "Requirement already satisfied: requests-oauthlib>=0.7.0 in /usr/local/lib/python3.6/dist-packages (from google-auth-oauthlib<0.5,>=0.4.1->tensorboard<2.1.0,>=2.0.0->tensorflow_gpu==2.0.0) (1.3.0)\n",
            "Requirement already satisfied: pyasn1<0.5.0,>=0.4.6 in /usr/local/lib/python3.6/dist-packages (from pyasn1-modules>=0.2.1->google-auth<2,>=1.6.3->tensorboard<2.1.0,>=2.0.0->tensorflow_gpu==2.0.0) (0.4.8)\n",
            "Requirement already satisfied: oauthlib>=3.0.0 in /usr/local/lib/python3.6/dist-packages (from requests-oauthlib>=0.7.0->google-auth-oauthlib<0.5,>=0.4.1->tensorboard<2.1.0,>=2.0.0->tensorflow_gpu==2.0.0) (3.1.0)\n"
          ],
          "name": "stdout"
        }
      ]
    },
    {
      "cell_type": "code",
      "metadata": {
        "id": "fXz3DT2gXVBA",
        "colab_type": "code",
        "outputId": "c59af244-cb15-4309-fa69-dad6647b2da9",
        "colab": {
          "base_uri": "https://localhost:8080/",
          "height": 159
        }
      },
      "source": [
        "pip install keras==2.3.1"
      ],
      "execution_count": 2,
      "outputs": [
        {
          "output_type": "stream",
          "text": [
            "Requirement already satisfied: keras==2.3.1 in /usr/local/lib/python3.6/dist-packages (2.3.1)\n",
            "Requirement already satisfied: scipy>=0.14 in /usr/local/lib/python3.6/dist-packages (from keras==2.3.1) (1.4.1)\n",
            "Requirement already satisfied: six>=1.9.0 in /usr/local/lib/python3.6/dist-packages (from keras==2.3.1) (1.12.0)\n",
            "Requirement already satisfied: numpy>=1.9.1 in /usr/local/lib/python3.6/dist-packages (from keras==2.3.1) (1.18.4)\n",
            "Requirement already satisfied: keras-applications>=1.0.6 in /usr/local/lib/python3.6/dist-packages (from keras==2.3.1) (1.0.8)\n",
            "Requirement already satisfied: pyyaml in /usr/local/lib/python3.6/dist-packages (from keras==2.3.1) (3.13)\n",
            "Requirement already satisfied: keras-preprocessing>=1.0.5 in /usr/local/lib/python3.6/dist-packages (from keras==2.3.1) (1.1.0)\n",
            "Requirement already satisfied: h5py in /usr/local/lib/python3.6/dist-packages (from keras==2.3.1) (2.10.0)\n"
          ],
          "name": "stdout"
        }
      ]
    },
    {
      "cell_type": "code",
      "metadata": {
        "id": "LZt_GRDtL4o5",
        "colab_type": "code",
        "outputId": "9a2e8461-1e5a-4587-e1da-578475e38306",
        "colab": {
          "base_uri": "https://localhost:8080/",
          "height": 52
        }
      },
      "source": [
        "import keras\n",
        "keras.__version__"
      ],
      "execution_count": 3,
      "outputs": [
        {
          "output_type": "stream",
          "text": [
            "Using TensorFlow backend.\n"
          ],
          "name": "stderr"
        },
        {
          "output_type": "execute_result",
          "data": {
            "text/plain": [
              "'2.3.1'"
            ]
          },
          "metadata": {
            "tags": []
          },
          "execution_count": 3
        }
      ]
    },
    {
      "cell_type": "code",
      "metadata": {
        "id": "b3XrwaE6boqq",
        "colab_type": "code",
        "colab": {}
      },
      "source": [
        "from keras.datasets import imdb\n",
        "import numpy as np\n",
        "\n",
        "(train_data, train_labels), (test_data, test_labels) = imdb.load_data(num_words=10000)"
      ],
      "execution_count": 0,
      "outputs": []
    },
    {
      "cell_type": "code",
      "metadata": {
        "id": "coAZm5WacIf_",
        "colab_type": "code",
        "outputId": "0f1df963-17bb-4ccb-bcf6-38cb76820062",
        "colab": {
          "base_uri": "https://localhost:8080/",
          "height": 35
        }
      },
      "source": [
        "len(train_data)"
      ],
      "execution_count": 5,
      "outputs": [
        {
          "output_type": "execute_result",
          "data": {
            "text/plain": [
              "25000"
            ]
          },
          "metadata": {
            "tags": []
          },
          "execution_count": 5
        }
      ]
    },
    {
      "cell_type": "code",
      "metadata": {
        "id": "w2tYmt6TcIim",
        "colab_type": "code",
        "outputId": "c166fa11-44d6-4c7d-e819-e65266cb40f8",
        "colab": {
          "base_uri": "https://localhost:8080/",
          "height": 35
        }
      },
      "source": [
        "len(test_data)"
      ],
      "execution_count": 6,
      "outputs": [
        {
          "output_type": "execute_result",
          "data": {
            "text/plain": [
              "25000"
            ]
          },
          "metadata": {
            "tags": []
          },
          "execution_count": 6
        }
      ]
    },
    {
      "cell_type": "code",
      "metadata": {
        "id": "y-3x8NZmcIoO",
        "colab_type": "code",
        "outputId": "01975405-97fc-4f7f-d97e-703f1fbd7a41",
        "colab": {
          "base_uri": "https://localhost:8080/",
          "height": 55
        }
      },
      "source": [
        "word_index = imdb.get_word_index()\n",
        "reverse_word_index = dict([(value, key) for (key, value) in word_index.items()])\n",
        "decoded_review = ' '.join([reverse_word_index.get(i-3, '?') for i in train_data[0]])\n",
        "decoded_review"
      ],
      "execution_count": 7,
      "outputs": [
        {
          "output_type": "execute_result",
          "data": {
            "text/plain": [
              "\"? this film was just brilliant casting location scenery story direction everyone's really suited the part they played and you could just imagine being there robert ? is an amazing actor and now the same being director ? father came from the same scottish island as myself so i loved the fact there was a real connection with this film the witty remarks throughout the film were great it was just brilliant so much that i bought the film as soon as it was released for ? and would recommend it to everyone to watch and the fly fishing was amazing really cried at the end it was so sad and you know what they say if you cry at a film it must have been good and this definitely was also ? to the two little boy's that played the ? of norman and paul they were just brilliant children are often left out of the ? list i think because the stars that play them all grown up are such a big profile for the whole film but these children are amazing and should be praised for what they have done don't you think the whole story was so lovely because it was true and was someone's life after all that was shared with us all\""
            ]
          },
          "metadata": {
            "tags": []
          },
          "execution_count": 7
        }
      ]
    },
    {
      "cell_type": "code",
      "metadata": {
        "id": "Cj-bBYP3cIrG",
        "colab_type": "code",
        "outputId": "aa2ab1c5-6883-4034-9979-9478348509be",
        "colab": {
          "base_uri": "https://localhost:8080/",
          "height": 35
        }
      },
      "source": [
        "train_labels[0:10]"
      ],
      "execution_count": 8,
      "outputs": [
        {
          "output_type": "execute_result",
          "data": {
            "text/plain": [
              "array([1, 0, 0, 1, 0, 0, 1, 0, 1, 0])"
            ]
          },
          "metadata": {
            "tags": []
          },
          "execution_count": 8
        }
      ]
    },
    {
      "cell_type": "code",
      "metadata": {
        "id": "Xz_pCcgecIt9",
        "colab_type": "code",
        "colab": {}
      },
      "source": [
        "import numpy as np\n",
        "\n",
        "def vectorize_sequences(sequences, dimension = 10000):\n",
        "  results = np.zeros((len(sequences), dimension))\n",
        "  for i, sequence in enumerate(sequences):\n",
        "    results[i, sequence] = 1.\n",
        "  return results\n",
        "\n",
        "# 훈련 데이터를 벡터로 변환\n",
        "x_train = vectorize_sequences(train_data)\n",
        "# 테스트 데이터를 벡터로 변환\n",
        "x_test = vectorize_sequences(test_data)\n",
        "\n",
        "# 레이블을 벡터로 변환\n",
        "y_train = np.asarray(train_labels).astype('float32')\n",
        "y_test = np.asarray(test_labels).astype('float32')"
      ],
      "execution_count": 0,
      "outputs": []
    },
    {
      "cell_type": "code",
      "metadata": {
        "id": "UFxYGw_3eYv9",
        "colab_type": "code",
        "colab": {}
      },
      "source": [
        "from keras import models\n",
        "from keras import layers\n",
        "\n",
        "# ==> Insert your code here\n",
        "original_model = models.Sequential()\n",
        "original_model.add(layers.Dense(16, activation='relu', input_shape=(10000, )))\n",
        "original_model.add(layers.Dense(16, activation='relu'))\n",
        "original_model.add(layers.Dense(1, activation='sigmoid'))\n",
        "\n",
        "\n",
        "original_model.compile(optimizer='rmsprop',\n",
        "                       loss='binary_crossentropy',\n",
        "                       metrics=['accuracy'])"
      ],
      "execution_count": 0,
      "outputs": []
    },
    {
      "cell_type": "code",
      "metadata": {
        "id": "RoXzkzgmNogH",
        "colab_type": "code",
        "outputId": "5931d2c5-7ed2-46c4-fcfb-94b40ea41814",
        "colab": {
          "base_uri": "https://localhost:8080/",
          "height": 746
        }
      },
      "source": [
        "original_hist = original_model.fit(x_train, y_train,\n",
        "                                   epochs=20,\n",
        "                                   batch_size=512,\n",
        "                                   validation_data=(x_test, y_test))"
      ],
      "execution_count": 11,
      "outputs": [
        {
          "output_type": "stream",
          "text": [
            "Train on 25000 samples, validate on 25000 samples\n",
            "Epoch 1/20\n",
            "25000/25000 [==============================] - 2s 98us/step - loss: 0.4247 - accuracy: 0.8256 - val_loss: 0.3305 - val_accuracy: 0.8751\n",
            "Epoch 2/20\n",
            "25000/25000 [==============================] - 2s 81us/step - loss: 0.2485 - accuracy: 0.9102 - val_loss: 0.2879 - val_accuracy: 0.8863\n",
            "Epoch 3/20\n",
            "25000/25000 [==============================] - 2s 82us/step - loss: 0.1936 - accuracy: 0.9315 - val_loss: 0.3582 - val_accuracy: 0.8566\n",
            "Epoch 4/20\n",
            "25000/25000 [==============================] - 2s 81us/step - loss: 0.1623 - accuracy: 0.9425 - val_loss: 0.3439 - val_accuracy: 0.8668\n",
            "Epoch 5/20\n",
            "25000/25000 [==============================] - 2s 82us/step - loss: 0.1393 - accuracy: 0.9515 - val_loss: 0.3201 - val_accuracy: 0.8768\n",
            "Epoch 6/20\n",
            "25000/25000 [==============================] - 2s 81us/step - loss: 0.1186 - accuracy: 0.9592 - val_loss: 0.3557 - val_accuracy: 0.8697\n",
            "Epoch 7/20\n",
            "25000/25000 [==============================] - 2s 83us/step - loss: 0.1081 - accuracy: 0.9617 - val_loss: 0.3710 - val_accuracy: 0.8693\n",
            "Epoch 8/20\n",
            "25000/25000 [==============================] - 2s 82us/step - loss: 0.0933 - accuracy: 0.9686 - val_loss: 0.4297 - val_accuracy: 0.8587\n",
            "Epoch 9/20\n",
            "25000/25000 [==============================] - 2s 82us/step - loss: 0.0834 - accuracy: 0.9723 - val_loss: 0.4370 - val_accuracy: 0.8626\n",
            "Epoch 10/20\n",
            "25000/25000 [==============================] - 2s 81us/step - loss: 0.0756 - accuracy: 0.9747 - val_loss: 0.4514 - val_accuracy: 0.8617\n",
            "Epoch 11/20\n",
            "25000/25000 [==============================] - 2s 82us/step - loss: 0.0621 - accuracy: 0.9808 - val_loss: 0.4829 - val_accuracy: 0.8610\n",
            "Epoch 12/20\n",
            "25000/25000 [==============================] - 2s 82us/step - loss: 0.0570 - accuracy: 0.9826 - val_loss: 0.5606 - val_accuracy: 0.8513\n",
            "Epoch 13/20\n",
            "25000/25000 [==============================] - 2s 82us/step - loss: 0.0458 - accuracy: 0.9874 - val_loss: 0.5467 - val_accuracy: 0.8580\n",
            "Epoch 14/20\n",
            "25000/25000 [==============================] - 2s 81us/step - loss: 0.0411 - accuracy: 0.9883 - val_loss: 0.5830 - val_accuracy: 0.8562\n",
            "Epoch 15/20\n",
            "25000/25000 [==============================] - 2s 82us/step - loss: 0.0350 - accuracy: 0.9900 - val_loss: 0.6327 - val_accuracy: 0.8516\n",
            "Epoch 16/20\n",
            "25000/25000 [==============================] - 2s 82us/step - loss: 0.0311 - accuracy: 0.9909 - val_loss: 0.6610 - val_accuracy: 0.8517\n",
            "Epoch 17/20\n",
            "25000/25000 [==============================] - 2s 82us/step - loss: 0.0235 - accuracy: 0.9940 - val_loss: 0.6941 - val_accuracy: 0.8506\n",
            "Epoch 18/20\n",
            "25000/25000 [==============================] - 2s 83us/step - loss: 0.0219 - accuracy: 0.9949 - val_loss: 0.7817 - val_accuracy: 0.8443\n",
            "Epoch 19/20\n",
            "25000/25000 [==============================] - 2s 81us/step - loss: 0.0176 - accuracy: 0.9950 - val_loss: 0.7828 - val_accuracy: 0.8489\n",
            "Epoch 20/20\n",
            "25000/25000 [==============================] - 2s 82us/step - loss: 0.0149 - accuracy: 0.9963 - val_loss: 0.8255 - val_accuracy: 0.8486\n"
          ],
          "name": "stdout"
        }
      ]
    },
    {
      "cell_type": "code",
      "metadata": {
        "id": "aQVi7UmyNzNd",
        "colab_type": "code",
        "colab": {}
      },
      "source": [
        "# ==> Insert your code here\n",
        "smaller_model = models.Sequential()\n",
        "smaller_model.add(layers.Dense(6, activation='relu', input_shape=(10000, )))\n",
        "smaller_model.add(layers.Dense(6, activation='relu'))\n",
        "smaller_model.add(layers.Dense(1, activation='sigmoid'))\n",
        "\n",
        "smaller_model.compile(optimizer='rmsprop',\n",
        "                      loss='binary_crossentropy',\n",
        "                      metrics=['accuracy'])"
      ],
      "execution_count": 0,
      "outputs": []
    },
    {
      "cell_type": "code",
      "metadata": {
        "id": "ns5e1sqROoy-",
        "colab_type": "code",
        "outputId": "deb162d6-079a-47f1-c26e-ab1417619f0f",
        "colab": {
          "base_uri": "https://localhost:8080/",
          "height": 746
        }
      },
      "source": [
        "smaller_model_hist = smaller_model.fit(x_train, y_train,\n",
        "                                       epochs=20,\n",
        "                                       batch_size=512,\n",
        "                                       validation_data=(x_test, y_test))"
      ],
      "execution_count": 13,
      "outputs": [
        {
          "output_type": "stream",
          "text": [
            "Train on 25000 samples, validate on 25000 samples\n",
            "Epoch 1/20\n",
            "25000/25000 [==============================] - 2s 86us/step - loss: 0.5993 - acc: 0.6997 - val_loss: 0.4997 - val_acc: 0.8323\n",
            "Epoch 2/20\n",
            "25000/25000 [==============================] - 2s 82us/step - loss: 0.3931 - acc: 0.8856 - val_loss: 0.3561 - val_acc: 0.8812\n",
            "Epoch 3/20\n",
            "25000/25000 [==============================] - 2s 83us/step - loss: 0.2786 - acc: 0.9122 - val_loss: 0.3023 - val_acc: 0.8872\n",
            "Epoch 4/20\n",
            "25000/25000 [==============================] - 2s 81us/step - loss: 0.2209 - acc: 0.9255 - val_loss: 0.2834 - val_acc: 0.8894\n",
            "Epoch 5/20\n",
            "25000/25000 [==============================] - 2s 82us/step - loss: 0.1870 - acc: 0.9353 - val_loss: 0.2807 - val_acc: 0.8885\n",
            "Epoch 6/20\n",
            "25000/25000 [==============================] - 2s 81us/step - loss: 0.1634 - acc: 0.9442 - val_loss: 0.2884 - val_acc: 0.8856\n",
            "Epoch 7/20\n",
            "25000/25000 [==============================] - 2s 82us/step - loss: 0.1462 - acc: 0.9511 - val_loss: 0.2996 - val_acc: 0.8822\n",
            "Epoch 8/20\n",
            "25000/25000 [==============================] - 2s 82us/step - loss: 0.1321 - acc: 0.9564 - val_loss: 0.3160 - val_acc: 0.8795\n",
            "Epoch 9/20\n",
            "25000/25000 [==============================] - 2s 82us/step - loss: 0.1191 - acc: 0.9614 - val_loss: 0.3312 - val_acc: 0.8764\n",
            "Epoch 10/20\n",
            "25000/25000 [==============================] - 2s 82us/step - loss: 0.1084 - acc: 0.9656 - val_loss: 0.3450 - val_acc: 0.8740\n",
            "Epoch 11/20\n",
            "25000/25000 [==============================] - 2s 82us/step - loss: 0.0992 - acc: 0.9685 - val_loss: 0.3713 - val_acc: 0.8688\n",
            "Epoch 12/20\n",
            "25000/25000 [==============================] - 2s 81us/step - loss: 0.0909 - acc: 0.9712 - val_loss: 0.3900 - val_acc: 0.8669\n",
            "Epoch 13/20\n",
            "25000/25000 [==============================] - 2s 82us/step - loss: 0.0831 - acc: 0.9748 - val_loss: 0.4045 - val_acc: 0.8677\n",
            "Epoch 14/20\n",
            "25000/25000 [==============================] - 2s 83us/step - loss: 0.0750 - acc: 0.9768 - val_loss: 0.4283 - val_acc: 0.8652\n",
            "Epoch 15/20\n",
            "25000/25000 [==============================] - 2s 82us/step - loss: 0.0698 - acc: 0.9784 - val_loss: 0.4464 - val_acc: 0.8636\n",
            "Epoch 16/20\n",
            "25000/25000 [==============================] - 2s 81us/step - loss: 0.0622 - acc: 0.9818 - val_loss: 0.4704 - val_acc: 0.8609\n",
            "Epoch 17/20\n",
            "25000/25000 [==============================] - 2s 83us/step - loss: 0.0572 - acc: 0.9832 - val_loss: 0.5115 - val_acc: 0.8573\n",
            "Epoch 18/20\n",
            "25000/25000 [==============================] - 2s 84us/step - loss: 0.0523 - acc: 0.9852 - val_loss: 0.5172 - val_acc: 0.8578\n",
            "Epoch 19/20\n",
            "25000/25000 [==============================] - 2s 83us/step - loss: 0.0471 - acc: 0.9877 - val_loss: 0.5411 - val_acc: 0.8564\n",
            "Epoch 20/20\n",
            "25000/25000 [==============================] - 2s 82us/step - loss: 0.0431 - acc: 0.9890 - val_loss: 0.5697 - val_acc: 0.8548\n"
          ],
          "name": "stdout"
        }
      ]
    },
    {
      "cell_type": "code",
      "metadata": {
        "id": "D01LE7HzOo1W",
        "colab_type": "code",
        "outputId": "7b1bf421-8a17-4fa7-f960-3a4599419f8f",
        "colab": {
          "base_uri": "https://localhost:8080/",
          "height": 279
        }
      },
      "source": [
        "import matplotlib.pyplot as plt\n",
        "\n",
        "epochs = range(1, 21)\n",
        "original_val_loss = original_hist.history['val_loss']\n",
        "smaller_model_val_loss = smaller_model_hist.history['val_loss']\n",
        "\n",
        "plt.plot(epochs, original_val_loss, 'b+', label='Original model')\n",
        "plt.plot(epochs, smaller_model_val_loss, 'bo', label='Smaller model')\n",
        "plt.xlabel('Epochs')\n",
        "plt.ylabel('Validation loss')\n",
        "plt.legend()\n",
        "\n",
        "plt.show()"
      ],
      "execution_count": 16,
      "outputs": [
        {
          "output_type": "display_data",
          "data": {
            "image/png": "[encoded data removed]",
            "text/plain": [
              "<Figure size 432x288 with 1 Axes>"
            ]
          },
          "metadata": {
            "tags": [],
            "needs_background": "light"
          }
        }
      ]
    },
    {
      "cell_type": "code",
      "metadata": {
        "id": "e9Q-e4k7Oo3t",
        "colab_type": "code",
        "colab": {}
      },
      "source": [
        "# ==> Insert your code here\n",
        "bigger_model = models.Sequential()\n",
        "bigger_model.add(layers.Dense(1024, activation='relu', input_shape=(10000, )))\n",
        "bigger_model.add(layers.Dense(1024, activation='relu'))\n",
        "bigger_model.add(layers.Dense(1, activation='sigmoid'))\n",
        "\n",
        "bigger_model.compile(optimizer='rmsprop',\n",
        "                     loss='binary_crossentropy',\n",
        "                     metrics=['accuracy'])"
      ],
      "execution_count": 0,
      "outputs": []
    },
    {
      "cell_type": "code",
      "metadata": {
        "id": "NgwZ8fxNOo6W",
        "colab_type": "code",
        "outputId": "ecb24feb-efe6-4247-d833-6cc995213908",
        "colab": {
          "base_uri": "https://localhost:8080/",
          "height": 746
        }
      },
      "source": [
        "bigger_model_hist = bigger_model.fit(x_train, y_train,\n",
        "                                     epochs=20,\n",
        "                                     batch_size=512,\n",
        "                                     validation_data=(x_test, y_test))"
      ],
      "execution_count": 22,
      "outputs": [
        {
          "output_type": "stream",
          "text": [
            "Train on 25000 samples, validate on 25000 samples\n",
            "Epoch 1/20\n",
            "25000/25000 [==============================] - 3s 102us/step - loss: 0.5554 - accuracy: 0.7842 - val_loss: 0.2986 - val_accuracy: 0.8838\n",
            "Epoch 2/20\n",
            "25000/25000 [==============================] - 2s 99us/step - loss: 0.2271 - accuracy: 0.9109 - val_loss: 0.3377 - val_accuracy: 0.8629\n",
            "Epoch 3/20\n",
            "25000/25000 [==============================] - 2s 98us/step - loss: 0.1214 - accuracy: 0.9566 - val_loss: 0.4425 - val_accuracy: 0.8463\n",
            "Epoch 4/20\n",
            "25000/25000 [==============================] - 2s 99us/step - loss: 0.0744 - accuracy: 0.9823 - val_loss: 0.4425 - val_accuracy: 0.8851\n",
            "Epoch 5/20\n",
            "25000/25000 [==============================] - 2s 97us/step - loss: 0.0860 - accuracy: 0.9862 - val_loss: 0.4767 - val_accuracy: 0.8840\n",
            "Epoch 6/20\n",
            "25000/25000 [==============================] - 2s 99us/step - loss: 0.0837 - accuracy: 0.9857 - val_loss: 0.4345 - val_accuracy: 0.8810\n",
            "Epoch 7/20\n",
            "25000/25000 [==============================] - 2s 99us/step - loss: 9.0713e-04 - accuracy: 1.0000 - val_loss: 0.6480 - val_accuracy: 0.8845\n",
            "Epoch 8/20\n",
            "25000/25000 [==============================] - 2s 98us/step - loss: 5.7383e-05 - accuracy: 1.0000 - val_loss: 0.8203 - val_accuracy: 0.8825\n",
            "Epoch 9/20\n",
            "25000/25000 [==============================] - 2s 98us/step - loss: 5.3933e-06 - accuracy: 1.0000 - val_loss: 1.0139 - val_accuracy: 0.8760\n",
            "Epoch 10/20\n",
            "25000/25000 [==============================] - 2s 98us/step - loss: 6.7040e-07 - accuracy: 1.0000 - val_loss: 1.1041 - val_accuracy: 0.8836\n",
            "Epoch 11/20\n",
            "25000/25000 [==============================] - 2s 97us/step - loss: 1.1052e-07 - accuracy: 1.0000 - val_loss: 1.2373 - val_accuracy: 0.8828\n",
            "Epoch 12/20\n",
            "25000/25000 [==============================] - 2s 99us/step - loss: 2.7734e-08 - accuracy: 1.0000 - val_loss: 1.3171 - val_accuracy: 0.8830\n",
            "Epoch 13/20\n",
            "25000/25000 [==============================] - 2s 98us/step - loss: 1.3545e-08 - accuracy: 1.0000 - val_loss: 1.3627 - val_accuracy: 0.8826\n",
            "Epoch 14/20\n",
            "25000/25000 [==============================] - 2s 98us/step - loss: 8.9664e-09 - accuracy: 1.0000 - val_loss: 1.3853 - val_accuracy: 0.8827\n",
            "Epoch 15/20\n",
            "25000/25000 [==============================] - 2s 99us/step - loss: 6.7202e-09 - accuracy: 1.0000 - val_loss: 1.4059 - val_accuracy: 0.8824\n",
            "Epoch 16/20\n",
            "25000/25000 [==============================] - 2s 98us/step - loss: 5.3839e-09 - accuracy: 1.0000 - val_loss: 1.4215 - val_accuracy: 0.8823\n",
            "Epoch 17/20\n",
            "25000/25000 [==============================] - 2s 96us/step - loss: 4.5059e-09 - accuracy: 1.0000 - val_loss: 1.4338 - val_accuracy: 0.8824\n",
            "Epoch 18/20\n",
            "25000/25000 [==============================] - 2s 97us/step - loss: 3.8759e-09 - accuracy: 1.0000 - val_loss: 1.4442 - val_accuracy: 0.8825\n",
            "Epoch 19/20\n",
            "25000/25000 [==============================] - 2s 98us/step - loss: 3.4009e-09 - accuracy: 1.0000 - val_loss: 1.4543 - val_accuracy: 0.8825\n",
            "Epoch 20/20\n",
            "25000/25000 [==============================] - 2s 96us/step - loss: 3.0389e-09 - accuracy: 1.0000 - val_loss: 1.4631 - val_accuracy: 0.8825\n"
          ],
          "name": "stdout"
        }
      ]
    },
    {
      "cell_type": "code",
      "metadata": {
        "id": "YRgbD4O6O9w_",
        "colab_type": "code",
        "outputId": "7ea46799-7aa7-408b-fd77-1fee0d1a67d1",
        "colab": {
          "base_uri": "https://localhost:8080/",
          "height": 279
        }
      },
      "source": [
        "bigger_model_val_loss = bigger_model_hist.history['val_loss']\n",
        "\n",
        "plt.plot(epochs, original_val_loss, 'b+', label='Original model')\n",
        "plt.plot(epochs, bigger_model_val_loss, 'bo', label='Bigger model')\n",
        "plt.xlabel('Epochs')\n",
        "plt.ylabel('Validation loss')\n",
        "plt.legend()\n",
        "\n",
        "plt.show()"
      ],
      "execution_count": 23,
      "outputs": [
        {
          "output_type": "display_data",
          "data": {
            "image/png": "[encoded data removed]",
            "text/plain": [
              "<Figure size 432x288 with 1 Axes>"
            ]
          },
          "metadata": {
            "tags": [],
            "needs_background": "light"
          }
        }
      ]
    },
    {
      "cell_type": "code",
      "metadata": {
        "id": "5winM3AwO9zZ",
        "colab_type": "code",
        "outputId": "398554f4-120d-42ad-a050-a6b5daa3a157",
        "colab": {
          "base_uri": "https://localhost:8080/",
          "height": 279
        }
      },
      "source": [
        "original_train_loss = original_hist.history['loss']\n",
        "bigger_model_train_loss = bigger_model_hist.history['loss']\n",
        "\n",
        "plt.plot(epochs, original_train_loss, 'b+', label='Original model')\n",
        "plt.plot(epochs, bigger_model_train_loss, 'bo', label='Bigger model')\n",
        "plt.xlabel('Epochs')\n",
        "plt.ylabel('Training loss')\n",
        "plt.legend()\n",
        "\n",
        "plt.show()"
      ],
      "execution_count": 24,
      "outputs": [
        {
          "output_type": "display_data",
          "data": {
            "image/png": "[encoded data removed]",
            "text/plain": [
              "<Figure size 432x288 with 1 Axes>"
            ]
          },
          "metadata": {
            "tags": [],
            "needs_background": "light"
          }
        }
      ]
    },
    {
      "cell_type": "code",
      "metadata": {
        "id": "_J0LxkKxO92Q",
        "colab_type": "code",
        "colab": {}
      },
      "source": [
        ""
      ],
      "execution_count": 0,
      "outputs": []
    }
  ]
}