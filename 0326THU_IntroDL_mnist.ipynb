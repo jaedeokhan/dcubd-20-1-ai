{
  "nbformat": 4,
  "nbformat_minor": 0,
  "metadata": {
    "colab": {
      "name": "0326THU_IntroDL-mnist.ipynb",
      "provenance": [],
      "collapsed_sections": [],
      "include_colab_link": true
    },
    "kernelspec": {
      "name": "python3",
      "display_name": "Python 3"
    },
    "accelerator": "GPU"
  },
  "cells": [
    {
      "cell_type": "markdown",
      "metadata": {
        "id": "view-in-github",
        "colab_type": "text"
      },
      "source": [
        "<a href=\"https://colab.research.google.com/github/jaedeokhan/20_1_AI_Introduce/blob/master/0326THU_IntroDL_mnist.ipynb\" target=\"_parent\"><img src=\"https://colab.research.google.com/assets/colab-badge.svg\" alt=\"Open In Colab\"/></a>"
      ]
    },
    {
      "cell_type": "markdown",
      "metadata": {
        "id": "ZmGso1V3ML3H",
        "colab_type": "text"
      },
      "source": [
        ""
      ]
    },
    {
      "cell_type": "code",
      "metadata": {
        "id": "s1QbVC_Bb9i7",
        "colab_type": "code",
        "outputId": "ae9eccf2-dc11-4122-ed94-b23d771ddd6b",
        "colab": {
          "base_uri": "https://localhost:8080/",
          "height": 160
        }
      },
      "source": [
        "pip install keras"
      ],
      "execution_count": 0,
      "outputs": [
        {
          "output_type": "stream",
          "text": [
            "Requirement already satisfied: keras in /usr/local/lib/python3.6/dist-packages (2.2.5)\n",
            "Requirement already satisfied: six>=1.9.0 in /usr/local/lib/python3.6/dist-packages (from keras) (1.12.0)\n",
            "Requirement already satisfied: scipy>=0.14 in /usr/local/lib/python3.6/dist-packages (from keras) (1.4.1)\n",
            "Requirement already satisfied: pyyaml in /usr/local/lib/python3.6/dist-packages (from keras) (3.13)\n",
            "Requirement already satisfied: keras-applications>=1.0.8 in /usr/local/lib/python3.6/dist-packages (from keras) (1.0.8)\n",
            "Requirement already satisfied: h5py in /usr/local/lib/python3.6/dist-packages (from keras) (2.8.0)\n",
            "Requirement already satisfied: keras-preprocessing>=1.1.0 in /usr/local/lib/python3.6/dist-packages (from keras) (1.1.0)\n",
            "Requirement already satisfied: numpy>=1.9.1 in /usr/local/lib/python3.6/dist-packages (from keras) (1.18.2)\n"
          ],
          "name": "stdout"
        }
      ]
    },
    {
      "cell_type": "markdown",
      "metadata": {
        "id": "4uCkXVOQhxeU",
        "colab_type": "text"
      },
      "source": [
        "<strong>MNIST 데이터셋</strong> 불러오기"
      ]
    },
    {
      "cell_type": "code",
      "metadata": {
        "id": "9WiLuAEUblLk",
        "colab_type": "code",
        "outputId": "b40fdd76-acb7-475d-b4e6-4c4fbe5aa839",
        "colab": {
          "base_uri": "https://localhost:8080/",
          "height": 117
        }
      },
      "source": [
        "from keras.datasets import mnist\n",
        "(train_images, train_labels), (test_images, test_labels) = mnist.load_data()"
      ],
      "execution_count": 0,
      "outputs": [
        {
          "output_type": "stream",
          "text": [
            "Using TensorFlow backend.\n"
          ],
          "name": "stderr"
        },
        {
          "output_type": "display_data",
          "data": {
            "text/html": [
              "<p style=\"color: red;\">\n",
              "The default version of TensorFlow in Colab will switch to TensorFlow 2.x on the 27th of March, 2020.<br>\n",
              "We recommend you <a href=\"https://www.tensorflow.org/guide/migrate\" target=\"_blank\">upgrade</a> now\n",
              "or ensure your notebook will continue to use TensorFlow 1.x via the <code>%tensorflow_version 1.x</code> magic:\n",
              "<a href=\"https://colab.research.google.com/notebooks/tensorflow_version.ipynb\" target=\"_blank\">more info</a>.</p>\n"
            ],
            "text/plain": [
              "<IPython.core.display.HTML object>"
            ]
          },
          "metadata": {
            "tags": []
          }
        },
        {
          "output_type": "stream",
          "text": [
            "Downloading data from https://s3.amazonaws.com/img-datasets/mnist.npz\n",
            "11493376/11490434 [==============================] - 1s 0us/step\n"
          ],
          "name": "stdout"
        }
      ]
    },
    {
      "cell_type": "code",
      "metadata": {
        "id": "TQLKm5yjNuCk",
        "colab_type": "code",
        "colab": {}
      },
      "source": [
        ""
      ],
      "execution_count": 0,
      "outputs": []
    },
    {
      "cell_type": "markdown",
      "metadata": {
        "id": "szsRWfd4iGy4",
        "colab_type": "text"
      },
      "source": [
        "<strong>MNIST 데이터셋</strong> 살펴보기"
      ]
    },
    {
      "cell_type": "code",
      "metadata": {
        "id": "ndN7PMnUce2D",
        "colab_type": "code",
        "outputId": "62141027-7e40-4f39-8d6f-d23f2c9964b2",
        "colab": {
          "base_uri": "https://localhost:8080/",
          "height": 34
        }
      },
      "source": [
        "train_images.shape"
      ],
      "execution_count": 0,
      "outputs": [
        {
          "output_type": "execute_result",
          "data": {
            "text/plain": [
              "(60000, 28, 28)"
            ]
          },
          "metadata": {
            "tags": []
          },
          "execution_count": 3
        }
      ]
    },
    {
      "cell_type": "code",
      "metadata": {
        "id": "TOGqj3OCce-j",
        "colab_type": "code",
        "outputId": "01fb0115-8470-409a-b09c-7d7ffed7339d",
        "colab": {
          "base_uri": "https://localhost:8080/",
          "height": 34
        }
      },
      "source": [
        "len(train_labels)"
      ],
      "execution_count": 0,
      "outputs": [
        {
          "output_type": "execute_result",
          "data": {
            "text/plain": [
              "60000"
            ]
          },
          "metadata": {
            "tags": []
          },
          "execution_count": 4
        }
      ]
    },
    {
      "cell_type": "code",
      "metadata": {
        "id": "Cv_Z2gOxcfBT",
        "colab_type": "code",
        "outputId": "65a7ed9b-3b24-474d-c343-5ea3107d9520",
        "colab": {
          "base_uri": "https://localhost:8080/",
          "height": 34
        }
      },
      "source": [
        "train_labels"
      ],
      "execution_count": 0,
      "outputs": [
        {
          "output_type": "execute_result",
          "data": {
            "text/plain": [
              "array([5, 0, 4, ..., 5, 6, 8], dtype=uint8)"
            ]
          },
          "metadata": {
            "tags": []
          },
          "execution_count": 5
        }
      ]
    },
    {
      "cell_type": "code",
      "metadata": {
        "id": "FyGQB6BxcfGi",
        "colab_type": "code",
        "outputId": "4dceb2e7-fa7f-4b48-a034-b0581ee33811",
        "colab": {
          "base_uri": "https://localhost:8080/",
          "height": 34
        }
      },
      "source": [
        "test_images.shape"
      ],
      "execution_count": 0,
      "outputs": [
        {
          "output_type": "execute_result",
          "data": {
            "text/plain": [
              "(10000, 28, 28)"
            ]
          },
          "metadata": {
            "tags": []
          },
          "execution_count": 6
        }
      ]
    },
    {
      "cell_type": "code",
      "metadata": {
        "id": "O48Y2taLctYS",
        "colab_type": "code",
        "outputId": "c91557c7-837e-4549-87cc-7eb7a70e984e",
        "colab": {
          "base_uri": "https://localhost:8080/",
          "height": 34
        }
      },
      "source": [
        "len(test_images)"
      ],
      "execution_count": 0,
      "outputs": [
        {
          "output_type": "execute_result",
          "data": {
            "text/plain": [
              "10000"
            ]
          },
          "metadata": {
            "tags": []
          },
          "execution_count": 7
        }
      ]
    },
    {
      "cell_type": "code",
      "metadata": {
        "id": "vR-YKFI4cta6",
        "colab_type": "code",
        "outputId": "1c3ef1c9-3113-48c8-a82a-d7d0c24f5103",
        "colab": {
          "base_uri": "https://localhost:8080/",
          "height": 34
        }
      },
      "source": [
        "test_labels"
      ],
      "execution_count": 0,
      "outputs": [
        {
          "output_type": "execute_result",
          "data": {
            "text/plain": [
              "array([7, 2, 1, ..., 4, 5, 6], dtype=uint8)"
            ]
          },
          "metadata": {
            "tags": []
          },
          "execution_count": 8
        }
      ]
    },
    {
      "cell_type": "code",
      "metadata": {
        "id": "WS7nbl-6indG",
        "colab_type": "code",
        "outputId": "34f9678a-a9f6-4f47-e8a8-1f8da31b2ec1",
        "colab": {
          "base_uri": "https://localhost:8080/",
          "height": 225
        }
      },
      "source": [
        "import numpy as np\n",
        "import matplotlib.pyplot as plt\n",
        "%matplotlib inline\n",
        "plt.figure(1, figsize=(12, 3.2))\n",
        "plt.subplots_adjust(wspace=0.5)\n",
        "plt.gray()\n",
        "for id in range(3):\n",
        "    plt.subplot(1, 3, id + 1)\n",
        "    img = train_images[id, :, :]\n",
        "    plt.pcolor(255 - img)\n",
        "    plt.text(24.5, 26, \"%d\" % train_labels[id],\n",
        "             color='cornflowerblue', fontsize=18)\n",
        "    plt.xlim(0, 27)\n",
        "    plt.ylim(27, 0)\n",
        "    plt.grid('on', color='white')\n",
        "plt.show()"
      ],
      "execution_count": 0,
      "outputs": [
        {
          "output_type": "display_data",
          "data": {
            "image/png": "[encoded data removed]",
            "text/plain": [
              "<Figure size 864x230.4 with 3 Axes>"
            ]
          },
          "metadata": {
            "tags": []
          }
        }
      ]
    },
    {
      "cell_type": "markdown",
      "metadata": {
        "id": "S8X4jYRPkwdg",
        "colab_type": "text"
      },
      "source": [
        "<strong>이미지 데이터</strong> 준비하기"
      ]
    },
    {
      "cell_type": "code",
      "metadata": {
        "id": "BWWzNfG5ctkb",
        "colab_type": "code",
        "colab": {}
      },
      "source": [
        "train_images = train_images.reshape((60000, 28*28))\n",
        "train_images = train_images.astype('float32') / 255\n",
        "\n",
        "test_images = test_images.reshape((10000, 28*28))\n",
        "test_images = test_images.astype('float32') / 255"
      ],
      "execution_count": 0,
      "outputs": []
    },
    {
      "cell_type": "markdown",
      "metadata": {
        "id": "s72FYon9k4zG",
        "colab_type": "text"
      },
      "source": [
        "<strong>학습 레이블 준비하기</strong> 준비하기"
      ]
    },
    {
      "cell_type": "code",
      "metadata": {
        "id": "Kq9b30sccfJL",
        "colab_type": "code",
        "colab": {}
      },
      "source": [
        "from keras.utils import to_categorical\n",
        "\n",
        "train_labels = to_categorical(train_labels)\n",
        "test_labels = to_categorical(test_labels)"
      ],
      "execution_count": 0,
      "outputs": []
    },
    {
      "cell_type": "markdown",
      "metadata": {
        "id": "2-_sUPBZjYQm",
        "colab_type": "text"
      },
      "source": [
        "<strong>2층 피드 포워드 네트워크 모델</strong> 설계하기\n"
      ]
    },
    {
      "cell_type": "code",
      "metadata": {
        "id": "tDbCD-afctdS",
        "colab_type": "code",
        "colab": {}
      },
      "source": [
        "from keras import models\n",
        "from keras import layers\n",
        "num_classes = 10"
      ],
      "execution_count": 0,
      "outputs": []
    },
    {
      "cell_type": "code",
      "metadata": {
        "id": "Nljs4P4xctfq",
        "colab_type": "code",
        "outputId": "22cdc0f3-1c68-4a15-b114-8f16fc2f9004",
        "colab": {
          "base_uri": "https://localhost:8080/",
          "height": 144
        }
      },
      "source": [
        "# 난수를 고정을 해준다.\n",
        "np.random.seed(1)\n",
        "network = models.Sequential()\n",
        "\n",
        "# 첫 번째 층 : Dense, 512 는 뉴런의 갯수, sigmoid = 0~1사이를 출력\n",
        "network.add(layers.Dense(512, activation='sigmoid', input_shape=(28*28,)))\n",
        "\n",
        "# num_classes = 10 , softmax : class의 확률 값으로 나온다.\n",
        "network.add(layers.Dense(num_classes, activation='softmax'))"
      ],
      "execution_count": 0,
      "outputs": [
        {
          "output_type": "stream",
          "text": [
            "WARNING:tensorflow:From /usr/local/lib/python3.6/dist-packages/keras/backend/tensorflow_backend.py:66: The name tf.get_default_graph is deprecated. Please use tf.compat.v1.get_default_graph instead.\n",
            "\n",
            "WARNING:tensorflow:From /usr/local/lib/python3.6/dist-packages/keras/backend/tensorflow_backend.py:541: The name tf.placeholder is deprecated. Please use tf.compat.v1.placeholder instead.\n",
            "\n",
            "WARNING:tensorflow:From /usr/local/lib/python3.6/dist-packages/keras/backend/tensorflow_backend.py:4432: The name tf.random_uniform is deprecated. Please use tf.random.uniform instead.\n",
            "\n"
          ],
          "name": "stdout"
        }
      ]
    },
    {
      "cell_type": "markdown",
      "metadata": {
        "id": "mLVSvZJ6kRMW",
        "colab_type": "text"
      },
      "source": [
        "<strong>모델 컴파일</strong> 수행하기\n",
        "  1. 손실함수 설정\n",
        "  2. 옵티마이저(optimizer) 설정\n",
        "  3. 훈련과 테스트 과정을 모니터링할 지표 설정하기"
      ]
    },
    {
      "cell_type": "code",
      "metadata": {
        "id": "XtexY6zJctiM",
        "colab_type": "code",
        "outputId": "c318ee6d-b8ec-4d3f-d555-7edd6db9c2d9",
        "colab": {
          "base_uri": "https://localhost:8080/",
          "height": 108
        }
      },
      "source": [
        "# optimizer = adam, momentom , loss = input, output을 최소화, 특정 값은 accuarcy 를 보겠다.\n",
        "network.compile(optimizer = 'rmsprop',\n",
        "                loss = 'categorical_crossentropy',\n",
        "                metrics=['accuracy'])"
      ],
      "execution_count": 0,
      "outputs": [
        {
          "output_type": "stream",
          "text": [
            "WARNING:tensorflow:From /usr/local/lib/python3.6/dist-packages/keras/optimizers.py:793: The name tf.train.Optimizer is deprecated. Please use tf.compat.v1.train.Optimizer instead.\n",
            "\n",
            "WARNING:tensorflow:From /usr/local/lib/python3.6/dist-packages/keras/backend/tensorflow_backend.py:3576: The name tf.log is deprecated. Please use tf.math.log instead.\n",
            "\n"
          ],
          "name": "stdout"
        }
      ]
    },
    {
      "cell_type": "markdown",
      "metadata": {
        "id": "sZhouIPHlItv",
        "colab_type": "text"
      },
      "source": [
        "<strong>fit 메서드</strong>를 호출하여 모델 학습하기"
      ]
    },
    {
      "cell_type": "code",
      "metadata": {
        "id": "8OZuN_pKcfLj",
        "colab_type": "code",
        "outputId": "6561391e-5ba7-4e08-a436-d8f1d7241253",
        "colab": {
          "base_uri": "https://localhost:8080/",
          "height": 774
        }
      },
      "source": [
        "import time\n",
        "\n",
        "startTime = time.time()\n",
        "# epochs = 횟수, batch_size = 128개로 쪼개서 한다. , validation_data = 설정\n",
        "history = network.fit(train_images, train_labels, epochs=10, batch_size=128, verbose=1, validation_data=(test_images, test_labels))\n",
        "print(\"Computation time:{0:.3f} sec\".format(time.time() - startTime))"
      ],
      "execution_count": 0,
      "outputs": [
        {
          "output_type": "stream",
          "text": [
            "WARNING:tensorflow:From /tensorflow-1.15.0/python3.6/tensorflow_core/python/ops/math_grad.py:1424: where (from tensorflow.python.ops.array_ops) is deprecated and will be removed in a future version.\n",
            "Instructions for updating:\n",
            "Use tf.where in 2.0, which has the same broadcast rule as np.where\n",
            "WARNING:tensorflow:From /usr/local/lib/python3.6/dist-packages/keras/backend/tensorflow_backend.py:1033: The name tf.assign_add is deprecated. Please use tf.compat.v1.assign_add instead.\n",
            "\n",
            "WARNING:tensorflow:From /usr/local/lib/python3.6/dist-packages/keras/backend/tensorflow_backend.py:1020: The name tf.assign is deprecated. Please use tf.compat.v1.assign instead.\n",
            "\n",
            "WARNING:tensorflow:From /usr/local/lib/python3.6/dist-packages/keras/backend/tensorflow_backend.py:3005: The name tf.Session is deprecated. Please use tf.compat.v1.Session instead.\n",
            "\n",
            "Train on 60000 samples, validate on 10000 samples\n",
            "Epoch 1/10\n",
            "WARNING:tensorflow:From /usr/local/lib/python3.6/dist-packages/keras/backend/tensorflow_backend.py:190: The name tf.get_default_session is deprecated. Please use tf.compat.v1.get_default_session instead.\n",
            "\n",
            "WARNING:tensorflow:From /usr/local/lib/python3.6/dist-packages/keras/backend/tensorflow_backend.py:197: The name tf.ConfigProto is deprecated. Please use tf.compat.v1.ConfigProto instead.\n",
            "\n",
            "WARNING:tensorflow:From /usr/local/lib/python3.6/dist-packages/keras/backend/tensorflow_backend.py:207: The name tf.global_variables is deprecated. Please use tf.compat.v1.global_variables instead.\n",
            "\n",
            "WARNING:tensorflow:From /usr/local/lib/python3.6/dist-packages/keras/backend/tensorflow_backend.py:216: The name tf.is_variable_initialized is deprecated. Please use tf.compat.v1.is_variable_initialized instead.\n",
            "\n",
            "WARNING:tensorflow:From /usr/local/lib/python3.6/dist-packages/keras/backend/tensorflow_backend.py:223: The name tf.variables_initializer is deprecated. Please use tf.compat.v1.variables_initializer instead.\n",
            "\n",
            "60000/60000 [==============================] - 10s 171us/step - loss: 0.4239 - acc: 0.8837 - val_loss: 0.2741 - val_acc: 0.9186\n",
            "Epoch 2/10\n",
            "60000/60000 [==============================] - 2s 26us/step - loss: 0.2352 - acc: 0.9312 - val_loss: 0.2053 - val_acc: 0.9357\n",
            "Epoch 3/10\n",
            "60000/60000 [==============================] - 2s 26us/step - loss: 0.1787 - acc: 0.9481 - val_loss: 0.1641 - val_acc: 0.9493\n",
            "Epoch 4/10\n",
            "60000/60000 [==============================] - 2s 25us/step - loss: 0.1399 - acc: 0.9590 - val_loss: 0.1320 - val_acc: 0.9601\n",
            "Epoch 5/10\n",
            "60000/60000 [==============================] - 2s 26us/step - loss: 0.1126 - acc: 0.9672 - val_loss: 0.1103 - val_acc: 0.9663\n",
            "Epoch 6/10\n",
            "60000/60000 [==============================] - 2s 26us/step - loss: 0.0931 - acc: 0.9727 - val_loss: 0.1006 - val_acc: 0.9687\n",
            "Epoch 7/10\n",
            "60000/60000 [==============================] - 2s 27us/step - loss: 0.0790 - acc: 0.9772 - val_loss: 0.0906 - val_acc: 0.9729\n",
            "Epoch 8/10\n",
            "60000/60000 [==============================] - 1s 25us/step - loss: 0.0674 - acc: 0.9806 - val_loss: 0.0845 - val_acc: 0.9734\n",
            "Epoch 9/10\n",
            "60000/60000 [==============================] - 2s 28us/step - loss: 0.0577 - acc: 0.9830 - val_loss: 0.0756 - val_acc: 0.9764\n",
            "Epoch 10/10\n",
            "60000/60000 [==============================] - 2s 27us/step - loss: 0.0506 - acc: 0.9853 - val_loss: 0.0744 - val_acc: 0.9771\n",
            "Computation time:24.609 sec\n"
          ],
          "name": "stdout"
        }
      ]
    },
    {
      "cell_type": "markdown",
      "metadata": {
        "id": "DM7pIU-PnU__",
        "colab_type": "text"
      },
      "source": [
        "<strong>테스트 데이터셋</strong>으로 학습 모델 평가하기"
      ]
    },
    {
      "cell_type": "code",
      "metadata": {
        "id": "kaB456EWcfN8",
        "colab_type": "code",
        "outputId": "1d210516-4272-4da5-cdfb-95c208f4185c",
        "colab": {
          "base_uri": "https://localhost:8080/",
          "height": 34
        }
      },
      "source": [
        "test_loss, test_acc = network.evaluate(test_images, test_labels)"
      ],
      "execution_count": 0,
      "outputs": [
        {
          "output_type": "stream",
          "text": [
            "10000/10000 [==============================] - 0s 38us/step\n"
          ],
          "name": "stdout"
        }
      ]
    },
    {
      "cell_type": "code",
      "metadata": {
        "id": "DiudwGIgcfQU",
        "colab_type": "code",
        "outputId": "5372027c-b30c-4142-9632-89c235dd019e",
        "colab": {
          "base_uri": "https://localhost:8080/",
          "height": 52
        }
      },
      "source": [
        "print('Test loss:', test_loss)\n",
        "print('Test accuracy:', test_acc)"
      ],
      "execution_count": 0,
      "outputs": [
        {
          "output_type": "stream",
          "text": [
            "Test loss: 0.0743584783874452\n",
            "Test accuracy: 0.9771\n"
          ],
          "name": "stdout"
        }
      ]
    },
    {
      "cell_type": "markdown",
      "metadata": {
        "id": "Lv7Q5SfLn2A4",
        "colab_type": "text"
      },
      "source": [
        "<strong>오차와 정답률 변화</strong> 살펴보기"
      ]
    },
    {
      "cell_type": "code",
      "metadata": {
        "id": "a3sWp19uoX0w",
        "colab_type": "code",
        "outputId": "92b50fdf-1dac-4ea2-b593-9e9afd1707bb",
        "colab": {
          "base_uri": "https://localhost:8080/",
          "height": 34
        }
      },
      "source": [
        "history.history.keys()"
      ],
      "execution_count": 0,
      "outputs": [
        {
          "output_type": "execute_result",
          "data": {
            "text/plain": [
              "dict_keys(['val_loss', 'val_acc', 'loss', 'acc'])"
            ]
          },
          "metadata": {
            "tags": []
          },
          "execution_count": 18
        }
      ]
    },
    {
      "cell_type": "code",
      "metadata": {
        "id": "uKgslCb9cfTC",
        "colab_type": "code",
        "outputId": "7436f3c8-1f05-4a55-f8e1-9915632594ed",
        "colab": {
          "base_uri": "https://localhost:8080/",
          "height": 283
        }
      },
      "source": [
        "import numpy as np\n",
        "import matplotlib.pyplot as plt\n",
        "%matplotlib inline\n",
        "\n",
        "plt.figure(1, figsize=(10, 4))\n",
        "plt.subplots_adjust(wspace=0.5)\n",
        "\n",
        "plt.subplot(1, 2, 1)\n",
        "plt.plot(history.history['loss'], label='training', color='black')\n",
        "plt.plot(history.history['val_loss'], label='test',\n",
        "         color='cornflowerblue')\n",
        "plt.ylim(0, 1)\n",
        "plt.legend()\n",
        "plt.grid()\n",
        "plt.xlabel('epoch')\n",
        "plt.ylabel('loss')\n",
        "\n",
        "plt.subplot(1, 2, 2)\n",
        "plt.plot(history.history['acc'], label='training', color='black')\n",
        "plt.plot(history.history['val_acc'],label='test', color='cornflowerblue')\n",
        "plt.ylim(0.8, 1)\n",
        "plt.legend()\n",
        "plt.grid()\n",
        "plt.xlabel('epoch')\n",
        "plt.ylabel('acc')\n",
        "plt.show()"
      ],
      "execution_count": 0,
      "outputs": [
        {
          "output_type": "display_data",
          "data": {
            "image/png": "[encoded data removed]",
            "text/plain": [
              "<Figure size 720x288 with 2 Axes>"
            ]
          },
          "metadata": {
            "tags": []
          }
        }
      ]
    },
    {
      "cell_type": "code",
      "metadata": {
        "id": "9M22a3NWpgPo",
        "colab_type": "code",
        "outputId": "1d8abebb-94b9-4c0a-8c40-88da9004d175",
        "colab": {
          "base_uri": "https://localhost:8080/",
          "height": 469
        }
      },
      "source": [
        "def show_prediction():\n",
        "    n_show = 96\n",
        "    y = network.predict(test_images) # (A)\n",
        "    plt.figure(2, figsize=(12, 8))\n",
        "    plt.gray()\n",
        "    for i in range(n_show):\n",
        "        plt.subplot(8, 12, i + 1)\n",
        "        x = test_images[i, :]\n",
        "        x = x.reshape(28, 28)\n",
        "        plt.pcolor(1 - x)\n",
        "        wk = y[i, :]\n",
        "        prediction = np.argmax(wk)\n",
        "        plt.text(22, 25.5, \"%d\" % prediction, fontsize=12)\n",
        "        if prediction != np.argmax(test_labels[i, :]):\n",
        "            plt.plot([0, 27], [1, 1], color='red', linewidth=5)\n",
        "        plt.xlim(0, 27)\n",
        "        plt.ylim(27, 0)\n",
        "        plt.xticks([], \"\")\n",
        "        plt.yticks([], \"\")\n",
        "#-- 메인\n",
        "show_prediction()\n",
        "plt.show()"
      ],
      "execution_count": 0,
      "outputs": [
        {
          "output_type": "display_data",
          "data": {
            "image/png": "[encoded data removed]",
            "text/plain": [
              "<Figure size 864x576 with 96 Axes>"
            ]
          },
          "metadata": {
            "tags": []
          }
        }
      ]
    },
    {
      "cell_type": "code",
      "metadata": {
        "id": "TE3470A5rlV5",
        "colab_type": "code",
        "colab": {}
      },
      "source": [
        ""
      ],
      "execution_count": 0,
      "outputs": []
    }
  ]
}